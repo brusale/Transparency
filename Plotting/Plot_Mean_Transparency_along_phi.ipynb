{
 "cells": [
  {
   "cell_type": "code",
   "execution_count": null,
   "metadata": {},
   "outputs": [],
   "source": [
    "import matplotlib.pyplot as plt\n",
    "import matplotlib as mpl\n",
    "import pandas as pd\n",
    "import numpy as np\n",
    "from pprint import pprint\n",
    "from collections import namedtuple\n",
    "import datetime\n",
    "\n",
    "\n",
    "mpl.rcParams['figure.figsize'] = (5,4)\n",
    "mpl.rcParams['figure.dpi'] = 150\n",
    "mpl.rcParams[\"image.origin\"] = 'lower'\n",
    " \n",
    "%matplotlib notebook"
   ]
  },
  {
   "cell_type": "code",
   "execution_count": null,
   "metadata": {},
   "outputs": [],
   "source": [
    "# Put your data folder\n",
    "data_folder = \"/home/alessandro/Scrivania/University/ML4ECAL/Transparency-master/DataPreparation\""
   ]
  },
  {
   "cell_type": "code",
   "execution_count": null,
   "metadata": {},
   "outputs": [],
   "source": [
    "# Array with filtered crystals\n",
    "data1 = np.load(f\"{data_folder}/output_ix30.npy\", allow_pickle=True)\n",
    "data2 = np.load(f\"{data_folder}/output_ix139.npy\", allow_pickle=True)\n",
    "\n",
    "data3 = np.load(f\"{data_folder}/output_ix94.npy\", allow_pickle=True)\n",
    "data4 = np.load(f\"{data_folder}/output_ix75.npy\", allow_pickle=True)\n",
    "\n",
    "data5 = np.load(f\"{data_folder}/output_ix164.npy\", allow_pickle=True)\n",
    "data6 = np.load(f\"{data_folder}/output_ix5.npy\", allow_pickle=True)\n",
    "\n",
    "df1 = pd.DataFrame(data = {'data1':data1, 'data2':data2})\n",
    "df2 = pd.DataFrame(data = {'data3':data3, 'data4':data4})\n",
    "df3 = pd.DataFrame(data = {'data5':data5, 'data6':data6})\n",
    "\n",
    "\n",
    "metadata = pd.read_csv(f\"{data_folder}/fill_metadata_2017_10min.csv\")"
   ]
  },
  {
   "cell_type": "code",
   "execution_count": null,
   "metadata": {},
   "outputs": [],
   "source": [
    "mean = []\n",
    "mean2 = []\n",
    "mean3 = []\n",
    "for i in range(0, np.size(data1)):\n",
    "    mean = np.append(mean, np.mean(df1.iloc[i].tolist()))\n",
    "    mean2 = np.append(mean2, np.mean(df2.iloc[i].tolist()))\n",
    "    mean3 = np.append(mean3, np.mean(df3.iloc[i].tolist()))\n",
    "    \n",
    "mean = mean[mean != -1]\n",
    "mean2 = mean2[mean2 != -1]\n",
    "mean3 = mean3[mean3 != -1]\n",
    "\n",
    "metadata = metadata.iloc[:len(mean)][mean!=-1]"
   ]
  },
  {
   "cell_type": "code",
   "execution_count": null,
   "metadata": {},
   "outputs": [],
   "source": [
    "metadata.head()"
   ]
  },
  {
   "cell_type": "code",
   "execution_count": null,
   "metadata": {},
   "outputs": [],
   "source": [
    "date = [datetime.datetime.fromtimestamp(ts) for ts in metadata.time]"
   ]
  },
  {
   "cell_type": "code",
   "execution_count": null,
   "metadata": {},
   "outputs": [],
   "source": [
    "plt.plot(date, mean, \".r-\", markersize=2, linewidth=0.75, label='|i$\\eta$| = 55')\n",
    "plt.plot(date, mean2, \".b-\", markersize=2, linewidth=0.75, label='|i$\\eta$| = 10')\n",
    "plt.plot(date, mean3, \".g-\", markersize=2, linewidth=0.75, label='|i$\\eta$| = 80')\n",
    "plt.tick_params(labelsize = 6)\n",
    "plt.xticks(rotation='45')\n",
    "plt.ylabel('Mean transparency along $\\phi$')\n",
    "plt.legend()\n",
    "plt.savefig('mean_transparency_along_phi.pdf')"
   ]
  },
  {
   "cell_type": "code",
   "execution_count": null,
   "metadata": {},
   "outputs": [],
   "source": []
  }
 ],
 "metadata": {
  "kernelspec": {
   "display_name": "Python 3",
   "language": "python",
   "name": "python3"
  },
  "language_info": {
   "codemirror_mode": {
    "name": "ipython",
    "version": 3
   },
   "file_extension": ".py",
   "mimetype": "text/x-python",
   "name": "python",
   "nbconvert_exporter": "python",
   "pygments_lexer": "ipython3",
   "version": "3.7.4"
  }
 },
 "nbformat": 4,
 "nbformat_minor": 2
}
