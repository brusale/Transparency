{
 "cells": [
  {
   "cell_type": "code",
   "execution_count": null,
   "metadata": {},
   "outputs": [],
   "source": [
    "import numpy as np\n",
    "import matplotlib.pyplot as plt\n",
    "import pandas as pd\n",
    "\n",
    "%matplotlib notebook"
   ]
  },
  {
   "cell_type": "code",
   "execution_count": null,
   "metadata": {},
   "outputs": [],
   "source": [
    "data_folder=(\"/home/alessandro/Scrivania/University/ML4ECAL/Transparency/DataPreparation\")"
   ]
  },
  {
   "cell_type": "code",
   "execution_count": null,
   "metadata": {},
   "outputs": [],
   "source": [
    "#Read metadata\n",
    "metadata = pd.read_csv(f\"{data_folder}/fill_metadata_2017_10min.csv\")"
   ]
  },
  {
   "cell_type": "code",
   "execution_count": null,
   "metadata": {},
   "outputs": [],
   "source": [
    "#Load data\n",
    "data = np.load(f\"{data_folder}/iring_25.npy\")\n",
    "data2 = np.load(f\"{data_folder}/iring_24.npy\")\n",
    "data3 = np.load(f\"{data_folder}/iring_0.npy\")\n",
    "data_df = pd.DataFrame(data)\n",
    "data_df2 = pd.DataFrame(data2)\n",
    "data_df3 = pd.DataFrame(data3)"
   ]
  },
  {
   "cell_type": "code",
   "execution_count": null,
   "metadata": {},
   "outputs": [],
   "source": [
    "mean = []\n",
    "mean2 = []\n",
    "mean3 = []\n",
    "for i in range(0, len(data_df.axes[1])):\n",
    "    mean = np.append(mean, np.mean(data_df[i]))\n",
    "    mean2 = np.append(mean2, np.mean(data_df2[i]))\n",
    "    mean3 = np.append(mean3, np.mean(data_df3[i]))"
   ]
  },
  {
   "cell_type": "code",
   "execution_count": null,
   "metadata": {},
   "outputs": [],
   "source": [
    "#Filter data and metadata\n",
    "mean = mean[mean != -1]\n",
    "mean2 = mean2[mean2 != -1]\n",
    "mean3 = mean3[mean3 != -1]\n",
    "metadata = metadata.iloc[:len(mean)][mean != -1]"
   ]
  },
  {
   "cell_type": "code",
   "execution_count": null,
   "metadata": {},
   "outputs": [],
   "source": [
    "#Metadata dei soli fill\n",
    "metadata_fill = metadata[metadata.in_fill == 1]"
   ]
  },
  {
   "cell_type": "code",
   "execution_count": null,
   "metadata": {},
   "outputs": [],
   "source": [
    "fill = metadata_fill[\"fill_num\"].unique()"
   ]
  },
  {
   "cell_type": "code",
   "execution_count": null,
   "metadata": {},
   "outputs": [],
   "source": [
    "mean_fill = []\n",
    "mean_fill2 = []\n",
    "mean_fill3 = []\n",
    "for f in fill :\n",
    "    df = metadata_fill[metadata_fill[\"fill_num\"] == f]\n",
    "    index = df.index.values\n",
    "    transp_fill = [mean[i] for i in index]\n",
    "    transp_fill = transp_fill/transp_fill[0]\n",
    "    transp_fill2 = [mean2[i] for i in index]\n",
    "    transp_fill2 = transp_fill2/transp_fill[0]\n",
    "    transp_fill3 = [mean3[i] for i in index]\n",
    "    transp_fill3 = transp_fill3/transp_fill3[0]\n",
    "    mean_fill = np.append(mean_fill, transp_fill)\n",
    "    mean_fill2 = np.append(mean_fill2, transp_fill2)\n",
    "    mean_fill3 = np.append(mean_fill3, transp_fill3)"
   ]
  },
  {
   "cell_type": "markdown",
   "metadata": {},
   "source": [
    "# Correlations"
   ]
  },
  {
   "cell_type": "code",
   "execution_count": null,
   "metadata": {},
   "outputs": [],
   "source": [
    "headers = metadata_fill.columns.tolist()"
   ]
  },
  {
   "cell_type": "code",
   "execution_count": null,
   "metadata": {},
   "outputs": [],
   "source": [
    "for h in headers:\n",
    "    correlation_matrix = np.corrcoef(mean_fill, metadata_fill[h])\n",
    "    correlation_coefficient = correlation_matrix[0][1]\n",
    "    print(h + \" : \" + str(correlation_coefficient))"
   ]
  },
  {
   "cell_type": "code",
   "execution_count": null,
   "metadata": {},
   "outputs": [],
   "source": [
    "for h in headers:\n",
    "    correlation_matrix = np.corrcoef(mean_fill2, metadata_fill[h])\n",
    "    correlation_coefficient = correlation_matrix[0][1]\n",
    "    print(h + \" : \" + str(correlation_coefficient))"
   ]
  },
  {
   "cell_type": "code",
   "execution_count": null,
   "metadata": {},
   "outputs": [],
   "source": [
    "for h in headers:\n",
    "    correlation_matrix = np.corrcoef(mean_fill3, metadata_fill[h])\n",
    "    correlation_coefficient = correlation_matrix[0][1]\n",
    "    print(h + \" : \" + str(correlation_coefficient))"
   ]
  },
  {
   "cell_type": "code",
   "execution_count": null,
   "metadata": {},
   "outputs": [],
   "source": []
  }
 ],
 "metadata": {
  "kernelspec": {
   "display_name": "Python 3",
   "language": "python",
   "name": "python3"
  },
  "language_info": {
   "codemirror_mode": {
    "name": "ipython",
    "version": 3
   },
   "file_extension": ".py",
   "mimetype": "text/x-python",
   "name": "python",
   "nbconvert_exporter": "python",
   "pygments_lexer": "ipython3",
   "version": "3.7.4"
  }
 },
 "nbformat": 4,
 "nbformat_minor": 2
}
