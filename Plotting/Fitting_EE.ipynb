{
 "cells": [
  {
   "cell_type": "code",
   "execution_count": null,
   "metadata": {},
   "outputs": [],
   "source": [
    "import matplotlib.pyplot as plt\n",
    "import matplotlib as mpl\n",
    "import pandas as pd\n",
    "import numpy as np\n",
    "from pprint import pprint\n",
    "from collections import namedtuple\n",
    "import datetime\n",
    "import matplotlib.colors as colors\n",
    "from scipy.optimize import curve_fit\n",
    "from scipy.stats import chisquare\n",
    "\n",
    "\n",
    "mpl.rcParams['figure.figsize'] = (5,4)\n",
    "mpl.rcParams['figure.dpi'] = 150\n",
    "mpl.rcParams[\"image.origin\"] = 'lower'\n",
    " \n",
    "%matplotlib notebook"
   ]
  },
  {
   "cell_type": "code",
   "execution_count": null,
   "metadata": {},
   "outputs": [],
   "source": [
    "data_folder=(\"/home/alessandro/Scrivania/University/ML4ECAL/Transparency/DataPreparation\")"
   ]
  },
  {
   "cell_type": "code",
   "execution_count": null,
   "metadata": {},
   "outputs": [],
   "source": [
    "#Read metadata\n",
    "metadata = pd.read_csv(f\"{data_folder}/fill_metadata_2017_10min.csv\")"
   ]
  },
  {
   "cell_type": "code",
   "execution_count": null,
   "metadata": {},
   "outputs": [],
   "source": [
    "#Load data\n",
    "data = np.load(f\"{data_folder}/iring_25.npy\")\n",
    "data_test = np.load(f\"{data_folder}/iring_26.npy\")\n",
    "\n",
    "data_df = pd.DataFrame(data)\n",
    "data_df_test = pd.DataFrame(data_test)"
   ]
  },
  {
   "cell_type": "code",
   "execution_count": null,
   "metadata": {},
   "outputs": [],
   "source": [
    "#Mean transparency in iRing\n",
    "mean = []\n",
    "mean_test = []\n",
    "for i in range(0, len(data_df.axes[1])):\n",
    "    mean = np.append(mean, np.mean(data_df[i]))\n",
    "    mean_test = np.append(mean_test, np.mean(data_df_test[i]))"
   ]
  },
  {
   "cell_type": "code",
   "execution_count": null,
   "metadata": {},
   "outputs": [],
   "source": [
    "#Filter data and metadata\n",
    "mean = mean[mean != -1]\n",
    "mean_test = mean_test[mean_test != -1]\n",
    "metadata = metadata.iloc[:len(mean)][mean != -1]"
   ]
  },
  {
   "cell_type": "code",
   "execution_count": null,
   "metadata": {},
   "outputs": [],
   "source": [
    "metadata_6371 = metadata[metadata.fill_num == 6371]"
   ]
  },
  {
   "cell_type": "code",
   "execution_count": null,
   "metadata": {},
   "outputs": [],
   "source": [
    "transp_6371 = mean[metadata_6371.index.values[0]:metadata_6371.index.values[0]+len(metadata_6371.axes[0])]\n",
    "                   \n",
    "#Normalizzo\n",
    "transp_6371 = transp_6371/transp_6371[0]"
   ]
  },
  {
   "cell_type": "code",
   "execution_count": null,
   "metadata": {},
   "outputs": [],
   "source": [
    "metadata_6156 = metadata[metadata.fill_num == 6156]"
   ]
  },
  {
   "cell_type": "code",
   "execution_count": null,
   "metadata": {},
   "outputs": [],
   "source": [
    "transp_6156 = mean[metadata_6156.index.values[0]:metadata_6156.index.values[0]+len(metadata_6156.axes[0])]\n",
    "\n",
    "#Normalizzo\n",
    "transp_6156 = transp_6156/transp_6156[0]"
   ]
  },
  {
   "cell_type": "code",
   "execution_count": null,
   "metadata": {},
   "outputs": [],
   "source": [
    "transp_6371_test = mean_test[metadata_6371.index.values[0]:metadata_6371.index.values[0]+len(metadata_6371.axes[0])]\n",
    "\n",
    "#Normalizzo\n",
    "transp_6371_test = transp_6371_test/transp_6371_test[0]"
   ]
  },
  {
   "cell_type": "markdown",
   "metadata": {},
   "source": [
    "## Fit esponenziali"
   ]
  },
  {
   "cell_type": "code",
   "execution_count": null,
   "metadata": {},
   "outputs": [],
   "source": [
    "def fit_func(x, a, b, c):\n",
    "    return a*np.exp(-x*b)+ (1-a)*np.exp(x*c)"
   ]
  },
  {
   "cell_type": "code",
   "execution_count": null,
   "metadata": {},
   "outputs": [],
   "source": [
    "params = curve_fit(fit_func, metadata_6371.lumi_in_fill*(1e-9), transp_6371)\n",
    "params[0]"
   ]
  },
  {
   "cell_type": "code",
   "execution_count": null,
   "metadata": {},
   "outputs": [],
   "source": [
    "plt.plot(metadata_6371.lumi_in_fill*(1e-9), fit_func(metadata_6371.lumi_in_fill*(1e-9), params[0][0], params[0][1], params[0][2]), label='a=%5.3f, b=%5.3f, c=%5.3f' % tuple(params[0]))\n",
    "plt.plot(metadata_6371.lumi_in_fill*(1e-9), transp_6371, \".r-\", markersize=2, linewidth=0.75, label='fill 3671')\n",
    "plt.legend(title='iRing 25')\n",
    "plt.xlabel('Lumi in fill [fb$^{-1}$]')\n",
    "plt.ylabel('Normalized mean transparency')\n",
    "plt.tick_params(labelsize=7)\n",
    "plt.title('$ae^{-bx}+(1-a)e^{dx}$')\n",
    "plt.savefig('fit_exp_exp')"
   ]
  },
  {
   "cell_type": "code",
   "execution_count": null,
   "metadata": {},
   "outputs": [],
   "source": [
    "plt.plot(metadata_6371.lumi_in_fill*(1e-9), fit_func(metadata_6371.lumi_in_fill*(1e-9), params[0][0], params[0][1], params[0][2]), label='a=%5.3f, b=%5.3f, c=%5.3f' % tuple(params[0]))\n",
    "plt.plot(metadata_6371.lumi_in_fill*(1e-9), transp_6371_test, \".r-\", markersize=2, linewidth=0.75, label='fill 3671')\n",
    "plt.legend(title='iRing 26')\n",
    "plt.xlabel('Lumi in fill [fb$^{-1}$]')\n",
    "plt.ylabel('Normalized mean transparency')\n",
    "plt.tick_params(labelsize=7)\n",
    "plt.title('$ae^{-bx}+(1-a)e^{dx}$')\n",
    "plt.savefig('fit_exp_exp_test')"
   ]
  },
  {
   "cell_type": "code",
   "execution_count": null,
   "metadata": {},
   "outputs": [],
   "source": [
    "print(chisquare(transp_6371_test, fit_func(metadata_6371.lumi_in_fill*(1e-9), params[0][0], params[0][1], params[0][2])))"
   ]
  },
  {
   "cell_type": "markdown",
   "metadata": {},
   "source": [
    "## Fit esponeneziale + parabola"
   ]
  },
  {
   "cell_type": "code",
   "execution_count": null,
   "metadata": {},
   "outputs": [],
   "source": [
    "def fit_func_2(x, a, b, c, d, e):\n",
    "    return a*np.exp(-x*b)+c*x**2+d*x+e"
   ]
  },
  {
   "cell_type": "code",
   "execution_count": null,
   "metadata": {},
   "outputs": [],
   "source": [
    "params_2 = curve_fit(fit_func_2, metadata_6371.lumi_in_fill*(1e-9), transp_6371)\n",
    "params_2[0]"
   ]
  },
  {
   "cell_type": "code",
   "execution_count": null,
   "metadata": {},
   "outputs": [],
   "source": [
    "plt.plot(metadata_6371.lumi_in_fill*(1e-9), fit_func_2(metadata_6371.lumi_in_fill*(1e-9), params_2[0][0], params_2[0][1], params_2[0][2], params_2[0][3], params_2[0][4]), label='a=%5.3f, b=%5.3f, c=%5.3f, d=%5.3f, e=%5.3f' %tuple(params_2[0]))\n",
    "plt.plot(metadata_6371.lumi_in_fill*(1e-9), transp_6371, \".r-\", markersize=2, linewidth=0.75, label='fill 6371')\n",
    "plt.legend(title='iRing 25', prop={'size':8})\n",
    "plt.xlabel('Lumi in fill [fb$^{-1}$]')\n",
    "plt.ylabel('Normalized mean transparency')\n",
    "plt.tick_params(labelsize=7)\n",
    "plt.title('$ae^{-bx}+cx^2+dx+e$')\n",
    "plt.savefig('fit_exp_parabola')"
   ]
  },
  {
   "cell_type": "code",
   "execution_count": null,
   "metadata": {},
   "outputs": [],
   "source": [
    "plt.plot(metadata_6371.lumi_in_fill*(1e-9), fit_func_2(metadata_6371.lumi_in_fill*(1e-9), params_2[0][0], params_2[0][1], params_2[0][2], params_2[0][3], params_2[0][4]), label='a=%5.3f, b=%5.3f, c=%5.3f, d=%5.3f, e=%5.3f' %tuple(params_2[0]))\n",
    "plt.plot(metadata_6371.lumi_in_fill*(1e-9), transp_6371_test, \".r-\", markersize=2, linewidth=0.75, label='fill 6371')\n",
    "plt.legend(title='iRing 26', prop={'size':8})\n",
    "plt.xlabel('Lumi in fill [fb$^{-1}$]')\n",
    "plt.ylabel('Normalized mean transparency')\n",
    "plt.tick_params(labelsize=7)\n",
    "plt.title('$ae^{-bx}+cx^2+dx+e$')\n",
    "plt.savefig('fit_exp_parabola_test')"
   ]
  },
  {
   "cell_type": "code",
   "execution_count": null,
   "metadata": {},
   "outputs": [],
   "source": [
    "print(chisquare(transp_6371_test, fit_func_2(metadata_6371.lumi_in_fill*(1e-9), params_2[0][0], params_2[0][1], params_2[0][2], params_2[0][3], params_2[0][4])))"
   ]
  },
  {
   "cell_type": "markdown",
   "metadata": {},
   "source": [
    "# Fitting fill 6156"
   ]
  },
  {
   "cell_type": "code",
   "execution_count": null,
   "metadata": {},
   "outputs": [],
   "source": [
    "metadata_6156 = metadata[metadata.fill_num == 6156]"
   ]
  },
  {
   "cell_type": "code",
   "execution_count": null,
   "metadata": {},
   "outputs": [],
   "source": [
    "transp_6156 = mean[metadata_6156.index.values[0]:metadata_6156.index.values[0]+len(metadata_6156.axes[0])]\n",
    "transp_6156 = transp_6156/transp_6156[0]"
   ]
  },
  {
   "cell_type": "code",
   "execution_count": null,
   "metadata": {},
   "outputs": [],
   "source": [
    "par = curve_fit(fit_func, metadata_6156.lumi_in_fill*(1e-9), transp_6156)\n",
    "par[0]"
   ]
  },
  {
   "cell_type": "code",
   "execution_count": null,
   "metadata": {},
   "outputs": [],
   "source": [
    "plt.plot(metadata_6156.lumi_in_fill*(1e-9), fit_func(metadata_6156.lumi_in_fill*(1e-9), par[0][0], par[0][1], par[0][2]), label='a=%5.3f, b=%5.3f, c=%5.3f' % tuple(par[0]))\n",
    "plt.plot(metadata_6156.lumi_in_fill*(1e-9), transp_6156, \".r-\", markersize=2, linewidth=0.75, label='fill 6156')\n",
    "plt.tick_params(labelsize=7)\n",
    "plt.xlabel('Lumi in fill [fb$^{-1}$]')\n",
    "plt.ylabel('Normalized mean transparency')\n",
    "plt.title('$ae^{-bx}+(1-a)e^{cx}$')\n",
    "plt.legend(title='iRing 25')\n",
    "plt.savefig('fit_exp_exp_6156')"
   ]
  },
  {
   "cell_type": "markdown",
   "metadata": {},
   "source": [
    "## Fitting fill 6156 test"
   ]
  },
  {
   "cell_type": "code",
   "execution_count": null,
   "metadata": {},
   "outputs": [],
   "source": [
    "transp_6156_test = mean_test[metadata_6156.index.values[0]:metadata_6156.index.values[0]+len(metadata_6156.axes[0])]\n",
    "transp_6156_test = transp_6156_test/transp_6156_test[0]"
   ]
  },
  {
   "cell_type": "code",
   "execution_count": null,
   "metadata": {},
   "outputs": [],
   "source": [
    "plt.plot(metadata_6156.lumi_in_fill*(1e-9), fit_func(metadata_6156.lumi_in_fill*(1e-9), par[0][0], par[0][1], par[0][2]), label='a=%5.3f, b=%5.3f, c=%5.3f' % tuple(par[0]))\n",
    "plt.plot(metadata_6156.lumi_in_fill*(1e-9), transp_6156_test, \".r-\", markersize=2, linewidth=0.75, label='fill 6156')\n",
    "plt.tick_params(labelsize=7)\n",
    "plt.xlabel('Lumi in fill [fb$^{-1}$]')\n",
    "plt.ylabel('Normalized mean transparency')\n",
    "plt.title('$ae^{-bx}+(1-a)e^{cx}$')\n",
    "plt.legend(title='iRing 26')\n",
    "plt.savefig('fit_exp_exp_6156_test')"
   ]
  },
  {
   "cell_type": "markdown",
   "metadata": {},
   "source": [
    "# Fitting fill 6287"
   ]
  },
  {
   "cell_type": "code",
   "execution_count": null,
   "metadata": {},
   "outputs": [],
   "source": [
    "metadata_6287 = metadata[metadata.fill_num == 6287]"
   ]
  },
  {
   "cell_type": "code",
   "execution_count": null,
   "metadata": {},
   "outputs": [],
   "source": [
    "transp_6287 = mean[metadata_6287.index.values[0]:metadata_6287.index.values[0]+len(metadata_6287.axes[0])]\n",
    "transp_6287 = transp_6287/transp_6287[0]"
   ]
  },
  {
   "cell_type": "code",
   "execution_count": null,
   "metadata": {},
   "outputs": [],
   "source": [
    "par = curve_fit(fit_func, metadata_6287.lumi_in_fill*(1e-9), transp_6287)\n",
    "par[0]"
   ]
  },
  {
   "cell_type": "code",
   "execution_count": null,
   "metadata": {},
   "outputs": [],
   "source": [
    "plt.plot(metadata_6287.lumi_in_fill*(1e-9), fit_func(metadata_6287.lumi_in_fill*(1e-9), par[0][0], par[0][1], par[0][2]), label='a=%5.3f, b=%5.3f, c=%5.3f' % tuple(par[0]))\n",
    "plt.plot(metadata_6287.lumi_in_fill*(1e-9), transp_6287, \".r-\", markersize=2, linewidth=0.75, label='fill 6287')\n",
    "plt.tick_params(labelsize=7)\n",
    "plt.xlabel('Lumi in fill [fb$^{-1}$]')\n",
    "plt.ylabel('Normalized mean transparency')\n",
    "plt.title('$ae^{-bx}+(1-a)e^{cx}$')\n",
    "plt.legend(title='iRing 25')\n",
    "plt.savefig('fit_exp_exp_6287')"
   ]
  },
  {
   "cell_type": "markdown",
   "metadata": {},
   "source": [
    "## Fitting fill 6287 test"
   ]
  },
  {
   "cell_type": "code",
   "execution_count": null,
   "metadata": {},
   "outputs": [],
   "source": [
    "transp_6287_test = mean_test[metadata_6287.index.values[0]:metadata_6287.index.values[0]+len(metadata_6287.axes[0])]\n",
    "transp_6287_test = transp_6287_test/transp_6287_test[0]"
   ]
  },
  {
   "cell_type": "code",
   "execution_count": null,
   "metadata": {},
   "outputs": [],
   "source": [
    "plt.plot(metadata_6287.lumi_in_fill*(1e-9), fit_func(metadata_6287.lumi_in_fill*(1e-9), par[0][0], par[0][1], par[0][2]), label='a=%5.3f, b=%5.3f, c=%5.3f' % tuple(par[0]))\n",
    "plt.plot(metadata_6287.lumi_in_fill*(1e-9), transp_6287_test, \".r-\", markersize=2, linewidth=0.75, label='fill 6287')\n",
    "plt.tick_params(labelsize=7)\n",
    "plt.xlabel('Lumi in fill [fb$^{-1}$]')\n",
    "plt.ylabel('Normalized mean transparency')\n",
    "plt.title('$ae^{-bx}+(1-a)e^{cx}$')\n",
    "plt.legend(title='iRing 26')\n",
    "plt.savefig('fit_exp_exp_6287_test')"
   ]
  },
  {
   "cell_type": "markdown",
   "metadata": {},
   "source": [
    "# Fitting fill 6026"
   ]
  },
  {
   "cell_type": "code",
   "execution_count": null,
   "metadata": {},
   "outputs": [],
   "source": [
    "metadata_6026 = metadata[metadata.fill_num == 6026]"
   ]
  },
  {
   "cell_type": "code",
   "execution_count": null,
   "metadata": {},
   "outputs": [],
   "source": [
    "transp_6026 = mean[metadata_6026.index.values[0]:metadata_6026.index.values[0]+len(metadata_6026.axes[0])]\n",
    "transp_6026 = transp_6026/transp_6026[0]"
   ]
  },
  {
   "cell_type": "code",
   "execution_count": null,
   "metadata": {},
   "outputs": [],
   "source": [
    "par = curve_fit(fit_func, metadata_6026.lumi_in_fill*(1e-9), transp_6026)\n",
    "par[0]"
   ]
  },
  {
   "cell_type": "code",
   "execution_count": null,
   "metadata": {},
   "outputs": [],
   "source": [
    "plt.plot(metadata_6026.lumi_in_fill*(1e-9), fit_func(metadata_6026.lumi_in_fill*(1e-9), par[0][0], par[0][1], par[0][2]), label='a=%5.3f, b=%5.3f, c=%5.3f' % tuple(par[0]))\n",
    "plt.plot(metadata_6026.lumi_in_fill*(1e-9), transp_6026, \".r-\", markersize=2, linewidth=0.75, label='fill 6026')\n",
    "plt.tick_params(labelsize=7)\n",
    "plt.xlabel('Lumi in fill [fb$^{-1}$]')\n",
    "plt.ylabel('Normalized mean transparency')\n",
    "plt.title('$ae^{-bx}+(1-a)e^{cx}$')\n",
    "plt.legend(title='iRing 25')\n",
    "plt.savefig('fit_exp_exp_6026')"
   ]
  },
  {
   "cell_type": "markdown",
   "metadata": {},
   "source": [
    "## Fitting fill 6026 test"
   ]
  },
  {
   "cell_type": "code",
   "execution_count": null,
   "metadata": {},
   "outputs": [],
   "source": [
    "transp_6026_test = mean_test[metadata_6026.index.values[0]:metadata_6026.index.values[0]+len(metadata_6026.axes[0])]\n",
    "transp_6026_test = transp_6026_test/transp_6026_test[0]"
   ]
  },
  {
   "cell_type": "code",
   "execution_count": null,
   "metadata": {},
   "outputs": [],
   "source": [
    "plt.plot(metadata_6026.lumi_in_fill*(1e-9), fit_func(metadata_6026.lumi_in_fill*(1e-9), par[0][0], par[0][1], par[0][2]), label='a=%5.3f, b=%5.3f, c=%5.3f' % tuple(par[0]))\n",
    "plt.plot(metadata_6026.lumi_in_fill*(1e-9), transp_6026_test, \".r-\", markersize=2, linewidth=0.75, label='fill 6026')\n",
    "plt.tick_params(labelsize=7)\n",
    "plt.xlabel('Lumi in fill [fb$^{-1}$]')\n",
    "plt.ylabel('Normalized mean transparency')\n",
    "plt.title('$ae^{-bx}+(1-a)e^{cx}$')\n",
    "plt.legend(title='iRing 26')\n",
    "plt.savefig('fit_exp_exp_6026_test')"
   ]
  },
  {
   "cell_type": "markdown",
   "metadata": {},
   "source": [
    "# Fitting fill 6191"
   ]
  },
  {
   "cell_type": "code",
   "execution_count": null,
   "metadata": {},
   "outputs": [],
   "source": [
    "metadata_6191 = metadata[metadata.fill_num == 6191]"
   ]
  },
  {
   "cell_type": "code",
   "execution_count": null,
   "metadata": {},
   "outputs": [],
   "source": [
    "transp_6191 = mean[metadata_6191.index.values[0]:metadata_6191.index.values[0]+len(metadata_6191.axes[0])]\n",
    "transp_6191 = transp_6191/transp_6191[0]"
   ]
  },
  {
   "cell_type": "code",
   "execution_count": null,
   "metadata": {},
   "outputs": [],
   "source": [
    "par = curve_fit(fit_func, metadata_6191.lumi_in_fill*(1e-9), transp_6191)"
   ]
  },
  {
   "cell_type": "code",
   "execution_count": null,
   "metadata": {},
   "outputs": [],
   "source": [
    "plt.plot(metadata_6191.lumi_in_fill*(1e-9), fit_func(metadata_6191.lumi_in_fill*(1e-9), par[0][0], par[0][1], par[0][2]), label='a=%5.3f, b=%5.3f, c=%5.3f' % tuple(par[0]))\n",
    "plt.plot(metadata_6191.lumi_in_fill*(1e-9), transp_6191, \".r-\", markersize=2, linewidth=0.75, label='fill 6191')\n",
    "plt.tick_params(labelsize=7)\n",
    "plt.xlabel('Lumi in fill [fb$^{-1}$]')\n",
    "plt.ylabel('Normalized mean transparency')\n",
    "plt.title('$ae^{-bx}+(1-a)e^{cx}$')\n",
    "plt.legend(title='iRing 25')\n",
    "plt.savefig('fit_exp_exp_6191')"
   ]
  },
  {
   "cell_type": "markdown",
   "metadata": {},
   "source": [
    "## Fitting fill 6191 test"
   ]
  },
  {
   "cell_type": "code",
   "execution_count": null,
   "metadata": {},
   "outputs": [],
   "source": [
    "transp_6191_test = mean_test[metadata_6191.index.values[0]:metadata_6191.index.values[0]+len(metadata_6191.axes[0])]\n",
    "transp_6191_test = transp_6191_test/transp_6191_test[0]"
   ]
  },
  {
   "cell_type": "code",
   "execution_count": null,
   "metadata": {},
   "outputs": [],
   "source": [
    "plt.plot(metadata_6191.lumi_in_fill*(1e-9), fit_func(metadata_6191.lumi_in_fill*(1e-9), par[0][0], par[0][1], par[0][2]), label='a=%5.3f, b=%5.3f, c=%5.3f' % tuple(par[0]))\n",
    "plt.plot(metadata_6191.lumi_in_fill*(1e-9), transp_6191_test, \".r-\", markersize=2, linewidth=0.75, label='fill 6191')\n",
    "plt.tick_params(labelsize=7)\n",
    "plt.xlabel('Lumi in fill [fb$^{-1}$]')\n",
    "plt.ylabel('Normalized mean transparency')\n",
    "plt.title('$ae^{-bx}+(1-a)e^{cx}$')\n",
    "plt.legend(title='iRing 26')\n",
    "plt.savefig('fit_exp_exp_6191_test')"
   ]
  },
  {
   "cell_type": "markdown",
   "metadata": {},
   "source": [
    "# Fitting fill 6314"
   ]
  },
  {
   "cell_type": "code",
   "execution_count": null,
   "metadata": {},
   "outputs": [],
   "source": [
    "metadata_6314 = metadata[metadata.fill_num == 6314]"
   ]
  },
  {
   "cell_type": "code",
   "execution_count": null,
   "metadata": {},
   "outputs": [],
   "source": [
    "transp_6314 = mean[metadata_6314.index.values[0]:metadata_6314.index.values[0]+len(metadata_6314.axes[0])]\n",
    "transp_6314 = transp_6314/transp_6314[0]"
   ]
  },
  {
   "cell_type": "code",
   "execution_count": null,
   "metadata": {},
   "outputs": [],
   "source": [
    "par = curve_fit(fit_func, metadata_6314.lumi_in_fill*(1e-9), transp_6314)\n",
    "par[0]"
   ]
  },
  {
   "cell_type": "code",
   "execution_count": null,
   "metadata": {},
   "outputs": [],
   "source": [
    "plt.plot(metadata_6314.lumi_in_fill*(1e-9), fit_func(metadata_6314.lumi_in_fill*(1e-9), par[0][0], par[0][1], par[0][2]), label='a=%5.3f, b=%5.3f, c=%5.3f' % tuple(par[0]))\n",
    "plt.plot(metadata_6314.lumi_in_fill*(1e-9), transp_6314, \".r-\", markersize=2, linewidth=0.75, label='fill 6314')\n",
    "plt.tick_params(labelsize=7)\n",
    "plt.xlabel('Lumi in fill [fb$^{-1}$]')\n",
    "plt.ylabel('Normalized mean transparency')\n",
    "plt.title('$ae^{-bx}+(1-a)e^{cx}$')\n",
    "plt.legend(title='iRing 25')\n",
    "plt.savefig('fit_exp_exp_6314')"
   ]
  },
  {
   "cell_type": "markdown",
   "metadata": {},
   "source": [
    "## Fitting fill 6314 test"
   ]
  },
  {
   "cell_type": "code",
   "execution_count": null,
   "metadata": {},
   "outputs": [],
   "source": [
    "transp_6314_test = mean_test[metadata_6314.index.values[0]:metadata_6314.index.values[0]+len(metadata_6314.axes[0])]\n",
    "transp_6314_test = transp_6314_test/transp_6314_test[0]"
   ]
  },
  {
   "cell_type": "code",
   "execution_count": null,
   "metadata": {},
   "outputs": [],
   "source": [
    "plt.plot(metadata_6314.lumi_in_fill*(1e-9), fit_func(metadata_6314.lumi_in_fill*(1e-9), par[0][0], par[0][1], par[0][2]), label='a=%5.3f, b=%5.3f, c=%5.3f' % tuple(par[0]))\n",
    "plt.plot(metadata_6314.lumi_in_fill*(1e-9), transp_6314_test, \".r-\", markersize=2, linewidth=0.75, label='fill 6314')\n",
    "plt.tick_params(labelsize=7)\n",
    "plt.xlabel('Lumi in fill [fb$^{-1}$]')\n",
    "plt.ylabel('Normalized mean transparency')\n",
    "plt.title('$ae^{-bx}+(1-a)e^{cx}$')\n",
    "plt.legend(title='iRing 26')\n",
    "plt.savefig('fit_exp_exp_6314_test')"
   ]
  },
  {
   "cell_type": "code",
   "execution_count": null,
   "metadata": {},
   "outputs": [],
   "source": []
  }
 ],
 "metadata": {
  "kernelspec": {
   "display_name": "Python 3",
   "language": "python",
   "name": "python3"
  },
  "language_info": {
   "codemirror_mode": {
    "name": "ipython",
    "version": 3
   },
   "file_extension": ".py",
   "mimetype": "text/x-python",
   "name": "python",
   "nbconvert_exporter": "python",
   "pygments_lexer": "ipython3",
   "version": "3.7.4"
  }
 },
 "nbformat": 4,
 "nbformat_minor": 2
}
