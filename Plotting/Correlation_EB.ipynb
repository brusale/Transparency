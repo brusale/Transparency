{
 "cells": [
  {
   "cell_type": "code",
   "execution_count": null,
   "metadata": {},
   "outputs": [],
   "source": [
    "import numpy as np\n",
    "import matplotlib.pyplot as plt\n",
    "import pandas as pd\n",
    "\n",
    "%matplotlib notebook"
   ]
  },
  {
   "cell_type": "code",
   "execution_count": null,
   "metadata": {},
   "outputs": [],
   "source": [
    "data_folder=(\"/home/alessandro/Scrivania/University/ML4ECAL/transparency_ecal/DataPreparation/output_preliminary_plots\")"
   ]
  },
  {
   "cell_type": "code",
   "execution_count": null,
   "metadata": {},
   "outputs": [],
   "source": [
    "#Read metadata\n",
    "metadata = pd.read_csv(f\"{data_folder}/fill_metadata_2017_10min.csv\")"
   ]
  },
  {
   "cell_type": "code",
   "execution_count": null,
   "metadata": {},
   "outputs": [],
   "source": [
    "#Load data\n",
    "data1 = np.load(f\"{data_folder}/output_ix30.npy\", allow_pickle=True)\n",
    "data2 = np.load(f\"{data_folder}/output_ix139.npy\", allow_pickle=True)\n",
    "\n",
    "data3 = np.load(f\"{data_folder}/output_ix5.npy\", allow_pickle=True)\n",
    "data4 = np.load(f\"{data_folder}/output_ix164.npy\", allow_pickle=True)\n",
    "\n",
    "data_df = pd.DataFrame({'data1':data1, 'data2':data2})\n",
    "data_df_2 = pd.DataFrame({'data3':data3,'data4':data4})"
   ]
  },
  {
   "cell_type": "code",
   "execution_count": null,
   "metadata": {},
   "outputs": [],
   "source": [
    "#Mean transparency in iRing\n",
    "mean = []\n",
    "mean2 = []\n",
    "for i in range(0, np.size(data1)):\n",
    "    mean = np.append(mean, np.mean(data_df.iloc[i].tolist()))\n",
    "    mean2 = np.append(mean2, np.mean(data_df_2.iloc[i].tolist()))"
   ]
  },
  {
   "cell_type": "code",
   "execution_count": null,
   "metadata": {},
   "outputs": [],
   "source": [
    "#Filter data and metadata\n",
    "mean = mean[mean != -1]\n",
    "mean2 = mean2[mean2 != -1]\n",
    "metadata = metadata.iloc[:len(mean)][mean != -1]"
   ]
  },
  {
   "cell_type": "code",
   "execution_count": null,
   "metadata": {},
   "outputs": [],
   "source": [
    "#Metadata dei soli fill\n",
    "metadata_fill = metadata[metadata.in_fill == 1]"
   ]
  },
  {
   "cell_type": "code",
   "execution_count": null,
   "metadata": {},
   "outputs": [],
   "source": [
    "fill = metadata_fill[\"fill_num\"].unique()"
   ]
  },
  {
   "cell_type": "code",
   "execution_count": null,
   "metadata": {},
   "outputs": [],
   "source": [
    "mean_fill = []\n",
    "mean_fill2 = []\n",
    "for f in fill :\n",
    "    df = metadata_fill[metadata_fill[\"fill_num\"] == f]\n",
    "    index = df.index.values\n",
    "    transp_fill = [mean[i] for i in index]\n",
    "    transp_fill = transp_fill/transp_fill[0]\n",
    "    transp_fill2 = [mean2[i] for i in index]\n",
    "    transp_fill2 = transp_fill2/transp_fill2[0]\n",
    "    mean_fill = np.append(mean_fill, transp_fill)\n",
    "    mean_fill2 = np.append(mean_fill2, transp_fill2)"
   ]
  },
  {
   "cell_type": "markdown",
   "metadata": {},
   "source": [
    "# Correlations"
   ]
  },
  {
   "cell_type": "code",
   "execution_count": null,
   "metadata": {},
   "outputs": [],
   "source": [
    "headers = metadata_fill.columns.tolist()"
   ]
  },
  {
   "cell_type": "code",
   "execution_count": null,
   "metadata": {},
   "outputs": [],
   "source": [
    "for h in headers:\n",
    "    correlation_matrix = np.corrcoef(mean_fill, metadata_fill[h])\n",
    "    correlation_coefficient = correlation_matrix[0][1]\n",
    "    print(h + \" : \" + str(correlation_coefficient))"
   ]
  },
  {
   "cell_type": "code",
   "execution_count": null,
   "metadata": {},
   "outputs": [],
   "source": [
    "for h in headers:\n",
    "    correlation_matrix = np.corrcoef(mean_fill2, metadata_fill[h])\n",
    "    correlation_coefficient = correlation_matrix[0][1]\n",
    "    print(h + \" : \"+str(correlation_coefficient))"
   ]
  },
  {
   "cell_type": "code",
   "execution_count": null,
   "metadata": {},
   "outputs": [],
   "source": []
  }
 ],
 "metadata": {
  "kernelspec": {
   "display_name": "Python 3",
   "language": "python",
   "name": "python3"
  },
  "language_info": {
   "codemirror_mode": {
    "name": "ipython",
    "version": 3
   },
   "file_extension": ".py",
   "mimetype": "text/x-python",
   "name": "python",
   "nbconvert_exporter": "python",
   "pygments_lexer": "ipython3",
   "version": "3.7.4"
  }
 },
 "nbformat": 4,
 "nbformat_minor": 2
}
