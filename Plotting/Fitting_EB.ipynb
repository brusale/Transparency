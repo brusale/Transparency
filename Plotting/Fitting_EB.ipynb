{
 "cells": [
  {
   "cell_type": "code",
   "execution_count": null,
   "metadata": {},
   "outputs": [],
   "source": [
    "import matplotlib.pyplot as plt\n",
    "import matplotlib as mpl\n",
    "import pandas as pd\n",
    "import numpy as np\n",
    "from pprint import pprint\n",
    "from collections import namedtuple\n",
    "import datetime\n",
    "import matplotlib.colors as colors\n",
    "from scipy.optimize import curve_fit\n",
    "from scipy.stats import chisquare\n",
    "\n",
    "\n",
    "mpl.rcParams['figure.figsize'] = (5,4)\n",
    "mpl.rcParams['figure.dpi'] = 150\n",
    "mpl.rcParams[\"image.origin\"] = 'lower'\n",
    " \n",
    "%matplotlib notebook"
   ]
  },
  {
   "cell_type": "code",
   "execution_count": null,
   "metadata": {},
   "outputs": [],
   "source": [
    "data_folder=(\"/home/alessandro/Scrivania/University/ML4ECAL/transparency_ecal/DataPreparation/output_preliminary_plots\")"
   ]
  },
  {
   "cell_type": "code",
   "execution_count": null,
   "metadata": {},
   "outputs": [],
   "source": [
    "#Read metadata\n",
    "metadata = pd.read_csv(f\"{data_folder}/fill_metadata_2017_10min.csv\")"
   ]
  },
  {
   "cell_type": "code",
   "execution_count": null,
   "metadata": {},
   "outputs": [],
   "source": [
    "#Load data ieta 55\n",
    "data1 = np.load(f\"{data_folder}/output_ix30.npy\", allow_pickle=True)\n",
    "data2 = np.load(f\"{data_folder}/output_ix139.npy\", allow_pickle=True)\n",
    "\n",
    "data1_test = np.load(f\"{data_folder}/output_iz0_ix140.npy\", allow_pickle=True)\n",
    "data2_test = np.load(f\"{data_folder}/output_iz0_ix29.npy\", allow_pickle=True)\n",
    "\n",
    "data_df = pd.DataFrame({'data1':data1, 'data2':data2})\n",
    "data_df_test = pd.DataFrame({'data1':data1_test, 'data2':data2_test})"
   ]
  },
  {
   "cell_type": "code",
   "execution_count": null,
   "metadata": {},
   "outputs": [],
   "source": [
    "#Mean transparency in barrel\n",
    "mean = []\n",
    "mean_test = []\n",
    "for i in range(0, np.size(data1)):\n",
    "    mean = np.append(mean, np.mean(data_df.iloc[i].tolist()))\n",
    "    mean_test = np.append(mean_test, np.mean(data_df_test.iloc[i].tolist()))"
   ]
  },
  {
   "cell_type": "code",
   "execution_count": null,
   "metadata": {},
   "outputs": [],
   "source": [
    "#Filter data and metadata\n",
    "mean = mean[mean != -1]\n",
    "mean_test = mean_test[mean_test != -1]\n",
    "metadata = metadata.iloc[:len(mean)][mean != -1]"
   ]
  },
  {
   "cell_type": "code",
   "execution_count": null,
   "metadata": {},
   "outputs": [],
   "source": [
    "metadata_6371 = metadata[metadata.fill_num == 6371]"
   ]
  },
  {
   "cell_type": "code",
   "execution_count": null,
   "metadata": {},
   "outputs": [],
   "source": [
    "transp_6371 = mean[metadata_6371.index.values[0]:metadata_6371.index.values[0]+len(metadata_6371.axes[0])]\n",
    "transp_6371_test = mean_test[metadata_6371.index.values[0]:metadata_6371.index.values[0]+len(metadata_6371.axes[0])]\n",
    "                   \n",
    "#Normalizzo\n",
    "transp_6371 = transp_6371/transp_6371[0]\n",
    "transp_6371_test = transp_6371_test/transp_6371_test[0]"
   ]
  },
  {
   "cell_type": "code",
   "execution_count": null,
   "metadata": {},
   "outputs": [],
   "source": [
    "metadata_6287 = metadata[metadata.fill_num == 6287]"
   ]
  },
  {
   "cell_type": "code",
   "execution_count": null,
   "metadata": {},
   "outputs": [],
   "source": [
    "transp_6287 = mean[metadata_6287.index.values[0]:metadata_6287.index.values[0]+len(metadata_6287.axes[0])]\n",
    "\n",
    "#Normalizzo\n",
    "transp_6287 = transp_6287/transp_6287[0]"
   ]
  },
  {
   "cell_type": "code",
   "execution_count": null,
   "metadata": {},
   "outputs": [],
   "source": [
    "metadata_6156 = metadata[metadata.fill_num == 6156]"
   ]
  },
  {
   "cell_type": "code",
   "execution_count": null,
   "metadata": {},
   "outputs": [],
   "source": [
    "transp_6156 = mean[metadata_6156.index.values[0]:metadata_6156.index.values[0]+len(metadata_6156.axes[0])]\n",
    "\n",
    "#Normalizzo\n",
    "transp_6156 = transp_6156/transp_6156[0]"
   ]
  },
  {
   "cell_type": "code",
   "execution_count": null,
   "metadata": {},
   "outputs": [],
   "source": [
    "#Load data ieta 20\n",
    "data3 = np.load(f\"{data_folder}/output_iz0_ix104.npy\", allow_pickle=True)\n",
    "data4 = np.load(f\"{data_folder}/output_iz0_ix65.npy\", allow_pickle=True)\n",
    "\n",
    "data3_test = np.load(f\"{data_folder}/output_iz0_ix105.npy\", allow_pickle=True)\n",
    "data4_test = np.load(f\"{data_folder}/output_iz0_ix64.npy\", allow_pickle=True)\n",
    "\n",
    "data2_df = pd.DataFrame({'data3':data3, 'data4':data4})\n",
    "data2_df_test = pd.DataFrame({'data3':data3_test, 'data4':data4_test})"
   ]
  },
  {
   "cell_type": "code",
   "execution_count": null,
   "metadata": {},
   "outputs": [],
   "source": [
    "#Mean ieta 20\n",
    "mean2 = []\n",
    "mean2_test = []\n",
    "for i in range(0, np.size(data1)):\n",
    "    mean2 = np.append(mean2, np.mean(data2_df.iloc[i].tolist()))\n",
    "    mean2_test = np.append(mean2_test, np.mean(data2_df_test.iloc[i].tolist()))"
   ]
  },
  {
   "cell_type": "code",
   "execution_count": null,
   "metadata": {},
   "outputs": [],
   "source": [
    "transp_6371_2 = mean[metadata_6371.index.values[0]:metadata_6371.index.values[0]+len(metadata_6371.axes[0])]\n",
    "transp_6371_2_test = mean_test[metadata_6371.index.values[0]:metadata_6371.index.values[0]+len(metadata_6371.axes[0])]\n",
    "                   \n",
    "#Normalizzo\n",
    "transp_6371_2 = transp_6371/transp_6371[0]\n",
    "transp_6371_2_test = transp_6371_test/transp_6371_test[0]"
   ]
  },
  {
   "cell_type": "markdown",
   "metadata": {},
   "source": [
    "## Fit esponenziali $|i\\eta|$ 55"
   ]
  },
  {
   "cell_type": "code",
   "execution_count": null,
   "metadata": {},
   "outputs": [],
   "source": [
    "def fit_func(x, a, b, c):\n",
    "    return a*np.exp(-x*b)+ (1-a)*np.exp(x*c)"
   ]
  },
  {
   "cell_type": "code",
   "execution_count": null,
   "metadata": {},
   "outputs": [],
   "source": [
    "params = curve_fit(fit_func, metadata_6371.lumi_in_fill*(1e-9), transp_6371)\n",
    "params[0]"
   ]
  },
  {
   "cell_type": "code",
   "execution_count": null,
   "metadata": {},
   "outputs": [],
   "source": [
    "plt.plot(metadata_6371.lumi_in_fill*(1e-9), fit_func(metadata_6371.lumi_in_fill*(1e-9), params[0][0], params[0][1], params[0][2]), label='a=%5.3f,  b=%5.3f, c=%5.3f' % tuple(params[0]))\n",
    "plt.plot(metadata_6371.lumi_in_fill*(1e-9), transp_6371, \".r-\", markersize=2, linewidth=0.75, label='fill 3671')\n",
    "plt.legend(title='i$\\eta$ 55')\n",
    "plt.tick_params(labelsize=7)\n",
    "plt.xlabel('Lumi in fill [fb$^{-1}$]')\n",
    "plt.ylabel('Normalized mean transparency')\n",
    "plt.title('$ae^{-bx} + (1-a)e^{cx}$')\n",
    "plt.savefig('fit_exp_exp')"
   ]
  },
  {
   "cell_type": "code",
   "execution_count": null,
   "metadata": {},
   "outputs": [],
   "source": [
    "plt.plot(metadata_6371.lumi_in_fill*(1e-9), fit_func(metadata_6371.lumi_in_fill*(1e-9), params[0][0], params[0][1], params[0][2]), label='a=%5.3f,  b=%5.3f, 3 c=%5.3f' % tuple(params[0])) \n",
    "plt.plot(metadata_6371.lumi_in_fill*(1e-9), transp_6371_test, \".r-\", markersize=2, linewidth=0.75, label='fill 3671')\n",
    "plt.legend(title='i$\\eta$ 56')\n",
    "plt.tick_params(labelsize=7)\n",
    "plt.xlabel('Lumi in fill [fb$^{-1}$]')\n",
    "plt.ylabel('Normalized mean trannsparency')\n",
    "plt.title('$ae^{-bx}+(1-a)e^{cx}$')\n",
    "plt.savefig('fit_exp_exp_test')"
   ]
  },
  {
   "cell_type": "code",
   "execution_count": null,
   "metadata": {},
   "outputs": [],
   "source": [
    "chi2 = chisquare(transp_6371_test, fit_func(metadata_6371.lumi_in_fill*(1e-9), params[0][0], params[0][1], params[0][2]))\n",
    "chi2"
   ]
  },
  {
   "cell_type": "markdown",
   "metadata": {},
   "source": [
    "## Fit esponeneziale + parabola $|i\\eta|$ 55"
   ]
  },
  {
   "cell_type": "code",
   "execution_count": null,
   "metadata": {},
   "outputs": [],
   "source": [
    "def fit_func_2(x, a, b, c, d, e):\n",
    "    return a*np.exp(-x*b)+c*x**2+d*x+e"
   ]
  },
  {
   "cell_type": "code",
   "execution_count": null,
   "metadata": {},
   "outputs": [],
   "source": [
    "params_2 = curve_fit(fit_func_2, metadata_6371.lumi_in_fill*(1e-9), transp_6371)\n",
    "params_2[0]"
   ]
  },
  {
   "cell_type": "code",
   "execution_count": null,
   "metadata": {},
   "outputs": [],
   "source": [
    "plt.plot(metadata_6371.lumi_in_fill*(1e-9), fit_func_2(metadata_6371.lumi_in_fill*(1e-9), params_2[0][0], params_2[0][1], params_2[0][2], params_2[0][3], params_2[0][4]), label='a=%5.3f, b=%5.3f, c=%5.3f, d=%5.3f, e=%5.3f' % tuple(params_2[0]))\n",
    "plt.plot(metadata_6371.lumi_in_fill*(1e-9), transp_6371, \".r-\", markersize=2, linewidth=0.75, label='fill 6371')\n",
    "plt.legend(title='i$\\eta$ 55', prop={'size':8})\n",
    "plt.tick_params(labelsize=7)\n",
    "plt.xlabel('Lumi in fill [fb$^{-1}$]')\n",
    "plt.ylabel('Normalized mean trannsparency')\n",
    "plt.title('ae$^{-bx}$ + cx$^2$ + dx + e')\n",
    "plt.savefig('fit_exp_parabola')"
   ]
  },
  {
   "cell_type": "code",
   "execution_count": null,
   "metadata": {},
   "outputs": [],
   "source": [
    "plt.plot(metadata_6371.lumi_in_fill*(1e-9), fit_func_2(metadata_6371.lumi_in_fill*(1e-9), params_2[0][0], params_2[0][1], params_2[0][2], params_2[0][3], params_2[0][4]), label= 'a=%5.3f, b=%5.3f, c=%5.3f, d=%5.3f, e=%5.3f' % tuple(params_2[0]))\n",
    "plt.plot(metadata_6371.lumi_in_fill*(1e-9), transp_6371_test, \".r-\", markersize=2, linewidth=0.75, label='fill 6371')\n",
    "plt.legend(title='i$\\eta$ 56', prop={'size':8})\n",
    "plt.tick_params(labelsize=7)\n",
    "plt.xlabel('Lumi in fill [fb$^{-1}$]')\n",
    "plt.ylabel('Normalized mean transparency')\n",
    "plt.title('ae$^{-bx}$ + cx$^2$ + dx + e')\n",
    "plt.savefig('fit_exp_parabola_test')"
   ]
  },
  {
   "cell_type": "markdown",
   "metadata": {},
   "source": [
    "## Fit esponenziali $|i\\eta|$ 20"
   ]
  },
  {
   "cell_type": "code",
   "execution_count": null,
   "metadata": {},
   "outputs": [],
   "source": [
    "par = curve_fit(fit_func, metadata_6371.lumi_in_fill*(1e-9), transp_6371_2)\n",
    "par[0]"
   ]
  },
  {
   "cell_type": "code",
   "execution_count": null,
   "metadata": {},
   "outputs": [],
   "source": [
    "plt.plot(metadata_6371.lumi_in_fill*(1e-9), fit_func(metadata_6371.lumi_in_fill*(1e-9), par[0][0], par[0][1], par[0][2]), label='a=%5.3f, b=%5.3f, c=%5.3f' % tuple(par[0]))\n",
    "plt.plot(metadata_6371.lumi_in_fill*(1e-9), transp_6371_2, \".r-\", markersize=2, linewidth=0.75, label='fill 6371')\n",
    "plt.legend(title='i$\\eta$ 20')\n",
    "plt.tick_params(labelsize=7)\n",
    "plt.xlabel('Lumi in fill [fb$^{-1}$]')\n",
    "plt.ylabel('Normalized mean transparency')\n",
    "plt.title('$ae^{-bx}+(1-a)e^{cx}$')\n",
    "plt.savefig('fit_exp_exp')"
   ]
  },
  {
   "cell_type": "code",
   "execution_count": null,
   "metadata": {},
   "outputs": [],
   "source": [
    "plt.plot(metadata_6371.lumi_in_fill*(1e-9), fit_func(metadata_6371.lumi_in_fill*(1e-9), par[0][0], par[0][1], par[0][2]), label='a=%5.3f, b=%5.3f, c=%5.3f' % tuple(par[0]))\n",
    "plt.plot(metadata_6371.lumi_in_fill*(1e-9), transp_6371_2_test, \".r-\", markersize=2, linewidth=0.75, label='fill 6371')\n",
    "plt.legend(title='i$\\eta$ 20')\n",
    "plt.tick_params(labelsize=7)\n",
    "plt.xlabel('Lumi in fill [fb$^{-1}$]')\n",
    "plt.ylabel('Normalized mean transparency')\n",
    "plt.title('$ae^{-bx}+(1-a)e^{cx}$')\n",
    "plt.savefig('fit_exp_exp_EB2_test')"
   ]
  },
  {
   "cell_type": "markdown",
   "metadata": {},
   "source": [
    "## Fitting fill 6156"
   ]
  },
  {
   "cell_type": "code",
   "execution_count": null,
   "metadata": {},
   "outputs": [],
   "source": [
    "par = curve_fit(fit_func, metadata_6156.lumi_in_fill*(1e-9), transp_6156)\n",
    "par[0]"
   ]
  },
  {
   "cell_type": "code",
   "execution_count": null,
   "metadata": {},
   "outputs": [],
   "source": [
    "plt.plot(metadata_6156.lumi_in_fill*(1e-9), fit_func(metadata_6156.lumi_in_fill*(1e-9), par[0][0], par[0][1], par[0][2]), label='a=%5.3f, b=%5.3f, c=%5.3f' % tuple(par[0]))\n",
    "plt.plot(metadata_6156.lumi_in_fill*(1e-9), transp_6156, \".r-\", markersize=2, linewidth=0.75, label='fill 6156')\n",
    "plt.title('$ae^{-bx}+(1-a)e^{cx}$')\n",
    "plt.legend(title=('i$\\eta$ 55'))\n",
    "plt.tick_params(labelsize=7)\n",
    "plt.xlabel('Lumi in fill [fb$^{-1}$]')\n",
    "plt.ylabel('Normalized Mean Transparency')\n",
    "plt.savefig('fit_exp_exp_6156')"
   ]
  },
  {
   "cell_type": "markdown",
   "metadata": {},
   "source": [
    "## Fitting fill 6156 test"
   ]
  },
  {
   "cell_type": "code",
   "execution_count": null,
   "metadata": {},
   "outputs": [],
   "source": [
    "transp_6156_test = mean_test[metadata_6156.index.values[0]:metadata_6156.index.values[0]+len(metadata_6156.axes[0])]\n",
    "transp_6156_test = transp_6156_test/transp_6156_test[0]"
   ]
  },
  {
   "cell_type": "code",
   "execution_count": null,
   "metadata": {},
   "outputs": [],
   "source": [
    "plt.plot(metadata_6156.lumi_in_fill*(1e-9), fit_func(metadata_6156.lumi_in_fill*(1e-9), par[0][0], par[0][1], par[0][2]), label='a=%5.3f, b=%5.3f, c=%5.3f' % tuple(par[0]))\n",
    "plt.plot(metadata_6156.lumi_in_fill*(1e-9), transp_6156_test, \".r-\", markersize=2, linewidth=0.75, label='fill 6156')\n",
    "plt.title('$ae^{-bx}+(1-a)e^{cx}$')\n",
    "plt.legend(title=('i$\\eta$ 56'))\n",
    "plt.tick_params(labelsize=7)\n",
    "plt.xlabel('Lumi in fill [fb$^{-1}$]')\n",
    "plt.ylabel('Normalized Mean Transparency')\n",
    "plt.savefig('fit_exp_exp_6156_test')"
   ]
  },
  {
   "cell_type": "markdown",
   "metadata": {},
   "source": [
    "# Fitting fill 6287"
   ]
  },
  {
   "cell_type": "code",
   "execution_count": null,
   "metadata": {},
   "outputs": [],
   "source": [
    "par = curve_fit(fit_func, metadata_6287.lumi_in_fill*(1e-9), transp_6287)\n",
    "par[0]"
   ]
  },
  {
   "cell_type": "code",
   "execution_count": null,
   "metadata": {},
   "outputs": [],
   "source": [
    "plt.plot(metadata_6287.lumi_in_fill*(1e-9), fit_func(metadata_6287.lumi_in_fill*(1e-9), par[0][0], par[0][1], par[0][2]), label='a=%5.3f, b=%5.3f, c=%5.3f' % tuple(par[0]))\n",
    "plt.plot(metadata_6287.lumi_in_fill*(1e-9), transp_6287, \".r-\", markersize=2, linewidth=0.75, label='fill 6287')\n",
    "plt.title('$ae^{-bx}+(1-a)e^{cx}$')\n",
    "plt.legend(title=('i$\\eta$ 55'))\n",
    "plt.tick_params(labelsize=7)\n",
    "plt.xlabel('Lumi in fill [fb$^{-1}$]')\n",
    "plt.ylabel('Normalized Mean Transparency')\n",
    "plt.savefig('fit_exp_exp_6287')"
   ]
  },
  {
   "cell_type": "markdown",
   "metadata": {},
   "source": [
    "## Fitting fill 6287 test"
   ]
  },
  {
   "cell_type": "code",
   "execution_count": null,
   "metadata": {},
   "outputs": [],
   "source": [
    "transp_6287_test = mean_test[metadata_6287.index.values[0]:metadata_6287.index.values[0]+len(metadata_6287.axes[0])]"
   ]
  },
  {
   "cell_type": "code",
   "execution_count": null,
   "metadata": {},
   "outputs": [],
   "source": [
    "transp_6287_test = transp_6287_test/transp_6287_test[0]"
   ]
  },
  {
   "cell_type": "code",
   "execution_count": null,
   "metadata": {},
   "outputs": [],
   "source": [
    "plt.plot(metadata_6287.lumi_in_fill*(1e-9), fit_func(metadata_6287.lumi_in_fill*(1e-9), par[0][0], par[0][1], par[0][2]), label='a=%5.3f, b=%5.3f, c=%5.3f' % tuple(par[0]))\n",
    "plt.plot(metadata_6287.lumi_in_fill*(1e-9), transp_6287_test, \".r-\", markersize=2, linewidth=0.75, label='fill 6156')\n",
    "plt.title('$ae^{-bx}+(1-a)e^{cx}$')\n",
    "plt.legend(title=('i$\\eta$ 56'))\n",
    "plt.tick_params(labelsize=7)\n",
    "plt.xlabel('Lumi in fill [fb$^{-1}$]')\n",
    "plt.ylabel('Normalized Mean Transparency')\n",
    "plt.savefig('fit_exp_exp_6287_test')"
   ]
  },
  {
   "cell_type": "markdown",
   "metadata": {},
   "source": [
    "# Fitting fill 6026"
   ]
  },
  {
   "cell_type": "code",
   "execution_count": null,
   "metadata": {},
   "outputs": [],
   "source": [
    "metadata_6026 = metadata[metadata.fill_num == 6026]"
   ]
  },
  {
   "cell_type": "code",
   "execution_count": null,
   "metadata": {},
   "outputs": [],
   "source": [
    "transp_6026 = mean[metadata_6026.index.values[0]:metadata_6026.index.values[0]+len(metadata_6026.axes[0])]"
   ]
  },
  {
   "cell_type": "code",
   "execution_count": null,
   "metadata": {},
   "outputs": [],
   "source": [
    "transp_6026 = transp_6026/transp_6026[0]"
   ]
  },
  {
   "cell_type": "code",
   "execution_count": null,
   "metadata": {},
   "outputs": [],
   "source": [
    "par = curve_fit(fit_func, metadata_6026.lumi_in_fill*(1e-9), transp_6026)\n",
    "par[0]"
   ]
  },
  {
   "cell_type": "code",
   "execution_count": null,
   "metadata": {},
   "outputs": [],
   "source": [
    "plt.plot(metadata_6026.lumi_in_fill*(1e-9), fit_func(metadata_6026.lumi_in_fill*(1e-9), par[0][0], par[0][1], par[0][2]), label='a=%5.3f, b=%5.3f, c=%5.3f' % tuple(par[0]))\n",
    "plt.plot(metadata_6026.lumi_in_fill*(1e-9), transp_6026, \".r-\", markersize=2, linewidth=0.75, label='fill 6026')\n",
    "plt.title('$ae^{-bx}+(1-a)e^{cx}$')\n",
    "plt.legend(title=('i$\\eta$ 55'))\n",
    "plt.tick_params(labelsize=7)\n",
    "plt.xlabel('Lumi in fill [fb$^{-1}$]')\n",
    "plt.ylabel('Normalized Mean Transparency')\n",
    "plt.savefig('fit_exp_exp_6026')"
   ]
  },
  {
   "cell_type": "markdown",
   "metadata": {},
   "source": [
    "## Fitting fill 6026 test"
   ]
  },
  {
   "cell_type": "code",
   "execution_count": null,
   "metadata": {},
   "outputs": [],
   "source": [
    "transp_6026_test = mean_test[metadata_6026.index.values[0]:metadata_6026.index.values[0]+len(metadata_6026.axes[0])]"
   ]
  },
  {
   "cell_type": "code",
   "execution_count": null,
   "metadata": {},
   "outputs": [],
   "source": [
    "transp_6026_test = transp_6026_test/transp_6026_test[0]"
   ]
  },
  {
   "cell_type": "code",
   "execution_count": null,
   "metadata": {},
   "outputs": [],
   "source": [
    "plt.plot(metadata_6026.lumi_in_fill*(1e-9), fit_func(metadata_6026.lumi_in_fill*(1e-9), par[0][0], par[0][1], par[0][2]), label='a=%5.3f, b=%5.3f, c=%5.3f' % tuple(par[0]))\n",
    "plt.plot(metadata_6026.lumi_in_fill*(1e-9), transp_6026_test, \".r-\", markersize=2, linewidth=0.75, label='fill 6156')\n",
    "plt.title('$ae^{-bx}+(1-a)e^{cx}$')\n",
    "plt.legend(title=('i$\\eta$ 56'))\n",
    "plt.tick_params(labelsize=7)\n",
    "plt.xlabel('Lumi in fill [fb$^{-1}$]')\n",
    "plt.ylabel('Normalized Mean Transparency')\n",
    "plt.savefig('fit_exp_exp_6026_test')"
   ]
  },
  {
   "cell_type": "code",
   "execution_count": null,
   "metadata": {},
   "outputs": [],
   "source": [
    "chi = chisquare(transp_6026_test, fit_func(metadata_6026.lumi_in_fill*(1e-9), par[0][0], par[0][1], par[0][2]))\n",
    "chi"
   ]
  },
  {
   "cell_type": "markdown",
   "metadata": {},
   "source": [
    "# Fitting fill 6191"
   ]
  },
  {
   "cell_type": "code",
   "execution_count": null,
   "metadata": {},
   "outputs": [],
   "source": [
    "metadata_6191 = metadata[metadata.fill_num == 6191]"
   ]
  },
  {
   "cell_type": "code",
   "execution_count": null,
   "metadata": {},
   "outputs": [],
   "source": [
    "transp_6191 = mean[metadata_6191.index.values[0]:metadata_6191.index.values[0]+len(metadata_6191.axes[0])]"
   ]
  },
  {
   "cell_type": "code",
   "execution_count": null,
   "metadata": {},
   "outputs": [],
   "source": [
    "transp_6191 = transp_6191/transp_6191[0]"
   ]
  },
  {
   "cell_type": "code",
   "execution_count": null,
   "metadata": {},
   "outputs": [],
   "source": [
    "par = curve_fit(fit_func, metadata_6191.lumi_in_fill*(1e-9), transp_6191)\n",
    "par[0]"
   ]
  },
  {
   "cell_type": "code",
   "execution_count": null,
   "metadata": {},
   "outputs": [],
   "source": [
    "plt.plot(metadata_6191.lumi_in_fill*(1e-9), fit_func(metadata_6191.lumi_in_fill*(1e-9), par[0][0], par[0][1], par[0][2]), label='a=%5.3f, b=%5.3f, c=%5.3f' % tuple(par[0]))\n",
    "plt.plot(metadata_6191.lumi_in_fill*(1e-9), transp_6191, \".r-\", markersize=2, linewidth=0.75, label='fill 6191')\n",
    "plt.title('$ae^{-bx}+(1-a)e^{cx}$')\n",
    "plt.legend(title=('i$\\eta$ 55'))\n",
    "plt.tick_params(labelsize=7)\n",
    "plt.xlabel('Lumi in fill [fb$^{-1}$]')\n",
    "plt.ylabel('Normalized Mean Transparency')\n",
    "plt.savefig('fit_exp_exp_6191')"
   ]
  },
  {
   "cell_type": "markdown",
   "metadata": {},
   "source": [
    "## Fitting fill 6191 test"
   ]
  },
  {
   "cell_type": "code",
   "execution_count": null,
   "metadata": {},
   "outputs": [],
   "source": [
    "transp_6191_test = mean_test[metadata_6191.index.values[0]:metadata_6191.index.values[0]+len(metadata_6191.axes[0])]"
   ]
  },
  {
   "cell_type": "code",
   "execution_count": null,
   "metadata": {},
   "outputs": [],
   "source": [
    "transp_6191_test = transp_6191_test/transp_6191_test[0]"
   ]
  },
  {
   "cell_type": "code",
   "execution_count": null,
   "metadata": {},
   "outputs": [],
   "source": [
    "plt.plot(metadata_6191.lumi_in_fill*(1e-9), fit_func(metadata_6191.lumi_in_fill*(1e-9), par[0][0], par[0][1], par[0][2]), label='a=%5.3f, b=%5.3f, c=%5.3f' % tuple(par[0]))\n",
    "plt.plot(metadata_6191.lumi_in_fill*(1e-9), transp_6191_test, \".r-\", markersize=2, linewidth=0.75, label='fill 6191')\n",
    "plt.title('$ae^{-bx}+(1-a)e^{cx}$')\n",
    "plt.legend(title=('i$\\eta$ 56'))\n",
    "plt.tick_params(labelsize=7)\n",
    "plt.xlabel('Lumi in fill [fb$^{-1}$]')\n",
    "plt.ylabel('Normalized Mean Transparency')\n",
    "plt.savefig('fit_exp_exp_6191_test')"
   ]
  },
  {
   "cell_type": "markdown",
   "metadata": {},
   "source": [
    "# Fitting fill 6314"
   ]
  },
  {
   "cell_type": "code",
   "execution_count": null,
   "metadata": {},
   "outputs": [],
   "source": [
    "metadata_6314 = metadata[metadata.fill_num == 6314]"
   ]
  },
  {
   "cell_type": "code",
   "execution_count": null,
   "metadata": {},
   "outputs": [],
   "source": [
    "transp_6314 = mean[metadata_6314.index.values[0]:metadata_6314.index.values[0]+len(metadata_6314.axes[0])]"
   ]
  },
  {
   "cell_type": "code",
   "execution_count": null,
   "metadata": {},
   "outputs": [],
   "source": [
    "transp_6314 = transp_6314/transp_6314[0]"
   ]
  },
  {
   "cell_type": "code",
   "execution_count": null,
   "metadata": {},
   "outputs": [],
   "source": [
    "par = curve_fit(fit_func, metadata_6314.lumi_in_fill*(1e-9), transp_6314)"
   ]
  },
  {
   "cell_type": "code",
   "execution_count": null,
   "metadata": {},
   "outputs": [],
   "source": [
    "plt.plot(metadata_6314.lumi_in_fill*(1e-9), fit_func(metadata_6314.lumi_in_fill*(1e-9), par[0][0], par[0][1], par[0][2]), label='a=%5.3f, b=%5.3f, c=%5.3f' % tuple(par[0]))\n",
    "plt.plot(metadata_6314.lumi_in_fill*(1e-9), transp_6314, \".r-\", markersize=2, linewidth=0.75, label='fill 6314')\n",
    "plt.title('$ae^{-bx}+(1-a)e^{cx}$')\n",
    "plt.legend(title=('i$\\eta$ 55'))\n",
    "plt.tick_params(labelsize=7)\n",
    "plt.xlabel('Lumi in fill [fb$^{-1}$]')\n",
    "plt.ylabel('Normalized Mean Transparency')\n",
    "plt.savefig('fit_exp_exp_6314')"
   ]
  },
  {
   "cell_type": "markdown",
   "metadata": {},
   "source": [
    "## Fitting fill 6314 test"
   ]
  },
  {
   "cell_type": "code",
   "execution_count": null,
   "metadata": {},
   "outputs": [],
   "source": [
    "transp_6314_test = mean_test[metadata_6314.index.values[0]:metadata_6314.index.values[0]+len(metadata_6314.axes[0])]"
   ]
  },
  {
   "cell_type": "code",
   "execution_count": null,
   "metadata": {},
   "outputs": [],
   "source": [
    "transp_6314_test = transp_6314_test/transp_6314_test[0]"
   ]
  },
  {
   "cell_type": "code",
   "execution_count": null,
   "metadata": {},
   "outputs": [],
   "source": [
    "plt.plot(metadata_6314.lumi_in_fill*(1e-9), fit_func(metadata_6314.lumi_in_fill*(1e-9), par[0][0], par[0][1], par[0][2]), label='a=%5.3f, b=%5.3f, c=%5.3f' % tuple(par[0]))\n",
    "plt.plot(metadata_6314.lumi_in_fill*(1e-9), transp_6314_test, \".r-\", markersize=2, linewidth=0.75, label='fill 6414')\n",
    "plt.title('$ae^{-bx}+(1-a)e^{cx}$')\n",
    "plt.legend(title=('i$\\eta$ 56'))\n",
    "plt.tick_params(labelsize=7)\n",
    "plt.xlabel('Lumi in fill [fb$^{-1}$]')\n",
    "plt.ylabel('Normalized Mean Transparency')\n",
    "plt.savefig('fit_exp-exp_6314_test')"
   ]
  }
 ],
 "metadata": {
  "kernelspec": {
   "display_name": "Python 3",
   "language": "python",
   "name": "python3"
  },
  "language_info": {
   "codemirror_mode": {
    "name": "ipython",
    "version": 3
   },
   "file_extension": ".py",
   "mimetype": "text/x-python",
   "name": "python",
   "nbconvert_exporter": "python",
   "pygments_lexer": "ipython3",
   "version": "3.7.4"
  }
 },
 "nbformat": 4,
 "nbformat_minor": 2
}
