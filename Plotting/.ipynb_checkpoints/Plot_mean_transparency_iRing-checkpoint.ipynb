{
 "cells": [
  {
   "cell_type": "code",
   "execution_count": null,
   "metadata": {},
   "outputs": [],
   "source": [
    "import matplotlib.pyplot as plt\n",
    "import matplotlib as mpl\n",
    "import pandas as pd\n",
    "import numpy as np\n",
    "from pprint import pprint\n",
    "from collections import namedtuple\n",
    "import datetime\n",
    "\n",
    "mpl.rcParams['figure.figsize'] = (5,4)\n",
    "mpl.rcParams['figure.dpi'] = 150\n",
    "mpl.rcParams[\"image.origin\"] = 'lower'\n",
    " \n",
    "%matplotlib notebook"
   ]
  },
  {
   "cell_type": "code",
   "execution_count": null,
   "metadata": {},
   "outputs": [],
   "source": [
    "#Data folder\n",
    "data_folder = '/home/alessandro/Scrivania/University/ML4ECAL/Transparency/DataPreparation'"
   ]
  },
  {
   "cell_type": "code",
   "execution_count": null,
   "metadata": {},
   "outputs": [],
   "source": [
    "data0 = np.load(f\"{data_folder}/iring_0.npy\")\n",
    "data10 = np.load(f\"{data_folder}/iring_10.npy\")\n",
    "data25 = np.load(f\"{data_folder}/iring_25.npy\")"
   ]
  },
  {
   "cell_type": "code",
   "execution_count": null,
   "metadata": {},
   "outputs": [],
   "source": [
    "data0_df = pd.DataFrame(data0)\n",
    "data10_df = pd.DataFrame(data10)\n",
    "data25_df = pd.DataFrame(data25)"
   ]
  },
  {
   "cell_type": "code",
   "execution_count": null,
   "metadata": {},
   "outputs": [],
   "source": [
    "#data0_df.head()\n",
    "#data10_df.head()\n",
    "data25_df.head()"
   ]
  },
  {
   "cell_type": "code",
   "execution_count": null,
   "metadata": {},
   "outputs": [],
   "source": [
    "mean0 = []\n",
    "mean10 = []\n",
    "mean25 = []\n",
    "\n",
    "for i in range (0, len(data0_df.axes[1])):\n",
    "    mean0 = np.append(mean0, np.mean(data0_df[i]))\n",
    "    mean10 = np.append(mean10, np.mean(data10_df[i]))\n",
    "    mean25 = np.append(mean25, np.mean(data25_df[i]))\n",
    "\n",
    "\n",
    "mean0 = mean0[mean0 != -1]\n",
    "mean10 = mean10[mean10 != -1]\n",
    "mean25 = mean25[mean25 != -1]"
   ]
  },
  {
   "cell_type": "code",
   "execution_count": null,
   "metadata": {},
   "outputs": [],
   "source": [
    "print(np.size(mean0))\n",
    "print(np.size(mean10))\n",
    "print(np.size(mean25))"
   ]
  },
  {
   "cell_type": "code",
   "execution_count": null,
   "metadata": {},
   "outputs": [],
   "source": [
    "metadata = pd.read_csv(f\"{data_folder}/fill_metadata_2017_10min.csv\")\n",
    "metadata = metadata.iloc[:len(mean0)][mean0!=-1]\n",
    "\n",
    "date = [datetime.datetime.fromtimestamp(ts) for ts in metadata.time]"
   ]
  },
  {
   "cell_type": "code",
   "execution_count": null,
   "metadata": {},
   "outputs": [],
   "source": [
    "plt.plot(date, mean0, \".r-\", markersize=2, linewidth=0.75, label='iRing = 0 ')\n",
    "plt.plot(date, mean10, \".b-\", markersize=2, linewidth=0.75, label='iRing = 10')\n",
    "plt.plot(date, mean25, \".g-\", markersize=2, linewidth=0.75, label = 'iRing = 25')\n",
    "plt.legend(loc='lower left')\n",
    "plt.tick_params(labelsize=7)\n",
    "plt.xticks(rotation='45')\n",
    "plt.ylabel('Mean transparency in iRing')"
   ]
  },
  {
   "cell_type": "code",
   "execution_count": null,
   "metadata": {},
   "outputs": [],
   "source": [
    "metadata.head()"
   ]
  },
  {
   "cell_type": "code",
   "execution_count": null,
   "metadata": {},
   "outputs": [],
   "source": [
    "metadata0 = metadata[metadata['fill_num'] == 6167]\n",
    "date0 = [datetime.datetime.fromtimestamp(ts) for ts in metadata0.time]"
   ]
  },
  {
   "cell_type": "code",
   "execution_count": null,
   "metadata": {},
   "outputs": [],
   "source": [
    "metadata0.head()"
   ]
  },
  {
   "cell_type": "code",
   "execution_count": null,
   "metadata": {},
   "outputs": [],
   "source": [
    "mean_0 = mean0[metadata0.index.values[0]:metadata0.index.values[0]+len(metadata0.axes[0])]\n",
    "print(np.size(mean_0))"
   ]
  },
  {
   "cell_type": "code",
   "execution_count": null,
   "metadata": {},
   "outputs": [],
   "source": [
    "plt.plot(date0, mean_0, \".r-\", markersize=2, linewidth=0.75, label='iRing 0, fill 6167')\n",
    "plt.xticks(rotation ='45')\n",
    "plt.tick_params(labelsize=5)\n",
    "plt.legend()\n",
    "plt.ylabel('Mean transparency')"
   ]
  },
  {
   "cell_type": "code",
   "execution_count": null,
   "metadata": {},
   "outputs": [],
   "source": [
    "#Trasparenza normalizzata alla trasparenza appena precedente al fill\n",
    "plt.plot(date0, mean_0/(mean0[metadata0.index.values[0]-1]), \".r-\", markersize=2, linewidth=0.75, label=\"iRing 0, fill 6167\")\n",
    "plt.xticks(rotation='45')\n",
    "plt.tick_params(labelsize=5)\n",
    "plt.legend()\n",
    "plt.ylabel('Normalized mean transparency')"
   ]
  },
  {
   "cell_type": "code",
   "execution_count": null,
   "metadata": {},
   "outputs": [],
   "source": [
    "#Trasparenza media normalizzata dei tre cristalli\n",
    "mean_10=mean10[metadata0.index.values[0]:metadata0.index.values[0]+len(metadata0.axes[0])]\n",
    "mean_25=mean25[metadata0.index.values[0]:metadata0.index.values[0]+len(metadata0.axes[0])]\n",
    "plt.plot(date0, mean_0/(mean0[metadata0.index.values[0]-1]), \".r-\", markersize=2, linewidth=0.75, label='iRing 0')\n",
    "plt.plot(date0, mean_10/(mean10[metadata0.index.values[0]-1]), \".b-\", markersize=2, linewidth=0.75, label='iRing 10')\n",
    "plt.plot(date0, mean_25/(mean25[metadata0.index.values[0]-1]), \".g-\", markersize=2, linewidth=0.75, label='iRing 25')\n",
    "plt.tick_params(labelsize=7)\n",
    "plt.xticks(rotation='45')\n",
    "plt.legend(title='fill 6167', loc='lower left')\n",
    "plt.ylabel('Normalized mean transparency')"
   ]
  },
  {
   "cell_type": "code",
   "execution_count": null,
   "metadata": {},
   "outputs": [],
   "source": [
    "metadata_6176 = metadata[metadata.fill_num == 6176]\n",
    "\n",
    "transp_6176_0 = mean0[metadata_6176.index.values[0]:metadata_6176.index.values[0]+len(metadata_6176.axes[0])]\n",
    "transp_6176_0 = transp_6176_0/transp_6176_0[0]\n",
    "\n",
    "transp_6176_10 = mean10[metadata_6176.index.values[0]:metadata_6176.index.values[0]+len(metadata_6176.axes[0])]\n",
    "transp_6176_10 = transp_6176_10/transp_6176_10[0]\n",
    "\n",
    "transp_6176_25 = mean25[metadata_6176.index.values[0]:metadata_6176.index.values[0]+len(metadata_6176.axes[0])]\n",
    "transp_6176_25 = transp_6176_25/transp_6176_25[0]\n",
    "\n",
    "date_6176 = date[metadata_6176.index.values[0]:metadata_6176.index.values[0]+len(metadata_6176.axes[0])]"
   ]
  },
  {
   "cell_type": "code",
   "execution_count": null,
   "metadata": {},
   "outputs": [],
   "source": [
    "plt.plot(date_6176, transp_6176_0, \".r-\", markersize=2, linewidth=0.75, label='iRing 0')\n",
    "plt.plot(date_6176, transp_6176_10, \".b-\", markersize=2, linewidth=0.75, label='iRing 10')\n",
    "plt.plot(date_6176, transp_6176_25, \".g-\", markersize=2, linewidth=0.75, label='iRing 25')\n",
    "plt.legend(title='fill 6176')\n",
    "plt.tick_params(labelsize=7)\n",
    "plt.xticks(rotation='45')\n",
    "plt.ylabel('Mean transparency in iRing')\n",
    "plt.legend(title='fill 6176')\n",
    "#plt.savefig('mean_transparency_iring')"
   ]
  },
  {
   "cell_type": "code",
   "execution_count": null,
   "metadata": {},
   "outputs": [],
   "source": [
    "metadata_6371 = metadata[metadata.fill_num == 6371]\n",
    "\n",
    "transp_6371_0 = mean0[metadata_6371.index.values[0]:metadata_6371.index.values[0]+len(metadata_6371.axes[0])]\n",
    "transp_6371_0 = transp_6371_0/transp_6371_0[0]\n",
    "\n",
    "transp_6371_10 = mean10[metadata_6371.index.values[0]:metadata_6371.index.values[0]+len(metadata_6371.axes[0])]\n",
    "transp_6371_10 = transp_6371_10/transp_6371_10[0]\n",
    "\n",
    "transp_6371_25 = mean25[metadata_6371.index.values[0]:metadata_6371.index.values[0]+len(metadata_6371.axes[0])]\n",
    "transp_6371_25 = transp_6371_25/transp_6371_25[0]\n",
    "\n",
    "date_6371 = date[metadata_6371.index.values[0]:metadata_6371.index.values[0]+len(metadata_6371.axes[0])]"
   ]
  },
  {
   "cell_type": "code",
   "execution_count": null,
   "metadata": {},
   "outputs": [],
   "source": [
    "plt.plot(date_6371, transp_6371_0, \".r-\", markersize=2, linewidth=0.75, label='iRing 0')\n",
    "plt.plot(date_6371, transp_6371_10, \".b-\", markersize=2, linewidth=0.75, label='iRing 10')\n",
    "plt.plot(date_6371, transp_6371_25, \".g-\", markersize=2, linewidth=0.75, label='iRing 25')\n",
    "plt.legend(title='fill 6371')\n",
    "plt.tick_params(labelsize=7)\n",
    "plt.xticks(rotation='45')\n",
    "plt.ylabel('Mean transparency in iRing')\n",
    "plt.legend(title='fill 6371')\n",
    "#plt.savefig('mean_transparency_iring_2')"
   ]
  },
  {
   "cell_type": "code",
   "execution_count": null,
   "metadata": {},
   "outputs": [],
   "source": []
  }
 ],
 "metadata": {
  "kernelspec": {
   "display_name": "Python 3",
   "language": "python",
   "name": "python3"
  },
  "language_info": {
   "codemirror_mode": {
    "name": "ipython",
    "version": 3
   },
   "file_extension": ".py",
   "mimetype": "text/x-python",
   "name": "python",
   "nbconvert_exporter": "python",
   "pygments_lexer": "ipython3",
   "version": "3.7.4"
  }
 },
 "nbformat": 4,
 "nbformat_minor": 2
}
