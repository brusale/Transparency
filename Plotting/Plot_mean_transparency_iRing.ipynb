{
 "cells": [
  {
   "cell_type": "code",
   "execution_count": null,
   "metadata": {},
   "outputs": [],
   "source": [
    "import matplotlib.pyplot as plt\n",
    "import matplotlib as mpl\n",
    "import pandas as pd\n",
    "import numpy as np\n",
    "from pprint import pprint\n",
    "from collections import namedtuple\n",
    "import datetime\n",
    "\n",
    "mpl.rcParams['figure.figsize'] = (5,4)\n",
    "mpl.rcParams['figure.dpi'] = 150\n",
    "mpl.rcParams[\"image.origin\"] = 'lower'\n",
    " \n",
    "%matplotlib notebook"
   ]
  },
  {
   "cell_type": "code",
   "execution_count": null,
   "metadata": {},
   "outputs": [],
   "source": [
    "#Data folder\n",
    "data_folder = '/home/alessandro/Scrivania/University/ML4ECAL/Transparency/DataPreparation'"
   ]
  },
  {
   "cell_type": "code",
   "execution_count": null,
   "metadata": {},
   "outputs": [],
   "source": [
    "data0 = np.load(f\"{data_folder}/iring_0.npy\")\n",
    "data10 = np.load(f\"{data_folder}/iring_10.npy\")\n",
    "data25 = np.load(f\"{data_folder}/iring_25.npy\")"
   ]
  },
  {
   "cell_type": "code",
   "execution_count": null,
   "metadata": {},
   "outputs": [],
   "source": [
    "data0_df = pd.DataFrame(data0)\n",
    "data10_df = pd.DataFrame(data10)\n",
    "data25_df = pd.DataFrame(data25)"
   ]
  },
  {
   "cell_type": "code",
   "execution_count": null,
   "metadata": {},
   "outputs": [],
   "source": [
    "#data0_df.head()\n",
    "#data10_df.head()\n",
    "data25_df.head()"
   ]
  },
  {
   "cell_type": "code",
   "execution_count": null,
   "metadata": {},
   "outputs": [],
   "source": [
    "mean0 = []\n",
    "mean10 = []\n",
    "mean25 = []\n",
    "\n",
    "for i in range (0, len(data0_df.axes[1])):\n",
    "    mean0 = np.append(mean0, np.mean(data0_df[i]))\n",
    "    mean10 = np.append(mean10, np.mean(data10_df[i]))\n",
    "    mean25 = np.append(mean25, np.mean(data25_df[i]))\n",
    "\n",
    "\n",
    "mean0 = mean0[mean0 != -1]\n",
    "mean10 = mean10[mean10 != -1]\n",
    "mean25 = mean25[mean25 != -1]"
   ]
  },
  {
   "cell_type": "code",
   "execution_count": null,
   "metadata": {},
   "outputs": [],
   "source": [
    "metadata = pd.read_csv(f\"{data_folder}/fill_metadata_2017_10min.csv\")\n",
    "metadata = metadata.iloc[:len(mean0)][mean0!=-1]\n",
    "\n",
    "date = [datetime.datetime.fromtimestamp(ts) for ts in metadata.time]"
   ]
  },
  {
   "cell_type": "code",
   "execution_count": null,
   "metadata": {},
   "outputs": [],
   "source": [
    "plt.plot(date, mean0, \".r-\", markersize=2, linewidth=0.75, label='iRing = 0 ')\n",
    "plt.plot(date, mean10, \".b-\", markersize=2, linewidth=0.75, label='iRing = 10')\n",
    "plt.plot(date, mean25, \".g-\", markersize=2, linewidth=0.75, label = 'iRing = 25')\n",
    "plt.legend(loc='lower left')\n",
    "plt.tick_params(labelsize=6)\n",
    "plt.xticks(rotation='45')\n",
    "plt.ylabel('Mean transparency in iRing')"
   ]
  },
  {
   "cell_type": "code",
   "execution_count": null,
   "metadata": {},
   "outputs": [],
   "source": []
  }
 ],
 "metadata": {
  "kernelspec": {
   "display_name": "Python 3",
   "language": "python",
   "name": "python3"
  },
  "language_info": {
   "codemirror_mode": {
    "name": "ipython",
    "version": 3
   },
   "file_extension": ".py",
   "mimetype": "text/x-python",
   "name": "python",
   "nbconvert_exporter": "python",
   "pygments_lexer": "ipython3",
   "version": "3.7.4"
  }
 },
 "nbformat": 4,
 "nbformat_minor": 2
}
