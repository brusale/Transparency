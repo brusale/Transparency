{
 "cells": [
  {
   "cell_type": "code",
   "execution_count": null,
   "metadata": {},
   "outputs": [],
   "source": [
    "import matplotlib.pyplot as plt\n",
    "import numpy as np\n",
    "import pandas as pd\n",
    "from scipy.optimize import curve_fit\n",
    "from scipy.stats import chisquare\n",
    "from sklearn.metrics import mean_squared_error\n",
    "\n",
    "%matplotlib notebook"
   ]
  },
  {
   "cell_type": "code",
   "execution_count": null,
   "metadata": {},
   "outputs": [],
   "source": [
    "data_folder=(\"/home/alessandro/Scrivania/University/ML4ECAL/transparency_ecal/DataPreparation/output_preliminary_plots\")"
   ]
  },
  {
   "cell_type": "code",
   "execution_count": null,
   "metadata": {},
   "outputs": [],
   "source": [
    "#Read metadata\n",
    "metadata = pd.read_csv(f\"{data_folder}/fill_metadata_2017_10min.csv\")"
   ]
  },
  {
   "cell_type": "code",
   "execution_count": null,
   "metadata": {},
   "outputs": [],
   "source": [
    "#Load data\n",
    "data1 = np.load(f\"{data_folder}/output_ix30.npy\", allow_pickle=True)\n",
    "data2 = np.load(f\"{data_folder}/output_ix139.npy\", allow_pickle=True)\n",
    "\n",
    "data1_test = np.load(f\"{data_folder}/output_iz0_ix140.npy\", allow_pickle=True)\n",
    "data2_test = np.load(f\"{data_folder}/output_iz0_ix29.npy\", allow_pickle=True)\n",
    "\n",
    "data1_test_2 = np.load(f\"{data_folder}/output_iz0_ix138.npy\", allow_pickle=True)\n",
    "data2_test_2 = np.load(f\"{data_folder}/output_iz0_ix31.npy\", allow_pickle=True)\n",
    "\n",
    "data_df = pd.DataFrame({'data1':data1, 'data2':data2})\n",
    "data_df_test = pd.DataFrame({'data1':data1_test, 'data2':data2_test})\n",
    "data_df_test_2 = pd.DataFrame({'data1':data1_test_2, 'data2':data2_test_2})"
   ]
  },
  {
   "cell_type": "code",
   "execution_count": null,
   "metadata": {},
   "outputs": [],
   "source": [
    "#Mean transparency in barrel\n",
    "mean = []\n",
    "mean_test = []\n",
    "mean_test_2 = []\n",
    "for i in range(0, np.size(data1)):\n",
    "    mean = np.append(mean, np.mean(data_df.iloc[i].tolist()))\n",
    "    mean_test = np.append(mean_test, np.mean(data_df_test.iloc[i].tolist()))\n",
    "    mean_test_2 = np.append(mean_test_2, np.mean(data_df_test_2.iloc[i].tolist()))"
   ]
  },
  {
   "cell_type": "code",
   "execution_count": null,
   "metadata": {},
   "outputs": [],
   "source": [
    "#Filter data and metadata\n",
    "mean = mean[mean != -1]\n",
    "mean_test = mean_test[mean_test != -1]\n",
    "mean_test_2 = mean_test_2[mean_test_2 != -1]\n",
    "metadata = metadata.iloc[:len(mean)][mean != -1]"
   ]
  },
  {
   "cell_type": "code",
   "execution_count": null,
   "metadata": {},
   "outputs": [],
   "source": [
    "def fit_func2(data, a, b, c, d, e, f):\n",
    "    x = data[0]\n",
    "    y = data[1]\n",
    "    y_0 = data[2]\n",
    "    return (a*np.exp(-b*x)+(1-a)*np.exp(c*x))*(d*np.exp(-e*y)+(1-d)*np.exp(f*y))/(d*np.exp(-e*y_0)+(1-d)*np.exp(f*y_0))"
   ]
  },
  {
   "cell_type": "code",
   "execution_count": null,
   "metadata": {},
   "outputs": [],
   "source": [
    "def fit_func1(data, a, b, c, d, e, f):\n",
    "    x = data[0]\n",
    "    y = data[1]\n",
    "    y_0 = data[2]\n",
    "    return (a*np.exp(-b*x)+(1-a)*np.exp(c*x))*(d*np.exp(-e*(y-y_0))+(1-d)*np.exp(f*(y-y_0)))"
   ]
  },
  {
   "cell_type": "markdown",
   "metadata": {},
   "source": [
    "# Fitting"
   ]
  },
  {
   "cell_type": "code",
   "execution_count": null,
   "metadata": {},
   "outputs": [],
   "source": [
    "fill = metadata[\"fill_num\"].unique()\n",
    "fill = fill[fill != 0]"
   ]
  },
  {
   "cell_type": "code",
   "execution_count": null,
   "metadata": {},
   "outputs": [],
   "source": [
    "metadata_fill = metadata[metadata.fill_num.isin(fill)]\n",
    "metadata_fill = metadata_fill[(metadata_fill.lumi_inst >= 0.0001*1e9) & (metadata_fill.lumi_inst <= 0.0004*1e9) & (metadata_fill.lumi_in_fill >= 0.1*1e9)]"
   ]
  },
  {
   "cell_type": "code",
   "execution_count": null,
   "metadata": {},
   "outputs": [],
   "source": [
    "fill_num = metadata_fill.fill_num.unique()\n",
    "transp_fill = []\n",
    "lumi_inst_0 = []\n",
    "lumi_int_0 = []\n",
    "\n",
    "for k in fill_num:\n",
    "    df = metadata_fill[metadata_fill.fill_num == k]\n",
    "    transp = [mean[i] for i in df.index.values]\n",
    "    transp = transp/transp[0]\n",
    "    transp_fill = np.append(transp_fill, transp)\n",
    "    a = np.empty(np.size(transp))\n",
    "    b = np.empty(np.size(transp))\n",
    "    a.fill(df['lumi_inst'].iloc[0])\n",
    "    b.fill(df['lumi_int'].iloc[0])\n",
    "    lumi_inst_0 = np.append(lumi_inst_0, a)\n",
    "    lumi_int_0 = np.append(lumi_int_0, b)"
   ]
  },
  {
   "cell_type": "code",
   "execution_count": null,
   "metadata": {},
   "outputs": [],
   "source": [
    "plt.scatter(metadata_fill.lumi_in_fill*(1e-9), metadata_fill.lumi_inst*(1e-9), c=transp_fill, cmap='jet', s=3)\n",
    "plt.ylim(0, 0.0005)\n",
    "cbar = plt.colorbar()\n",
    "#plt.clim(0.97, 1.20)\n",
    "plt.tick_params(labelsize=6)\n",
    "plt.xlabel(\"Lumi in fll [fb$^{-1}$]\")\n",
    "plt.ylabel(\"Instantaneous luminosity [fb$^{-1}$s$^{-1}$]\")\n",
    "cbar.set_label(\"Normalized transparency\")\n",
    "#plt.savefig(\"fill\")"
   ]
  },
  {
   "cell_type": "markdown",
   "metadata": {},
   "source": [
    "## Function #1"
   ]
  },
  {
   "cell_type": "code",
   "execution_count": null,
   "metadata": {},
   "outputs": [],
   "source": [
    "#Fit function #1\n",
    "par1, pcov1 = curve_fit(fit_func1, [metadata_fill.lumi_in_fill*(1e-9), metadata_fill.lumi_inst*(1e-9), lumi_inst_0*(1e-9)], transp_fill, maxfev=5000)"
   ]
  },
  {
   "cell_type": "code",
   "execution_count": null,
   "metadata": {},
   "outputs": [],
   "source": [
    "#RMSE\n",
    "np.sqrt(mean_squared_error(transp_fill, fit_func1([metadata_fill.lumi_in_fill*(1e-9), metadata_fill.lumi_inst*(1e-9), lumi_inst_0*(1e-9)], *par1)))"
   ]
  },
  {
   "cell_type": "code",
   "execution_count": null,
   "metadata": {},
   "outputs": [],
   "source": [
    "#Plot fit function #1\n",
    "plt.scatter(metadata_fill.lumi_in_fill*(1e-9), metadata_fill.lumi_inst*(1e-9), c=fit_func1([metadata_fill.lumi_in_fill*(1e-9), metadata_fill.lumi_inst*(1e-9),lumi_inst_0*(1e-9)], *par1), cmap='jet', s=3)\n",
    "plt.ylim(0, 0.0005)\n",
    "cbar = plt.colorbar()\n",
    "plt.tick_params(labelsize=6)\n",
    "plt.xlabel(\"Lumi in fll [fb$^{-1}$]\")\n",
    "plt.ylabel(\"Instantaneous luminosity [fb$^{-1}$s$^{-1}$]\")\n",
    "cbar.set_label(\"Fit function\")\n",
    "#plt.savefig(\"fill_fit1\")"
   ]
  },
  {
   "cell_type": "code",
   "execution_count": null,
   "metadata": {},
   "outputs": [],
   "source": [
    "#Plot transp_fill-fit_function #1\n",
    "plt.scatter(metadata_fill.lumi_in_fill*(1e-9), metadata_fill.lumi_inst*(1e-9), c=transp_fill-fit_func1([metadata_fill.lumi_in_fill*(1e-9), metadata_fill.lumi_inst*(1e-9),lumi_inst_0*(1e-9)], *par1), cmap='jet', s=3)\n",
    "plt.ylim(0, 0.0005)\n",
    "cbar = plt.colorbar()\n",
    "plt.tick_params(labelsize=6)\n",
    "plt.xlabel(\"Lumi in fll [fb$^{-1}$]\")\n",
    "plt.ylabel(\"Instantaneous luminosity [fb$^{-1}$]\")\n",
    "cbar.set_label(\"Observed-Predicted\")\n",
    "#plt.savefig(\"fill_fit1_bias\")"
   ]
  },
  {
   "cell_type": "code",
   "execution_count": null,
   "metadata": {},
   "outputs": [],
   "source": [
    "#Plot (transp_fill-fit_function #1)/transp-fill\n",
    "plt.scatter(metadata_fill.lumi_in_fill*(1e-9), metadata_fill.lumi_inst*(1e-9), c=(transp_fill-fit_func1([metadata_fill.lumi_in_fill*(1e-9), metadata_fill.lumi_inst*(1e-9),lumi_inst_0*(1e-9)], *par1))/transp_fill, cmap='jet', s=3)\n",
    "plt.ylim(0, 0.0005)\n",
    "cbar = plt.colorbar()\n",
    "plt.tick_params(labelsize=6)\n",
    "plt.xlabel(\"Lumi in fll [fb$^{-1}$]\")\n",
    "plt.ylabel(\"Instantaneous luminosity [fb$^{-1}$s$^{-1}$]\")\n",
    "cbar.set_label(\"(Observed-Predicted)/Observed\")\n",
    "#plt.savefig(\"fill_fit1_bias_normalized\")"
   ]
  },
  {
   "cell_type": "code",
   "execution_count": null,
   "metadata": {},
   "outputs": [],
   "source": [
    "#Plot vs lumi_in_fill\n",
    "plt.plot(metadata_fill.lumi_in_fill*(1e-9), transp_fill,\".r\", label=\"Observed\")\n",
    "plt.plot(metadata_fill.lumi_in_fill*(1e-9), fit_func1([metadata_fill.lumi_in_fill*(1e-9), metadata_fill.lumi_inst*(1e-9), lumi_inst_0*(1e-9)], *par1), \".b\", label=\"Predicted\")\n",
    "plt.xlabel(\"Lumi in fill [fb$^{-1}$]\")\n",
    "plt.ylabel(\"Normalized mean transparency\")\n",
    "#plt.savefig(\"fit1_vs_lumi_in_fill\")"
   ]
  },
  {
   "cell_type": "markdown",
   "metadata": {},
   "source": [
    "## Function #2"
   ]
  },
  {
   "cell_type": "code",
   "execution_count": null,
   "metadata": {},
   "outputs": [],
   "source": [
    "#Fit function #2\n",
    "par2, pcov2 = curve_fit(fit_func2, [metadata_fill.lumi_in_fill*(1e-9), metadata_fill.lumi_inst*(1e-9), lumi_inst_0*(1e-9)], transp_fill, maxfev=5000)"
   ]
  },
  {
   "cell_type": "code",
   "execution_count": null,
   "metadata": {},
   "outputs": [],
   "source": [
    "#RMSE\n",
    "np.sqrt(mean_squared_error(transp_fill, fit_func2([metadata_fill.lumi_in_fill*(1e-9), metadata_fill.lumi_inst*(1e-9), lumi_inst_0*(1e-9)], *par2)))"
   ]
  },
  {
   "cell_type": "code",
   "execution_count": null,
   "metadata": {},
   "outputs": [],
   "source": [
    "#Plot fit function #2\n",
    "plt.scatter(metadata_fill.lumi_in_fill*(1e-9), metadata_fill.lumi_inst*(1e-9), c=fit_func2([metadata_fill.lumi_in_fill*(1e-9), metadata_fill.lumi_inst*(1e-9), lumi_inst_0*(1e-9)], *par2), cmap='jet', s=3)\n",
    "plt.ylim(0, 0.0005)\n",
    "cbar = plt.colorbar()\n",
    "plt.tick_params(labelsize=6)\n",
    "plt.xlabel(\"Lumi in fll [fb$^{-1}$]\")\n",
    "plt.ylabel(\"Instantaneous luminosity [fb$^{-1}$]\")\n",
    "cbar.set_label(\"Fit function\")\n",
    "#plt.savefig(\"fill_fit2\")"
   ]
  },
  {
   "cell_type": "code",
   "execution_count": null,
   "metadata": {},
   "outputs": [],
   "source": [
    "#Plot transp_fill-fit_function #2\n",
    "plt.scatter(metadata_fill.lumi_in_fill*(1e-9), metadata_fill.lumi_inst*(1e-9), c=transp_fill-fit_func2([metadata_fill.lumi_in_fill*(1e-9), metadata_fill.lumi_inst*(1e-9),lumi_inst_0*(1e-9)], *par2), cmap='jet', s=3)\n",
    "plt.ylim(0, 0.0005)\n",
    "cbar = plt.colorbar()\n",
    "plt.tick_params(labelsize=6)\n",
    "plt.xlabel(\"Lumi in fll [fb$^{-1}$]\")\n",
    "plt.ylabel(\"Instantaneous luminosity [fb$^{-1}$]\")\n",
    "cbar.set_label(\"Observed-Predicted\")\n",
    "#plt.savefig(\"fill_fit2_bias\")"
   ]
  },
  {
   "cell_type": "code",
   "execution_count": null,
   "metadata": {},
   "outputs": [],
   "source": [
    "#Plot (transp_fill-fit_function #2)/transp-fill\n",
    "plt.scatter(metadata_fill.lumi_in_fill*(1e-9), metadata_fill.lumi_inst*(1e-9), c=(transp_fill-fit_func2([metadata_fill.lumi_in_fill*(1e-9), metadata_fill.lumi_inst*(1e-9),lumi_inst_0*(1e-9)], *par2))/transp_fill, cmap='jet', s=3)\n",
    "plt.ylim(0, 0.0005)\n",
    "cbar = plt.colorbar()\n",
    "plt.tick_params(labelsize=6)\n",
    "plt.xlabel(\"Lumi in fll [fb$^{-1}$]\")\n",
    "plt.ylabel(\"Instantaneous luminosity [fb$^{-1}$]\")\n",
    "cbar.set_label(\"(Observed-Predicted)/Observed\")\n",
    "#plt.savefig(\"fill_fit2_bias_normalized\")"
   ]
  },
  {
   "cell_type": "code",
   "execution_count": null,
   "metadata": {},
   "outputs": [],
   "source": [
    "#Plot vs lumi_in_fill\n",
    "plt.plot(metadata_fill.lumi_in_fill*(1e-9), transp_fill,\".r\", label=\"Observed\")\n",
    "plt.plot(metadata_fill.lumi_in_fill*(1e-9), fit_func2([metadata_fill.lumi_in_fill*(1e-9), metadata_fill.lumi_inst*(1e-9), lumi_inst_0*(1e-9)], *par2), \".b\", label=\"Predicted\")\n",
    "plt.xlabel(\"Lumi in fill [fb$^{-1}$]\")\n",
    "plt.ylabel(\"Normalized mean transparency\")\n",
    "#plt.savefig(\"fit2_vs_lumi_in_fill\")"
   ]
  },
  {
   "cell_type": "markdown",
   "metadata": {},
   "source": [
    "# Test (|i$\\eta$| 54)"
   ]
  },
  {
   "cell_type": "code",
   "execution_count": null,
   "metadata": {},
   "outputs": [],
   "source": [
    "transp_fill = []\n",
    "for k in fill_num:\n",
    "    df = metadata_fill[metadata_fill.fill_num == k]\n",
    "    transp = [mean_test_2[i] for i in df.index.values]\n",
    "    transp = transp/transp[0]\n",
    "    transp_fill = np.append(transp_fill, transp)"
   ]
  },
  {
   "cell_type": "code",
   "execution_count": null,
   "metadata": {},
   "outputs": [],
   "source": [
    "#RMSE\n",
    "np.sqrt(mean_squared_error(transp_fill, fit_func1([metadata_fill.lumi_in_fill*(1e-9), metadata_fill.lumi_inst*(1e-9), lumi_inst_0*(1e-9)], *par1)))"
   ]
  },
  {
   "cell_type": "code",
   "execution_count": null,
   "metadata": {},
   "outputs": [],
   "source": [
    "# Plot fit function #1\n",
    "plt.scatter(metadata_fill.lumi_in_fill*(1e-9), metadata_fill.lumi_inst*(1e-9), c=transp_fill-fit_func1([metadata_fill.lumi_in_fill*(1e-9), metadata_fill.lumi_inst*(1e-9),lumi_inst_0*(1e-9)], *par1), cmap='jet', s=3)\n",
    "plt.ylim(0, 0.0005)\n",
    "cbar = plt.colorbar()\n",
    "plt.tick_params(labelsize=6)\n",
    "plt.xlabel(\"Lumi in fll [fb$^{-1}$]\")\n",
    "plt.ylabel(\"Instantaneous luminosity [fb$^{-1}$s$^{-1}$]\")\n",
    "cbar.set_label(\"Observed-Predicted\")\n",
    "#plt.savefig(\"fill_fit1_test_bias\")"
   ]
  },
  {
   "cell_type": "code",
   "execution_count": null,
   "metadata": {},
   "outputs": [],
   "source": [
    "# Plot fit function #1\n",
    "plt.scatter(metadata_fill.lumi_in_fill*(1e-9), metadata_fill.lumi_inst*(1e-9), c=(transp_fill-fit_func1([metadata_fill.lumi_in_fill*(1e-9), metadata_fill.lumi_inst*(1e-9),lumi_inst_0*(1e-9)], *par1))/transp_fill, cmap='jet', s=3)\n",
    "plt.ylim(0, 0.0005)\n",
    "cbar = plt.colorbar()\n",
    "plt.tick_params(labelsize=6)\n",
    "plt.xlabel(\"Lumi in fll [fb$^{-1}$]\")\n",
    "plt.ylabel(\"Instantaneous luminosity [fb$^{-1}$s$^{-1}$]\")\n",
    "cbar.set_label(\"(Observed-Predicted)/Observed\")\n",
    "#plt.savefig(\"fill_fit1_test_bias_normalized\")"
   ]
  },
  {
   "cell_type": "code",
   "execution_count": null,
   "metadata": {},
   "outputs": [],
   "source": [
    "# Plot fit function #2\n",
    "plt.scatter(metadata_fill.lumi_in_fill*(1e-9), metadata_fill.lumi_inst*(1e-9), c=transp_fill-fit_func2([metadata_fill.lumi_in_fill*(1e-9), metadata_fill.lumi_inst*(1e-9),lumi_inst_0*(1e-9)], *par2), cmap='jet', s=3)\n",
    "plt.ylim(0, 0.0005)\n",
    "cbar = plt.colorbar()\n",
    "plt.tick_params(labelsize=6)\n",
    "plt.xlabel(\"Lumi in fll [fb$^{-1}$]\")\n",
    "plt.ylabel(\"Instantaneous luminosity [fb$^{-1}$]\")\n",
    "cbar.set_label(\"Observed-Predicted\")\n",
    "#plt.savefig(\"fill_fit2_test_bias\")"
   ]
  },
  {
   "cell_type": "code",
   "execution_count": null,
   "metadata": {},
   "outputs": [],
   "source": [
    "# Plot fit function #2\n",
    "plt.scatter(metadata_fill.lumi_in_fill*(1e-9), metadata_fill.lumi_inst*(1e-9), c=(transp_fill-fit_func2([metadata_fill.lumi_in_fill*(1e-9), metadata_fill.lumi_inst*(1e-9),lumi_inst_0*(1e-9)], *par2))/transp_fill, cmap='jet', s=3)\n",
    "plt.ylim(0, 0.0005)\n",
    "cbar = plt.colorbar()\n",
    "plt.tick_params(labelsize=6)\n",
    "plt.xlabel(\"Lumi in fll [fb$^{-1}$]\")\n",
    "plt.ylabel(\"Instantaneous luminosity [fb$^{-1}$]\")\n",
    "cbar.set_label(\"(Observed-Predicted)/Observed\")\n",
    "#plt.savefig(\"fill_fit2_test_bias_normalized\")"
   ]
  },
  {
   "cell_type": "markdown",
   "metadata": {},
   "source": [
    "## Test (|i$\\eta$| 56)"
   ]
  },
  {
   "cell_type": "code",
   "execution_count": null,
   "metadata": {},
   "outputs": [],
   "source": [
    "transp_fill = []\n",
    "for k in fill_num:\n",
    "    df = metadata_fill[metadata_fill.fill_num == k]\n",
    "    transp = [mean_test[i] for i in df.index.values]\n",
    "    transp = transp/transp[0]\n",
    "    transp_fill = np.append(transp_fill, transp)"
   ]
  },
  {
   "cell_type": "code",
   "execution_count": null,
   "metadata": {},
   "outputs": [],
   "source": [
    "#RMSE\n",
    "np.sqrt(mean_squared_error(transp_fill, fit_func1([metadata_fill.lumi_in_fill*(1e-9), metadata_fill.lumi_inst*(1e-9), lumi_inst_0*(1e-9)], *par1)))"
   ]
  },
  {
   "cell_type": "code",
   "execution_count": null,
   "metadata": {},
   "outputs": [],
   "source": [
    "# Plot fit function #1\n",
    "plt.scatter(metadata_fill.lumi_in_fill*(1e-9), metadata_fill.lumi_inst*(1e-9), c=transp_fill-fit_func1([metadata_fill.lumi_in_fill*(1e-9), metadata_fill.lumi_inst*(1e-9),lumi_inst_0*(1e-9)], *par1), cmap='jet', s=3)\n",
    "plt.ylim(0, 0.0005)\n",
    "cbar = plt.colorbar()\n",
    "plt.tick_params(labelsize=6)\n",
    "plt.xlabel(\"Lumi in fll [fb$^{-1}$]\")\n",
    "plt.ylabel(\"Instantaneous luminosity [fb$^{-1}$]\")\n",
    "cbar.set_label(\"Observed-Predicted\")\n",
    "#plt.savefig(\"fill_fit1_test2_bias\")"
   ]
  },
  {
   "cell_type": "code",
   "execution_count": null,
   "metadata": {},
   "outputs": [],
   "source": [
    "# Plot fit function #1\n",
    "plt.scatter(metadata_fill.lumi_in_fill*(1e-9), metadata_fill.lumi_inst*(1e-9), c=(transp_fill-fit_func1([metadata_fill.lumi_in_fill*(1e-9), metadata_fill.lumi_inst*(1e-9),lumi_inst_0*(1e-9)], *par1))/transp_fill, cmap='jet', s=3)\n",
    "plt.ylim(0, 0.0005)\n",
    "cbar = plt.colorbar()\n",
    "plt.tick_params(labelsize=6)\n",
    "plt.xlabel(\"Lumi in fll [fb$^{-1}$]\")\n",
    "plt.ylabel(\"Instantaneous luminosity [fb$^{-1}$]\")\n",
    "cbar.set_label(\"(Observed-Predicted)/Observed\")\n",
    "#plt.savefig(\"fill_fit1_test2_bias_normalized\")"
   ]
  },
  {
   "cell_type": "code",
   "execution_count": null,
   "metadata": {},
   "outputs": [],
   "source": [
    "# Plot fit function #2\n",
    "plt.scatter(metadata_fill.lumi_in_fill*(1e-9), metadata_fill.lumi_inst*(1e-9), c=transp_fill-fit_func2([metadata_fill.lumi_in_fill*(1e-9), metadata_fill.lumi_inst*(1e-9),lumi_inst_0*(1e-9)], *par2), cmap='jet', s=3)\n",
    "plt.ylim(0, 0.0005)\n",
    "cbar = plt.colorbar()\n",
    "plt.tick_params(labelsize=6)\n",
    "plt.xlabel(\"Lumi in fll [fb$^{-1}$]\")\n",
    "plt.ylabel(\"Instantaneous luminosity [fb$^{-1}$]\")\n",
    "cbar.set_label(\"Observed-Predicted\")\n",
    "#plt.savefig(\"fill_fit2_test2_bias\")"
   ]
  },
  {
   "cell_type": "code",
   "execution_count": null,
   "metadata": {},
   "outputs": [],
   "source": [
    "# Plot fit function #2\n",
    "plt.scatter(metadata_fill.lumi_in_fill*(1e-9), metadata_fill.lumi_inst*(1e-9), c=(transp_fill-fit_func2([metadata_fill.lumi_in_fill*(1e-9), metadata_fill.lumi_inst*(1e-9),lumi_inst_0*(1e-9)], *par2))/transp_fill, cmap='jet', s=3)\n",
    "plt.ylim(0, 0.0005)\n",
    "cbar = plt.colorbar()\n",
    "plt.tick_params(labelsize=6)\n",
    "plt.xlabel(\"Lumi in fll [fb$^{-1}$]\")\n",
    "plt.ylabel(\"Instantaneous luminosity [fb$^{-1}$]\")\n",
    "cbar.set_label(\"(Observed-Predicted)/Observed\")\n",
    "#plt.savefig(\"fill_fit2-test2_bias_normalized\")"
   ]
  },
  {
   "cell_type": "code",
   "execution_count": null,
   "metadata": {},
   "outputs": [],
   "source": []
  }
 ],
 "metadata": {
  "kernelspec": {
   "display_name": "Python 3",
   "language": "python",
   "name": "python3"
  },
  "language_info": {
   "codemirror_mode": {
    "name": "ipython",
    "version": 3
   },
   "file_extension": ".py",
   "mimetype": "text/x-python",
   "name": "python",
   "nbconvert_exporter": "python",
   "pygments_lexer": "ipython3",
   "version": "3.7.4"
  }
 },
 "nbformat": 4,
 "nbformat_minor": 2
}
