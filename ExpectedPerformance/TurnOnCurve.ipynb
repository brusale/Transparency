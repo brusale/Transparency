{
 "cells": [
  {
   "cell_type": "code",
   "execution_count": null,
   "metadata": {},
   "outputs": [],
   "source": [
    "import ROOT\n",
    "import numpy as np\n",
    "import matplotlib.pyplot as plt\n",
    "import pandas as pd\n",
    "from scipy.optimize import curve_fit\n",
    "from scipy import special"
   ]
  },
  {
   "cell_type": "code",
   "execution_count": null,
   "metadata": {},
   "outputs": [],
   "source": [
    "def transp_func(data,a,b,c,d,e,f):\n",
    "    x = data[0]\n",
    "    y = data[1]\n",
    "    y_0 = data[2]\n",
    "    return (a*np.exp(-b*x)+(1-a)*np.exp(c*x))*(d*np.exp(-e*(y-y_0))+(1-d)*np.exp(f*(y-y_0)))"
   ]
  },
  {
   "cell_type": "code",
   "execution_count": null,
   "metadata": {},
   "outputs": [],
   "source": [
    "def transp_func_2(data,a,b,c,d,e,f):\n",
    "    x = data[0]\n",
    "    y = data[1]\n",
    "    y_0 = data[2]\n",
    "    return (a*np.exp(-b*x)+(1-a)*np.exp(c*x))*(d*np.exp(-e*y)+(1-d)*np.exp(f*y))/(d*np.exp(-e*y_0)+(1-d)*np.exp(f*y_0))"
   ]
  },
  {
   "cell_type": "code",
   "execution_count": null,
   "metadata": {},
   "outputs": [],
   "source": [
    "data_folder=(\"/home/alessandro/Scrivania/University/ML4ECAL/Transparency/DataPreparation\")"
   ]
  },
  {
   "cell_type": "code",
   "execution_count": null,
   "metadata": {},
   "outputs": [],
   "source": [
    "#Read metadata\n",
    "metadata = pd.read_csv(f\"{data_folder}/fill_metadata_2017_10min.csv\")"
   ]
  },
  {
   "cell_type": "code",
   "execution_count": null,
   "metadata": {},
   "outputs": [],
   "source": [
    "#Load data\n",
    "data = np.load(f\"{data_folder}/iring_25.npy\")\n",
    "data_test = np.load(f\"{data_folder}/iring_26.npy\")\n",
    "data_test_2 = np.load(f\"{data_folder}/iring_24.npy\")\n",
    "\n",
    "data_df = pd.DataFrame(data)\n",
    "data_df_test = pd.DataFrame(data_test)\n",
    "data_df_test_2 = pd.DataFrame(data_test_2)"
   ]
  },
  {
   "cell_type": "code",
   "execution_count": null,
   "metadata": {},
   "outputs": [],
   "source": [
    "#Mean transparency in iRing\n",
    "mean = []\n",
    "mean_test = []\n",
    "mean_test_2 = []\n",
    "for i in range(0, len(data_df.axes[1])):\n",
    "    mean = np.append(mean, np.mean(data_df[i]))\n",
    "    mean_test = np.append(mean_test, np.mean(data_df_test[i]))\n",
    "    mean_test_2 = np.append(mean_test_2, np.mean(data_df_test_2[i]))"
   ]
  },
  {
   "cell_type": "code",
   "execution_count": null,
   "metadata": {},
   "outputs": [],
   "source": [
    "#Filter data and metadata\n",
    "mean = mean[mean != -1]\n",
    "mean_test = mean_test[mean_test != -1]\n",
    "mean_test_2 = mean_test_2[mean_test_2 != -1]\n",
    "metadata = metadata.iloc[:len(mean)][mean != -1]"
   ]
  },
  {
   "cell_type": "code",
   "execution_count": null,
   "metadata": {},
   "outputs": [],
   "source": [
    "fill = metadata[\"fill_num\"].unique()\n",
    "fill= fill[fill != 0]"
   ]
  },
  {
   "cell_type": "code",
   "execution_count": null,
   "metadata": {},
   "outputs": [],
   "source": [
    "metadata_fill = metadata[metadata.fill_num.isin(fill)]\n",
    "metadata_fill = metadata_fill[(metadata_fill.lumi_inst >= 0.0001*1e9) & (metadata_fill.lumi_inst <= 0.0004*1e9) & (metadata_fill.lumi_in_fill >= 0.1*1e9)]"
   ]
  },
  {
   "cell_type": "code",
   "execution_count": null,
   "metadata": {},
   "outputs": [],
   "source": [
    "fill_num = metadata_fill.fill_num.unique()\n",
    "transp_fill = []\n",
    "lumi_inst_0 = []\n",
    "lumi_int_0 = []\n",
    "\n",
    "for k in fill_num:\n",
    "    df = metadata_fill[metadata_fill.fill_num == k]\n",
    "    transp = [mean[i] for i in df.index.values]\n",
    "    transp = transp/transp[0]\n",
    "    transp_fill = np.append(transp_fill, transp)\n",
    "    a = np.empty(np.size(transp))\n",
    "    b = np.empty(np.size(transp))\n",
    "    a.fill(df['lumi_inst'].iloc[0])\n",
    "    b.fill(df['lumi_int'].iloc[0])\n",
    "    lumi_inst_0 = np.append(lumi_inst_0, a)\n",
    "    lumi_int_0 = np.append(lumi_int_0, b)"
   ]
  },
  {
   "cell_type": "code",
   "execution_count": null,
   "metadata": {},
   "outputs": [],
   "source": [
    "par_1, pcov_1 = curve_fit(transp_func, [metadata_fill.lumi_in_fill*(1e-9), metadata_fill.lumi_inst*(1e-9), lumi_inst_0*(1e-9)], transp_fill, maxfev=5000)\n",
    "par_2, pcov_2 = curve_fit(transp_func_2, [metadata_fill.lumi_in_fill*(1e-9), metadata_fill.lumi_inst*(1e-9), lumi_inst_0*(1e-9)], transp_fill, maxfev=5000)"
   ]
  },
  {
   "cell_type": "code",
   "execution_count": null,
   "metadata": {},
   "outputs": [],
   "source": [
    "nbin = 600\n",
    "minimo = 0\n",
    "massimo = 60\n",
    "threshold = 30\n",
    "delta_value = (massimo-minimo)/nbin"
   ]
  },
  {
   "cell_type": "code",
   "execution_count": null,
   "metadata": {},
   "outputs": [],
   "source": [
    "nEvents = 1000"
   ]
  },
  {
   "cell_type": "markdown",
   "metadata": {},
   "source": [
    "# Single Fill"
   ]
  },
  {
   "cell_type": "code",
   "execution_count": null,
   "metadata": {},
   "outputs": [],
   "source": [
    "fill = input()"
   ]
  },
  {
   "cell_type": "code",
   "execution_count": null,
   "metadata": {},
   "outputs": [],
   "source": [
    "selected_metadata = metadata[metadata.fill_num == int(fill)]\n",
    "selected_transp = [mean[i] for i in selected_metadata.index.tolist()]"
   ]
  },
  {
   "cell_type": "code",
   "execution_count": null,
   "metadata": {},
   "outputs": [],
   "source": [
    "lumi_in_fill = selected_metadata.lumi_in_fill.to_numpy()\n",
    "lumi_inst = selected_metadata.lumi_inst.to_numpy()\n",
    "lumi_inst_0 = np.empty(np.size(selected_transp))\n",
    "lumi_inst_0.fill(lumi_inst[0])"
   ]
  },
  {
   "cell_type": "code",
   "execution_count": null,
   "metadata": {},
   "outputs": [],
   "source": [
    "c = ROOT.TCanvas(\"cc_turn_on\", \"\", 800, 700)\n",
    "hist0 = ROOT.TH1F(\"real\", \"\", nbin, minimo, massimo)"
   ]
  },
  {
   "cell_type": "code",
   "execution_count": null,
   "metadata": {},
   "outputs": [],
   "source": [
    "for ibin in range(0, nbin):\n",
    "    value = minimo+(ibin+0.2)*delta_value\n",
    "    for iEvent in range(0, nEvents):\n",
    "        for i in range(0, np.size(selected_transp)):\n",
    "            value_smeared = value*selected_transp[i]\n",
    "            if value_smeared > threshold:\n",
    "                hist0.Fill(value)"
   ]
  },
  {
   "cell_type": "code",
   "execution_count": null,
   "metadata": {},
   "outputs": [],
   "source": [
    "hist0.Scale(1./(nEvents*np.size(selected_transp)))\n",
    "  \n",
    "hist0.SetLineWidth(2)\n",
    "hist0.SetLineColor(632)\n",
    "  \n",
    "hist0.Draw(\"histo\")\n",
    "hist0.GetXaxis().SetTitle(\"Energy [GeV]\")\n",
    "hist0.GetYaxis().SetTitle(\"Efficiency\")"
   ]
  },
  {
   "cell_type": "code",
   "execution_count": null,
   "metadata": {},
   "outputs": [],
   "source": [
    "c.Draw()\n",
    "vertical_line = ROOT.TLine(threshold, 0.0, threshold, 1.1)\n",
    "vertical_line.Draw()\n",
    "#c1.SaveAs(\"h_turn_on.png\")"
   ]
  },
  {
   "cell_type": "markdown",
   "metadata": {},
   "source": [
    "## $f_1$"
   ]
  },
  {
   "cell_type": "code",
   "execution_count": null,
   "metadata": {},
   "outputs": [],
   "source": [
    "c0 = ROOT.TCanvas(\"cc_turn_on\", \"\", 800, 700)\n",
    "hist = ROOT.TH1F(\"f_1\", \"\", nbin, minimo, massimo)"
   ]
  },
  {
   "cell_type": "code",
   "execution_count": null,
   "metadata": {},
   "outputs": [],
   "source": [
    "transparency = transp_func([lumi_in_fill*(1e-9), lumi_inst*(1e-9), lumi_inst_0*(1e-9)], *par_1)"
   ]
  },
  {
   "cell_type": "code",
   "execution_count": null,
   "metadata": {},
   "outputs": [],
   "source": [
    "for ibin in range(0, nbin):\n",
    "    value = minimo+(ibin+0.2)*delta_value\n",
    "    for iEvent in range(0, nEvents):\n",
    "        for i in range(0, np.size(selected_transp)):\n",
    "            value_smeared = value*transparency[i]\n",
    "            if value_smeared > threshold:\n",
    "                hist.Fill(value)"
   ]
  },
  {
   "cell_type": "code",
   "execution_count": null,
   "metadata": {},
   "outputs": [],
   "source": [
    "hist.Scale(1./(nEvents*np.size(selected_transp)))\n",
    "  \n",
    "hist.SetLineWidth(2)\n",
    "hist.SetLineColor(632)\n",
    "  \n",
    "hist.Draw(\"histo\")\n",
    "hist.GetXaxis().SetTitle(\"Energy [GeV]\")\n",
    "hist.GetYaxis().SetTitle(\"Efficiency\")"
   ]
  },
  {
   "cell_type": "code",
   "execution_count": null,
   "metadata": {},
   "outputs": [],
   "source": [
    "c0.Draw()\n",
    "vertical_line = ROOT.TLine(threshold, 0.0, threshold, 1.1)\n",
    "vertical_line.Draw()\n",
    "#c1.SaveAs(\"h_turn_on.png\")"
   ]
  },
  {
   "cell_type": "markdown",
   "metadata": {},
   "source": [
    "## $f_2$"
   ]
  },
  {
   "cell_type": "code",
   "execution_count": null,
   "metadata": {},
   "outputs": [],
   "source": [
    "c1 = ROOT.TCanvas(\"cc_turn_on_2\", \"\", 800, 700)\n",
    "hist2 = ROOT.TH1F(\"f_2\", \"\", nbin, minimo, massimo)"
   ]
  },
  {
   "cell_type": "code",
   "execution_count": null,
   "metadata": {},
   "outputs": [],
   "source": [
    "transparency = transp_func_2([lumi_in_fill[i]*(1e-9), lumi_inst[i]*(1e-9), lumi_inst_0[i]*(1e-9)], *par_2)"
   ]
  },
  {
   "cell_type": "code",
   "execution_count": null,
   "metadata": {},
   "outputs": [],
   "source": [
    "for ibin in range(0, nbin):\n",
    "    value = minimo+(ibin+0.2)*delta_value\n",
    "    for iEvent in range(0, nEvents):\n",
    "        for i in range(0, np.size(selected_transp)):\n",
    "            value_smeared = value*transparency\n",
    "            if value_smeared > threshold:\n",
    "                hist2.Fill(value)"
   ]
  },
  {
   "cell_type": "code",
   "execution_count": null,
   "metadata": {},
   "outputs": [],
   "source": [
    "hist2.Scale(1./(nEvents*np.size(selected_transp)))\n",
    "  \n",
    "hist2.SetLineWidth(2)\n",
    "hist2.SetLineColor(632)\n",
    "  \n",
    "hist2.Draw(\"histo\")\n",
    "hist2.GetXaxis().SetTitle(\"Energy [GeV]\")\n",
    "hist2.GetYaxis().SetTitle(\"Efficiency\")"
   ]
  },
  {
   "cell_type": "code",
   "execution_count": null,
   "metadata": {},
   "outputs": [],
   "source": [
    "c1.Draw()\n",
    "vertical_line = ROOT.TLine(threshold, 0.0, threshold, 1.1)\n",
    "vertical_line.Draw()\n",
    "#c1.SaveAs(\"h_turn_on.png\")"
   ]
  },
  {
   "cell_type": "code",
   "execution_count": null,
   "metadata": {},
   "outputs": [],
   "source": []
  }
 ],
 "metadata": {
  "kernelspec": {
   "display_name": "Python 3",
   "language": "python",
   "name": "python3"
  },
  "language_info": {
   "codemirror_mode": {
    "name": "ipython",
    "version": 3
   },
   "file_extension": ".py",
   "mimetype": "text/x-python",
   "name": "python",
   "nbconvert_exporter": "python",
   "pygments_lexer": "ipython3",
   "version": "3.7.4"
  }
 },
 "nbformat": 4,
 "nbformat_minor": 2
}
