{
 "cells": [
  {
   "cell_type": "code",
   "execution_count": 25,
   "metadata": {
    "ExecuteTime": {
     "end_time": "2019-10-10T12:22:56.166316Z",
     "start_time": "2019-10-10T12:22:56.157309Z"
    }
   },
   "outputs": [],
   "source": [
    "import numpy as np\n",
    "import pandas as pd\n",
    "import matplotlib.pyplot as plt\n",
    "import matplotlib as mpl\n",
    "from numpy import concatenate\n",
    "\n",
    "from sklearn.preprocessing import MinMaxScaler, StandardScaler\n",
    "from sklearn.model_selection import train_test_split\n",
    "from sklearn.metrics import mean_squared_error\n",
    "from math import *\n",
    "\n",
    "import h5py\n",
    "\n",
    "mpl.rcParams['figure.figsize'] = (10,8)\n",
    "mpl.rcParams[\"image.origin\"] = 'lower'"
   ]
  },
  {
   "cell_type": "markdown",
   "metadata": {
    "ExecuteTime": {
     "end_time": "2019-10-03T08:20:38.461655Z",
     "start_time": "2019-10-03T08:20:38.436297Z"
    }
   },
   "source": [
    "# hyperparameters\n",
    "- encoder: 16 samples of 40 minutes, 1 interval 10 min, 1 every 4  --> 64 samples tstart\n",
    "- decoder: 48 samples, 10 min == 8 hours\n",
    "\n",
    "**Window of 114 samples**"
   ]
  },
  {
   "cell_type": "markdown",
   "metadata": {
    "ExecuteTime": {
     "end_time": "2019-07-18T11:52:54.692387Z",
     "start_time": "2019-07-18T11:52:54.678181Z"
    },
    "slideshow": {
     "slide_type": "fragment"
    }
   },
   "source": [
    "Fighetterie per rinormalizzare input e output #fixme"
   ]
  },
  {
   "cell_type": "code",
   "execution_count": 3,
   "metadata": {
    "ExecuteTime": {
     "end_time": "2019-10-10T12:06:29.971298Z",
     "start_time": "2019-10-10T12:06:29.949602Z"
    }
   },
   "outputs": [],
   "source": [
    "decoder_input_and_true_v1 = np.load(\"decoder_input_and_true_v1.npy\",mmap_mode=\"r\")\n",
    "encoder_input_v1 = np.load(\"encoder_input_v1.npy\", mmap_mode=\"r\")"
   ]
  },
  {
   "cell_type": "code",
   "execution_count": 4,
   "metadata": {
    "ExecuteTime": {
     "end_time": "2019-10-10T12:06:30.189685Z",
     "start_time": "2019-10-10T12:06:30.183937Z"
    }
   },
   "outputs": [],
   "source": [
    "decoder_input_data = decoder_input_and_true_v1[:, :, 0:-1]\n",
    "decoder_target_data = decoder_input_and_true_v1[:, :, -1]\n",
    "encoder_input_data = encoder_input_v1"
   ]
  },
  {
   "cell_type": "code",
   "execution_count": 5,
   "metadata": {
    "ExecuteTime": {
     "end_time": "2019-10-10T12:06:30.521620Z",
     "start_time": "2019-10-10T12:06:30.516450Z"
    }
   },
   "outputs": [],
   "source": [
    "decoder_target_data = np.reshape(decoder_target_data, (488520, 48,1))"
   ]
  },
  {
   "cell_type": "code",
   "execution_count": 28,
   "metadata": {
    "ExecuteTime": {
     "end_time": "2019-10-10T12:24:42.562249Z",
     "start_time": "2019-10-10T12:24:42.555358Z"
    }
   },
   "outputs": [
    {
     "data": {
      "text/plain": [
       "(488520, 48, 11)"
      ]
     },
     "execution_count": 28,
     "metadata": {},
     "output_type": "execute_result"
    }
   ],
   "source": [
    "decoder_input_data.shape"
   ]
  },
  {
   "cell_type": "code",
   "execution_count": 30,
   "metadata": {
    "ExecuteTime": {
     "end_time": "2019-10-10T12:25:07.209876Z",
     "start_time": "2019-10-10T12:25:07.166572Z"
    }
   },
   "outputs": [
    {
     "ename": "ValueError",
     "evalue": "cannot reshape array of size 257938560 into shape (48,11)",
     "output_type": "error",
     "traceback": [
      "\u001b[0;31m---------------------------------------------------------------------------\u001b[0m",
      "\u001b[0;31mValueError\u001b[0m                                Traceback (most recent call last)",
      "\u001b[0;32m<ipython-input-30-db859b603b87>\u001b[0m in \u001b[0;36m<module>\u001b[0;34m\u001b[0m\n\u001b[0;32m----> 1\u001b[0;31m \u001b[0mdecoder_input_data\u001b[0m\u001b[0;34m.\u001b[0m\u001b[0mreshape\u001b[0m\u001b[0;34m(\u001b[0m\u001b[0;34m(\u001b[0m\u001b[0;36m48\u001b[0m\u001b[0;34m,\u001b[0m \u001b[0;36m11\u001b[0m\u001b[0;34m)\u001b[0m\u001b[0;34m)\u001b[0m\u001b[0;34m\u001b[0m\u001b[0m\n\u001b[0m",
      "\u001b[0;31mValueError\u001b[0m: cannot reshape array of size 257938560 into shape (48,11)"
     ]
    }
   ],
   "source": [
    "decoder_input_data.reshape((48, 11))"
   ]
  },
  {
   "cell_type": "code",
   "execution_count": 12,
   "metadata": {
    "ExecuteTime": {
     "end_time": "2019-10-10T12:07:34.139068Z",
     "start_time": "2019-10-10T12:07:34.131518Z"
    }
   },
   "outputs": [
    {
     "name": "stdout",
     "output_type": "stream",
     "text": [
      "decoder input shape (488520, 48, 11)\n",
      "decoder target shape (488520, 48, 1)\n",
      "encoder input shape (488520, 16, 11)\n"
     ]
    }
   ],
   "source": [
    "print(\"decoder input shape\", decoder_input_data.shape)\n",
    "print(\"decoder target shape\", decoder_target_data.shape)\n",
    "print(\"encoder input shape\", encoder_input_data.shape)"
   ]
  },
  {
   "cell_type": "code",
   "execution_count": 26,
   "metadata": {
    "ExecuteTime": {
     "end_time": "2019-10-10T12:22:57.885978Z",
     "start_time": "2019-10-10T12:22:57.759952Z"
    }
   },
   "outputs": [
    {
     "ename": "ValueError",
     "evalue": "Found array with dim 3. StandardScaler expected <= 2.",
     "output_type": "error",
     "traceback": [
      "\u001b[0;31m---------------------------------------------------------------------------\u001b[0m",
      "\u001b[0;31mValueError\u001b[0m                                Traceback (most recent call last)",
      "\u001b[0;32m<ipython-input-26-04b844a389f2>\u001b[0m in \u001b[0;36m<module>\u001b[0;34m\u001b[0m\n\u001b[1;32m      4\u001b[0m \u001b[0mdecoder_output_scaler\u001b[0m \u001b[0;34m=\u001b[0m \u001b[0mStandardScaler\u001b[0m\u001b[0;34m(\u001b[0m\u001b[0;34m)\u001b[0m\u001b[0;34m\u001b[0m\u001b[0m\n\u001b[1;32m      5\u001b[0m \u001b[0;34m\u001b[0m\u001b[0m\n\u001b[0;32m----> 6\u001b[0;31m \u001b[0mencoder_input_data_scaled\u001b[0m  \u001b[0;34m=\u001b[0m \u001b[0mencoder_scaler\u001b[0m\u001b[0;34m.\u001b[0m\u001b[0mfit_transform\u001b[0m\u001b[0;34m(\u001b[0m\u001b[0mencoder_input_data\u001b[0m\u001b[0;34m)\u001b[0m\u001b[0;34m\u001b[0m\u001b[0m\n\u001b[0m\u001b[1;32m      7\u001b[0m \u001b[0mdecoder_input_data_scaled\u001b[0m  \u001b[0;34m=\u001b[0m \u001b[0mdecoder_input_scaler\u001b[0m\u001b[0;34m.\u001b[0m\u001b[0mfit_transform\u001b[0m\u001b[0;34m(\u001b[0m\u001b[0mdecoder_input_data\u001b[0m\u001b[0;34m)\u001b[0m\u001b[0;34m\u001b[0m\u001b[0m\n\u001b[1;32m      8\u001b[0m \u001b[0mdecoder_target_data_scaled\u001b[0m \u001b[0;34m=\u001b[0m \u001b[0mdecoder_input_scaler\u001b[0m\u001b[0;34m.\u001b[0m\u001b[0mfit_transform\u001b[0m\u001b[0;34m(\u001b[0m\u001b[0mdecoder_target_data\u001b[0m\u001b[0;34m)\u001b[0m\u001b[0;34m\u001b[0m\u001b[0m\n",
      "\u001b[0;32m/cvmfs/sft.cern.ch/lcg/views/LCG_96python3/x86_64-centos7-gcc8-opt/lib/python3.6/site-packages/sklearn/base.py\u001b[0m in \u001b[0;36mfit_transform\u001b[0;34m(self, X, y, **fit_params)\u001b[0m\n\u001b[1;32m    551\u001b[0m         \u001b[0;32mif\u001b[0m \u001b[0my\u001b[0m \u001b[0;32mis\u001b[0m \u001b[0;32mNone\u001b[0m\u001b[0;34m:\u001b[0m\u001b[0;34m\u001b[0m\u001b[0m\n\u001b[1;32m    552\u001b[0m             \u001b[0;31m# fit method of arity 1 (unsupervised transformation)\u001b[0m\u001b[0;34m\u001b[0m\u001b[0;34m\u001b[0m\u001b[0m\n\u001b[0;32m--> 553\u001b[0;31m             \u001b[0;32mreturn\u001b[0m \u001b[0mself\u001b[0m\u001b[0;34m.\u001b[0m\u001b[0mfit\u001b[0m\u001b[0;34m(\u001b[0m\u001b[0mX\u001b[0m\u001b[0;34m,\u001b[0m \u001b[0;34m**\u001b[0m\u001b[0mfit_params\u001b[0m\u001b[0;34m)\u001b[0m\u001b[0;34m.\u001b[0m\u001b[0mtransform\u001b[0m\u001b[0;34m(\u001b[0m\u001b[0mX\u001b[0m\u001b[0;34m)\u001b[0m\u001b[0;34m\u001b[0m\u001b[0m\n\u001b[0m\u001b[1;32m    554\u001b[0m         \u001b[0;32melse\u001b[0m\u001b[0;34m:\u001b[0m\u001b[0;34m\u001b[0m\u001b[0m\n\u001b[1;32m    555\u001b[0m             \u001b[0;31m# fit method of arity 2 (supervised transformation)\u001b[0m\u001b[0;34m\u001b[0m\u001b[0;34m\u001b[0m\u001b[0m\n",
      "\u001b[0;32m/cvmfs/sft.cern.ch/lcg/views/LCG_96python3/x86_64-centos7-gcc8-opt/lib/python3.6/site-packages/sklearn/preprocessing/data.py\u001b[0m in \u001b[0;36mfit\u001b[0;34m(self, X, y)\u001b[0m\n\u001b[1;32m    637\u001b[0m         \u001b[0;31m# Reset internal state before fitting\u001b[0m\u001b[0;34m\u001b[0m\u001b[0;34m\u001b[0m\u001b[0m\n\u001b[1;32m    638\u001b[0m         \u001b[0mself\u001b[0m\u001b[0;34m.\u001b[0m\u001b[0m_reset\u001b[0m\u001b[0;34m(\u001b[0m\u001b[0;34m)\u001b[0m\u001b[0;34m\u001b[0m\u001b[0m\n\u001b[0;32m--> 639\u001b[0;31m         \u001b[0;32mreturn\u001b[0m \u001b[0mself\u001b[0m\u001b[0;34m.\u001b[0m\u001b[0mpartial_fit\u001b[0m\u001b[0;34m(\u001b[0m\u001b[0mX\u001b[0m\u001b[0;34m,\u001b[0m \u001b[0my\u001b[0m\u001b[0;34m)\u001b[0m\u001b[0;34m\u001b[0m\u001b[0m\n\u001b[0m\u001b[1;32m    640\u001b[0m \u001b[0;34m\u001b[0m\u001b[0m\n\u001b[1;32m    641\u001b[0m     \u001b[0;32mdef\u001b[0m \u001b[0mpartial_fit\u001b[0m\u001b[0;34m(\u001b[0m\u001b[0mself\u001b[0m\u001b[0;34m,\u001b[0m \u001b[0mX\u001b[0m\u001b[0;34m,\u001b[0m \u001b[0my\u001b[0m\u001b[0;34m=\u001b[0m\u001b[0;32mNone\u001b[0m\u001b[0;34m)\u001b[0m\u001b[0;34m:\u001b[0m\u001b[0;34m\u001b[0m\u001b[0m\n",
      "\u001b[0;32m/cvmfs/sft.cern.ch/lcg/views/LCG_96python3/x86_64-centos7-gcc8-opt/lib/python3.6/site-packages/sklearn/preprocessing/data.py\u001b[0m in \u001b[0;36mpartial_fit\u001b[0;34m(self, X, y)\u001b[0m\n\u001b[1;32m    661\u001b[0m         X = check_array(X, accept_sparse=('csr', 'csc'), copy=self.copy,\n\u001b[1;32m    662\u001b[0m                         \u001b[0mestimator\u001b[0m\u001b[0;34m=\u001b[0m\u001b[0mself\u001b[0m\u001b[0;34m,\u001b[0m \u001b[0mdtype\u001b[0m\u001b[0;34m=\u001b[0m\u001b[0mFLOAT_DTYPES\u001b[0m\u001b[0;34m,\u001b[0m\u001b[0;34m\u001b[0m\u001b[0m\n\u001b[0;32m--> 663\u001b[0;31m                         force_all_finite='allow-nan')\n\u001b[0m\u001b[1;32m    664\u001b[0m \u001b[0;34m\u001b[0m\u001b[0m\n\u001b[1;32m    665\u001b[0m         \u001b[0;31m# Even in the case of `with_mean=False`, we update the mean anyway\u001b[0m\u001b[0;34m\u001b[0m\u001b[0;34m\u001b[0m\u001b[0m\n",
      "\u001b[0;32m/cvmfs/sft.cern.ch/lcg/views/LCG_96python3/x86_64-centos7-gcc8-opt/lib/python3.6/site-packages/sklearn/utils/validation.py\u001b[0m in \u001b[0;36mcheck_array\u001b[0;34m(array, accept_sparse, accept_large_sparse, dtype, order, copy, force_all_finite, ensure_2d, allow_nd, ensure_min_samples, ensure_min_features, warn_on_dtype, estimator)\u001b[0m\n\u001b[1;32m    537\u001b[0m         \u001b[0;32mif\u001b[0m \u001b[0;32mnot\u001b[0m \u001b[0mallow_nd\u001b[0m \u001b[0;32mand\u001b[0m \u001b[0marray\u001b[0m\u001b[0;34m.\u001b[0m\u001b[0mndim\u001b[0m \u001b[0;34m>=\u001b[0m \u001b[0;36m3\u001b[0m\u001b[0;34m:\u001b[0m\u001b[0;34m\u001b[0m\u001b[0m\n\u001b[1;32m    538\u001b[0m             raise ValueError(\"Found array with dim %d. %s expected <= 2.\"\n\u001b[0;32m--> 539\u001b[0;31m                              % (array.ndim, estimator_name))\n\u001b[0m\u001b[1;32m    540\u001b[0m         \u001b[0;32mif\u001b[0m \u001b[0mforce_all_finite\u001b[0m\u001b[0;34m:\u001b[0m\u001b[0;34m\u001b[0m\u001b[0m\n\u001b[1;32m    541\u001b[0m             _assert_all_finite(array,\n",
      "\u001b[0;31mValueError\u001b[0m: Found array with dim 3. StandardScaler expected <= 2."
     ]
    }
   ],
   "source": [
    "# scalers\n",
    "encoder_scaler = StandardScaler()\n",
    "deconder_input_scaler = StandardScaler()\n",
    "decoder_output_scaler = StandardScaler()\n",
    "\n",
    "encoder_input_data_scaled  = encoder_scaler.fit_transform(encoder_input_data)\n",
    "decoder_input_data_scaled  = decoder_input_scaler.fit_transform(decoder_input_data)\n",
    "decoder_target_data_scaled = decoder_input_scaler.fit_transform(decoder_target_data)"
   ]
  },
  {
   "cell_type": "code",
   "execution_count": 13,
   "metadata": {
    "ExecuteTime": {
     "end_time": "2019-10-10T12:07:44.894318Z",
     "start_time": "2019-10-10T12:07:37.650530Z"
    }
   },
   "outputs": [
    {
     "name": "stderr",
     "output_type": "stream",
     "text": [
      "Using TensorFlow backend.\n"
     ]
    }
   ],
   "source": [
    "from keras.models import Model\n",
    "from keras.layers import Input, LSTM, Dense, TimeDistributed, Flatten"
   ]
  },
  {
   "cell_type": "code",
   "execution_count": 22,
   "metadata": {
    "ExecuteTime": {
     "end_time": "2019-10-10T12:15:24.867665Z",
     "start_time": "2019-10-10T12:15:23.602956Z"
    }
   },
   "outputs": [],
   "source": [
    "batch_size = 64  # Batch size for training.\n",
    "epochs = 100  # Number of epochs to train for.\n",
    "latent_dim = 256  # Latent dimensionality of the encoding space.\n",
    "num_samples = len(encoder_input_v1)\n",
    "encoder_input_dim = encoder_input_data.shape[2]\n",
    "decoder_input_dim = decoder_input_data.shape[2]\n",
    "\n",
    "# Define an input sequence and process it.\n",
    "encoder_inputs = Input(shape=(16, encoder_input_dim))\n",
    "encoder = LSTM(latent_dim, return_state=True, input_shape=(batch_size, 16, 11))\n",
    "encoder_outputs, state_h, state_c = encoder(encoder_inputs)\n",
    "# We discard `encoder_outputs` and only keep the states.\n",
    "encoder_states = [state_h, state_c]\n",
    "\n",
    "# Set up the decoder, using `encoder_states` as initial state.\n",
    "decoder_inputs = Input(shape=(None, decoder_input_dim))\n",
    "# We set up our decoder to return full output sequences,\n",
    "# and to return internal states as well. We don't use the\n",
    "# return states in the training model, but we will use them in inference.\n",
    "decoder_lstm = LSTM(latent_dim,input_shape=(batch_size, 48, 11), return_sequences=True, return_state=True)\n",
    "decoder_outputs, _, _ = decoder_lstm(decoder_inputs,\n",
    "                                     initial_state=encoder_states)\n",
    "\n",
    "decoder_dense = TimeDistributed(Dense(1, activation='sigmoid'))\n",
    "\n",
    "decoder_outputs = decoder_dense(decoder_outputs)\n",
    "\n",
    "# Define the model that will turn\n",
    "# `encoder_input_data` & `decoder_input_data` into `decoder_target_data`\n",
    "model = Model([encoder_inputs, decoder_inputs], decoder_outputs)\n",
    "\n"
   ]
  },
  {
   "cell_type": "code",
   "execution_count": 17,
   "metadata": {
    "ExecuteTime": {
     "end_time": "2019-10-10T12:09:57.901618Z",
     "start_time": "2019-10-10T12:09:57.540805Z"
    }
   },
   "outputs": [],
   "source": [
    "from keras.utils import plot_model\n",
    "plot_model(model, to_file='model.dot',show_shapes=True)"
   ]
  },
  {
   "cell_type": "code",
   "execution_count": 23,
   "metadata": {
    "ExecuteTime": {
     "end_time": "2019-10-10T12:18:00.459984Z",
     "start_time": "2019-10-10T12:15:39.788864Z"
    }
   },
   "outputs": [
    {
     "name": "stdout",
     "output_type": "stream",
     "text": [
      "Train on 800 samples, validate on 200 samples\n",
      "Epoch 1/100\n",
      "800/800 [==============================] - 13s 16ms/step - loss: 0.1041 - mean_squared_error: 0.1041 - val_loss: 0.0899 - val_mean_squared_error: 0.0899\n",
      "Epoch 2/100\n",
      "800/800 [==============================] - 3s 4ms/step - loss: 0.0267 - mean_squared_error: 0.0267 - val_loss: 0.0288 - val_mean_squared_error: 0.0288\n",
      "Epoch 3/100\n",
      "800/800 [==============================] - 3s 4ms/step - loss: 0.0085 - mean_squared_error: 0.0085 - val_loss: 0.0123 - val_mean_squared_error: 0.0123\n",
      "Epoch 4/100\n",
      "800/800 [==============================] - 3s 4ms/step - loss: 0.0041 - mean_squared_error: 0.0041 - val_loss: 0.0072 - val_mean_squared_error: 0.0072\n",
      "Epoch 5/100\n",
      "800/800 [==============================] - 4s 4ms/step - loss: 0.0024 - mean_squared_error: 0.0024 - val_loss: 0.0051 - val_mean_squared_error: 0.0051\n",
      "Epoch 6/100\n",
      "800/800 [==============================] - 3s 4ms/step - loss: 0.0015 - mean_squared_error: 0.0015 - val_loss: 0.0038 - val_mean_squared_error: 0.0038\n",
      "Epoch 7/100\n",
      "800/800 [==============================] - 3s 4ms/step - loss: 0.0012 - mean_squared_error: 0.0012 - val_loss: 0.0029 - val_mean_squared_error: 0.0029\n",
      "Epoch 8/100\n",
      "800/800 [==============================] - 3s 4ms/step - loss: 9.7553e-04 - mean_squared_error: 9.7553e-04 - val_loss: 0.0024 - val_mean_squared_error: 0.0024\n",
      "Epoch 9/100\n",
      "800/800 [==============================] - 3s 4ms/step - loss: 8.7468e-04 - mean_squared_error: 8.7468e-04 - val_loss: 0.0021 - val_mean_squared_error: 0.0021\n",
      "Epoch 10/100\n",
      "800/800 [==============================] - 3s 4ms/step - loss: 7.9748e-04 - mean_squared_error: 7.9748e-04 - val_loss: 0.0018 - val_mean_squared_error: 0.0018\n",
      "Epoch 11/100\n",
      "800/800 [==============================] - 3s 4ms/step - loss: 7.4138e-04 - mean_squared_error: 7.4138e-04 - val_loss: 0.0016 - val_mean_squared_error: 0.0016\n",
      "Epoch 12/100\n",
      "800/800 [==============================] - 3s 4ms/step - loss: 6.9249e-04 - mean_squared_error: 6.9249e-04 - val_loss: 0.0014 - val_mean_squared_error: 0.0014\n",
      "Epoch 13/100\n",
      "800/800 [==============================] - 3s 4ms/step - loss: 6.5670e-04 - mean_squared_error: 6.5670e-04 - val_loss: 0.0013 - val_mean_squared_error: 0.0013\n",
      "Epoch 14/100\n",
      "800/800 [==============================] - 3s 4ms/step - loss: 6.2340e-04 - mean_squared_error: 6.2340e-04 - val_loss: 0.0011 - val_mean_squared_error: 0.0011\n",
      "Epoch 15/100\n",
      "800/800 [==============================] - 3s 4ms/step - loss: 5.9840e-04 - mean_squared_error: 5.9840e-04 - val_loss: 0.0010 - val_mean_squared_error: 0.0010\n",
      "Epoch 16/100\n",
      "800/800 [==============================] - 3s 4ms/step - loss: 5.7725e-04 - mean_squared_error: 5.7725e-04 - val_loss: 9.5465e-04 - val_mean_squared_error: 9.5465e-04\n",
      "Epoch 17/100\n",
      "800/800 [==============================] - 3s 4ms/step - loss: 5.6039e-04 - mean_squared_error: 5.6038e-04 - val_loss: 8.8474e-04 - val_mean_squared_error: 8.8474e-04\n",
      "Epoch 18/100\n",
      "800/800 [==============================] - 3s 4ms/step - loss: 5.4568e-04 - mean_squared_error: 5.4568e-04 - val_loss: 8.2548e-04 - val_mean_squared_error: 8.2548e-04\n",
      "Epoch 19/100\n",
      "800/800 [==============================] - 3s 4ms/step - loss: 5.3321e-04 - mean_squared_error: 5.3321e-04 - val_loss: 7.7248e-04 - val_mean_squared_error: 7.7248e-04\n",
      "Epoch 20/100\n",
      "800/800 [==============================] - 3s 4ms/step - loss: 5.2262e-04 - mean_squared_error: 5.2262e-04 - val_loss: 7.2387e-04 - val_mean_squared_error: 7.2387e-04\n",
      "Epoch 21/100\n",
      "800/800 [==============================] - 3s 4ms/step - loss: 5.1272e-04 - mean_squared_error: 5.1272e-04 - val_loss: 6.8507e-04 - val_mean_squared_error: 6.8507e-04\n",
      "Epoch 22/100\n",
      "800/800 [==============================] - 3s 4ms/step - loss: 5.0425e-04 - mean_squared_error: 5.0425e-04 - val_loss: 6.5194e-04 - val_mean_squared_error: 6.5194e-04\n",
      "Epoch 23/100\n",
      "800/800 [==============================] - 3s 4ms/step - loss: 4.9706e-04 - mean_squared_error: 4.9706e-04 - val_loss: 6.2098e-04 - val_mean_squared_error: 6.2098e-04\n",
      "Epoch 24/100\n",
      "800/800 [==============================] - 3s 4ms/step - loss: 4.9003e-04 - mean_squared_error: 4.9003e-04 - val_loss: 5.9724e-04 - val_mean_squared_error: 5.9724e-04\n",
      "Epoch 25/100\n",
      "800/800 [==============================] - 3s 4ms/step - loss: 4.8424e-04 - mean_squared_error: 4.8424e-04 - val_loss: 5.7395e-04 - val_mean_squared_error: 5.7395e-04\n",
      "Epoch 26/100\n",
      "800/800 [==============================] - 3s 4ms/step - loss: 4.7871e-04 - mean_squared_error: 4.7871e-04 - val_loss: 5.5338e-04 - val_mean_squared_error: 5.5338e-04\n",
      "Epoch 27/100\n",
      "800/800 [==============================] - 3s 4ms/step - loss: 4.7350e-04 - mean_squared_error: 4.7350e-04 - val_loss: 5.3618e-04 - val_mean_squared_error: 5.3618e-04\n",
      "Epoch 28/100\n",
      "800/800 [==============================] - 3s 4ms/step - loss: 4.6877e-04 - mean_squared_error: 4.6877e-04 - val_loss: 5.2039e-04 - val_mean_squared_error: 5.2039e-04\n",
      "Epoch 29/100\n",
      "800/800 [==============================] - 3s 4ms/step - loss: 4.6435e-04 - mean_squared_error: 4.6435e-04 - val_loss: 5.0648e-04 - val_mean_squared_error: 5.0648e-04\n",
      "Epoch 30/100\n",
      "800/800 [==============================] - 3s 4ms/step - loss: 4.6014e-04 - mean_squared_error: 4.6014e-04 - val_loss: 4.9400e-04 - val_mean_squared_error: 4.9400e-04\n",
      "Epoch 31/100\n",
      "800/800 [==============================] - 3s 4ms/step - loss: 4.5608e-04 - mean_squared_error: 4.5608e-04 - val_loss: 4.8368e-04 - val_mean_squared_error: 4.8368e-04\n",
      "Epoch 32/100\n",
      "800/800 [==============================] - 3s 4ms/step - loss: 4.5238e-04 - mean_squared_error: 4.5238e-04 - val_loss: 4.7290e-04 - val_mean_squared_error: 4.7290e-04\n",
      "Epoch 33/100\n",
      "800/800 [==============================] - 3s 4ms/step - loss: 4.4862e-04 - mean_squared_error: 4.4862e-04 - val_loss: 4.6452e-04 - val_mean_squared_error: 4.6452e-04\n",
      "Epoch 34/100\n",
      "800/800 [==============================] - 3s 4ms/step - loss: 4.4512e-04 - mean_squared_error: 4.4512e-04 - val_loss: 4.5605e-04 - val_mean_squared_error: 4.5605e-04\n",
      "Epoch 35/100\n",
      "800/800 [==============================] - 3s 4ms/step - loss: 4.4175e-04 - mean_squared_error: 4.4175e-04 - val_loss: 4.4886e-04 - val_mean_squared_error: 4.4886e-04\n",
      "Epoch 36/100\n",
      "800/800 [==============================] - 3s 4ms/step - loss: 4.3837e-04 - mean_squared_error: 4.3837e-04 - val_loss: 4.4199e-04 - val_mean_squared_error: 4.4199e-04\n",
      "Epoch 37/100\n",
      "800/800 [==============================] - 3s 4ms/step - loss: 4.3508e-04 - mean_squared_error: 4.3508e-04 - val_loss: 4.3604e-04 - val_mean_squared_error: 4.3604e-04\n",
      "Epoch 38/100\n",
      "800/800 [==============================] - 3s 4ms/step - loss: 4.3194e-04 - mean_squared_error: 4.3194e-04 - val_loss: 4.3079e-04 - val_mean_squared_error: 4.3079e-04\n",
      "Epoch 39/100\n",
      "448/800 [===============>..............] - ETA: 1s - loss: 4.5298e-04 - mean_squared_error: 4.5298e-04"
     ]
    },
    {
     "ename": "KeyboardInterrupt",
     "evalue": "",
     "output_type": "error",
     "traceback": [
      "\u001b[0;31m---------------------------------------------------------------------------\u001b[0m",
      "\u001b[0;31mKeyboardInterrupt\u001b[0m                         Traceback (most recent call last)",
      "\u001b[0;32m<ipython-input-23-4e1b58569edb>\u001b[0m in \u001b[0;36m<module>\u001b[0;34m\u001b[0m\n\u001b[1;32m      5\u001b[0m           \u001b[0mbatch_size\u001b[0m\u001b[0;34m=\u001b[0m\u001b[0mbatch_size\u001b[0m\u001b[0;34m,\u001b[0m\u001b[0;34m\u001b[0m\u001b[0m\n\u001b[1;32m      6\u001b[0m           \u001b[0mepochs\u001b[0m\u001b[0;34m=\u001b[0m\u001b[0mepochs\u001b[0m\u001b[0;34m,\u001b[0m\u001b[0;34m\u001b[0m\u001b[0m\n\u001b[0;32m----> 7\u001b[0;31m           validation_split=0.2)\n\u001b[0m\u001b[1;32m      8\u001b[0m \u001b[0;31m# Save model\u001b[0m\u001b[0;34m\u001b[0m\u001b[0;34m\u001b[0m\u001b[0m\n\u001b[1;32m      9\u001b[0m \u001b[0mmodel\u001b[0m\u001b[0;34m.\u001b[0m\u001b[0msave\u001b[0m\u001b[0;34m(\u001b[0m\u001b[0;34m'model_test1.h5'\u001b[0m\u001b[0;34m)\u001b[0m\u001b[0;34m\u001b[0m\u001b[0m\n",
      "\u001b[0;32m/cvmfs/sft.cern.ch/lcg/views/LCG_96python3/x86_64-centos7-gcc8-opt/lib/python3.6/site-packages/keras/engine/training.py\u001b[0m in \u001b[0;36mfit\u001b[0;34m(self, x, y, batch_size, epochs, verbose, callbacks, validation_split, validation_data, shuffle, class_weight, sample_weight, initial_epoch, steps_per_epoch, validation_steps, **kwargs)\u001b[0m\n\u001b[1;32m   1037\u001b[0m                                         \u001b[0minitial_epoch\u001b[0m\u001b[0;34m=\u001b[0m\u001b[0minitial_epoch\u001b[0m\u001b[0;34m,\u001b[0m\u001b[0;34m\u001b[0m\u001b[0m\n\u001b[1;32m   1038\u001b[0m                                         \u001b[0msteps_per_epoch\u001b[0m\u001b[0;34m=\u001b[0m\u001b[0msteps_per_epoch\u001b[0m\u001b[0;34m,\u001b[0m\u001b[0;34m\u001b[0m\u001b[0m\n\u001b[0;32m-> 1039\u001b[0;31m                                         validation_steps=validation_steps)\n\u001b[0m\u001b[1;32m   1040\u001b[0m \u001b[0;34m\u001b[0m\u001b[0m\n\u001b[1;32m   1041\u001b[0m     def evaluate(self, x=None, y=None,\n",
      "\u001b[0;32m/cvmfs/sft.cern.ch/lcg/views/LCG_96python3/x86_64-centos7-gcc8-opt/lib/python3.6/site-packages/keras/engine/training_arrays.py\u001b[0m in \u001b[0;36mfit_loop\u001b[0;34m(model, f, ins, out_labels, batch_size, epochs, verbose, callbacks, val_f, val_ins, shuffle, callback_metrics, initial_epoch, steps_per_epoch, validation_steps)\u001b[0m\n\u001b[1;32m    197\u001b[0m                     \u001b[0mins_batch\u001b[0m\u001b[0;34m[\u001b[0m\u001b[0mi\u001b[0m\u001b[0;34m]\u001b[0m \u001b[0;34m=\u001b[0m \u001b[0mins_batch\u001b[0m\u001b[0;34m[\u001b[0m\u001b[0mi\u001b[0m\u001b[0;34m]\u001b[0m\u001b[0;34m.\u001b[0m\u001b[0mtoarray\u001b[0m\u001b[0;34m(\u001b[0m\u001b[0;34m)\u001b[0m\u001b[0;34m\u001b[0m\u001b[0m\n\u001b[1;32m    198\u001b[0m \u001b[0;34m\u001b[0m\u001b[0m\n\u001b[0;32m--> 199\u001b[0;31m                 \u001b[0mouts\u001b[0m \u001b[0;34m=\u001b[0m \u001b[0mf\u001b[0m\u001b[0;34m(\u001b[0m\u001b[0mins_batch\u001b[0m\u001b[0;34m)\u001b[0m\u001b[0;34m\u001b[0m\u001b[0m\n\u001b[0m\u001b[1;32m    200\u001b[0m                 \u001b[0mouts\u001b[0m \u001b[0;34m=\u001b[0m \u001b[0mto_list\u001b[0m\u001b[0;34m(\u001b[0m\u001b[0mouts\u001b[0m\u001b[0;34m)\u001b[0m\u001b[0;34m\u001b[0m\u001b[0m\n\u001b[1;32m    201\u001b[0m                 \u001b[0;32mfor\u001b[0m \u001b[0ml\u001b[0m\u001b[0;34m,\u001b[0m \u001b[0mo\u001b[0m \u001b[0;32min\u001b[0m \u001b[0mzip\u001b[0m\u001b[0;34m(\u001b[0m\u001b[0mout_labels\u001b[0m\u001b[0;34m,\u001b[0m \u001b[0mouts\u001b[0m\u001b[0;34m)\u001b[0m\u001b[0;34m:\u001b[0m\u001b[0;34m\u001b[0m\u001b[0m\n",
      "\u001b[0;32m/cvmfs/sft.cern.ch/lcg/views/LCG_96python3/x86_64-centos7-gcc8-opt/lib/python3.6/site-packages/keras/backend/tensorflow_backend.py\u001b[0m in \u001b[0;36m__call__\u001b[0;34m(self, inputs)\u001b[0m\n\u001b[1;32m   2713\u001b[0m                 \u001b[0;32mreturn\u001b[0m \u001b[0mself\u001b[0m\u001b[0;34m.\u001b[0m\u001b[0m_legacy_call\u001b[0m\u001b[0;34m(\u001b[0m\u001b[0minputs\u001b[0m\u001b[0;34m)\u001b[0m\u001b[0;34m\u001b[0m\u001b[0m\n\u001b[1;32m   2714\u001b[0m \u001b[0;34m\u001b[0m\u001b[0m\n\u001b[0;32m-> 2715\u001b[0;31m             \u001b[0;32mreturn\u001b[0m \u001b[0mself\u001b[0m\u001b[0;34m.\u001b[0m\u001b[0m_call\u001b[0m\u001b[0;34m(\u001b[0m\u001b[0minputs\u001b[0m\u001b[0;34m)\u001b[0m\u001b[0;34m\u001b[0m\u001b[0m\n\u001b[0m\u001b[1;32m   2716\u001b[0m         \u001b[0;32melse\u001b[0m\u001b[0;34m:\u001b[0m\u001b[0;34m\u001b[0m\u001b[0m\n\u001b[1;32m   2717\u001b[0m             \u001b[0;32mif\u001b[0m \u001b[0mpy_any\u001b[0m\u001b[0;34m(\u001b[0m\u001b[0mis_tensor\u001b[0m\u001b[0;34m(\u001b[0m\u001b[0mx\u001b[0m\u001b[0;34m)\u001b[0m \u001b[0;32mfor\u001b[0m \u001b[0mx\u001b[0m \u001b[0;32min\u001b[0m \u001b[0minputs\u001b[0m\u001b[0;34m)\u001b[0m\u001b[0;34m:\u001b[0m\u001b[0;34m\u001b[0m\u001b[0m\n",
      "\u001b[0;32m/cvmfs/sft.cern.ch/lcg/views/LCG_96python3/x86_64-centos7-gcc8-opt/lib/python3.6/site-packages/keras/backend/tensorflow_backend.py\u001b[0m in \u001b[0;36m_call\u001b[0;34m(self, inputs)\u001b[0m\n\u001b[1;32m   2673\u001b[0m             \u001b[0mfetched\u001b[0m \u001b[0;34m=\u001b[0m \u001b[0mself\u001b[0m\u001b[0;34m.\u001b[0m\u001b[0m_callable_fn\u001b[0m\u001b[0;34m(\u001b[0m\u001b[0;34m*\u001b[0m\u001b[0marray_vals\u001b[0m\u001b[0;34m,\u001b[0m \u001b[0mrun_metadata\u001b[0m\u001b[0;34m=\u001b[0m\u001b[0mself\u001b[0m\u001b[0;34m.\u001b[0m\u001b[0mrun_metadata\u001b[0m\u001b[0;34m)\u001b[0m\u001b[0;34m\u001b[0m\u001b[0m\n\u001b[1;32m   2674\u001b[0m         \u001b[0;32melse\u001b[0m\u001b[0;34m:\u001b[0m\u001b[0;34m\u001b[0m\u001b[0m\n\u001b[0;32m-> 2675\u001b[0;31m             \u001b[0mfetched\u001b[0m \u001b[0;34m=\u001b[0m \u001b[0mself\u001b[0m\u001b[0;34m.\u001b[0m\u001b[0m_callable_fn\u001b[0m\u001b[0;34m(\u001b[0m\u001b[0;34m*\u001b[0m\u001b[0marray_vals\u001b[0m\u001b[0;34m)\u001b[0m\u001b[0;34m\u001b[0m\u001b[0m\n\u001b[0m\u001b[1;32m   2676\u001b[0m         \u001b[0;32mreturn\u001b[0m \u001b[0mfetched\u001b[0m\u001b[0;34m[\u001b[0m\u001b[0;34m:\u001b[0m\u001b[0mlen\u001b[0m\u001b[0;34m(\u001b[0m\u001b[0mself\u001b[0m\u001b[0;34m.\u001b[0m\u001b[0moutputs\u001b[0m\u001b[0;34m)\u001b[0m\u001b[0;34m]\u001b[0m\u001b[0;34m\u001b[0m\u001b[0m\n\u001b[1;32m   2677\u001b[0m \u001b[0;34m\u001b[0m\u001b[0m\n",
      "\u001b[0;32m/cvmfs/sft.cern.ch/lcg/views/LCG_96python3/x86_64-centos7-gcc8-opt/lib/python3.6/site-packages/tensorflow/python/client/session.py\u001b[0m in \u001b[0;36m__call__\u001b[0;34m(self, *args, **kwargs)\u001b[0m\n\u001b[1;32m   1456\u001b[0m         ret = tf_session.TF_SessionRunCallable(self._session._session,\n\u001b[1;32m   1457\u001b[0m                                                \u001b[0mself\u001b[0m\u001b[0;34m.\u001b[0m\u001b[0m_handle\u001b[0m\u001b[0;34m,\u001b[0m \u001b[0margs\u001b[0m\u001b[0;34m,\u001b[0m\u001b[0;34m\u001b[0m\u001b[0m\n\u001b[0;32m-> 1458\u001b[0;31m                                                run_metadata_ptr)\n\u001b[0m\u001b[1;32m   1459\u001b[0m         \u001b[0;32mif\u001b[0m \u001b[0mrun_metadata\u001b[0m\u001b[0;34m:\u001b[0m\u001b[0;34m\u001b[0m\u001b[0m\n\u001b[1;32m   1460\u001b[0m           \u001b[0mproto_data\u001b[0m \u001b[0;34m=\u001b[0m \u001b[0mtf_session\u001b[0m\u001b[0;34m.\u001b[0m\u001b[0mTF_GetBuffer\u001b[0m\u001b[0;34m(\u001b[0m\u001b[0mrun_metadata_ptr\u001b[0m\u001b[0;34m)\u001b[0m\u001b[0;34m\u001b[0m\u001b[0m\n",
      "\u001b[0;31mKeyboardInterrupt\u001b[0m: "
     ]
    }
   ],
   "source": [
    "# Run training\n",
    "model.compile(optimizer='adam', loss='MSE',\n",
    "              metrics=['mean_squared_error'])\n",
    "model.fit([encoder_input_data[:1000,], decoder_input_data[:1000,]], decoder_target_data[:1000,],\n",
    "          batch_size=batch_size,\n",
    "          epochs=epochs,\n",
    "          validation_split=0.2)\n",
    "# Save model\n",
    "model.save('model_test1.h5')\n",
    "\n"
   ]
  },
  {
   "cell_type": "code",
   "execution_count": null,
   "metadata": {},
   "outputs": [],
   "source": []
  }
 ],
 "metadata": {
  "kernelspec": {
   "display_name": "Python 3",
   "language": "python",
   "name": "python3"
  },
  "toc": {
   "base_numbering": 1,
   "nav_menu": {},
   "number_sections": true,
   "sideBar": true,
   "skip_h1_title": false,
   "title_cell": "Table of Contents",
   "title_sidebar": "Contents",
   "toc_cell": false,
   "toc_position": {},
   "toc_section_display": true,
   "toc_window_display": false
  },
  "varInspector": {
   "cols": {
    "lenName": 16,
    "lenType": 16,
    "lenVar": 40
   },
   "kernels_config": {
    "python": {
     "delete_cmd_postfix": "",
     "delete_cmd_prefix": "del ",
     "library": "var_list.py",
     "varRefreshCmd": "print(var_dic_list())"
    },
    "r": {
     "delete_cmd_postfix": ") ",
     "delete_cmd_prefix": "rm(",
     "library": "var_list.r",
     "varRefreshCmd": "cat(var_dic_list()) "
    }
   },
   "types_to_exclude": [
    "module",
    "function",
    "builtin_function_or_method",
    "instance",
    "_Feature"
   ],
   "window_display": false
  }
 },
 "nbformat": 4,
 "nbformat_minor": 2
}
