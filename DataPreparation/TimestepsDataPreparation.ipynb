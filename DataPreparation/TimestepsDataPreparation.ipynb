{
 "cells": [
  {
   "cell_type": "code",
   "execution_count": 1,
   "metadata": {
    "ExecuteTime": {
     "end_time": "2020-02-17T08:51:32.681657Z",
     "start_time": "2020-02-17T08:51:31.580095Z"
    }
   },
   "outputs": [],
   "source": [
    "import matplotlib.pyplot as plt\n",
    "import matplotlib as mpl\n",
    "import pandas as pd\n",
    "import numpy as np\n",
    "from pprint import pprint\n",
    "from collections import namedtuple\n",
    "\n",
    "mpl.rcParams['figure.figsize'] = (10,8)\n",
    "mpl.rcParams[\"image.origin\"] = 'lower'"
   ]
  },
  {
   "cell_type": "code",
   "execution_count": 2,
   "metadata": {
    "ExecuteTime": {
     "end_time": "2020-02-17T08:51:35.325247Z",
     "start_time": "2020-02-17T08:51:35.320755Z"
    }
   },
   "outputs": [],
   "source": [
    "data_folder = \"/eos/user/d/dvalsecc/www/ECAL/Transparency/data_v1\""
   ]
  },
  {
   "cell_type": "code",
   "execution_count": 3,
   "metadata": {
    "ExecuteTime": {
     "end_time": "2020-02-17T08:51:37.516301Z",
     "start_time": "2020-02-17T08:51:35.568532Z"
    }
   },
   "outputs": [],
   "source": [
    "data_EE = np.load(f\"{data_folder}/transp_data_EE.npy\", mmap_mode=\"r\")\n",
    "data_EB = np.load(f\"{data_folder}/transp_data_EB.npy\", mmap_mode=\"r\")"
   ]
  },
  {
   "cell_type": "markdown",
   "metadata": {},
   "source": [
    "## Read brilcalc metadata"
   ]
  },
  {
   "cell_type": "code",
   "execution_count": 4,
   "metadata": {
    "ExecuteTime": {
     "end_time": "2020-02-17T08:51:54.556180Z",
     "start_time": "2020-02-17T08:51:37.668836Z"
    }
   },
   "outputs": [],
   "source": [
    "meta = pd.read_csv(\"transp_metadata_2017_v2.csv\",sep=\",\").astype({\"transp_entry\":\"int64\", \"time\": \"int64\", \"fill_num\":\"int64\", \"time_in_fill\":\"int64\", \"time_in_fill_stable\":\"int64\"})\n",
    "bril = pd.read_csv(\"lumi_brilcalc_2017.csv\", sep=\",\", comment=\"#\")\n",
    "bril[\"run\"] = bril.apply(lambda row: int(row[\"run:fill\"].split(\":\")[0]), axis=1)\n",
    "bril[\"fill\"] = bril.apply(lambda row: int(row[\"run:fill\"].split(\":\")[1]), axis=1)"
   ]
  },
  {
   "cell_type": "code",
   "execution_count": 8,
   "metadata": {
    "ExecuteTime": {
     "end_time": "2020-02-17T08:01:39.367433Z",
     "start_time": "2020-02-17T08:01:39.363219Z"
    }
   },
   "outputs": [
    {
     "name": "stdout",
     "output_type": "stream",
     "text": [
      "Index(['transp_entry', 'time', 'bfield', 'fill_num', 'fill_time_start',\n",
      "       'fill_time_stable_start', 'time_in_fill', 'time_in_fill_stable',\n",
      "       'run_in_fill', 'in_fill'],\n",
      "      dtype='object')\n",
      "Index(['run:fill', 'ls', 'time', 'beamstatus', 'E(GeV)', 'delivered(/ub)',\n",
      "       'recorded(/ub)', 'avgpu', 'source', 'run', 'fill'],\n",
      "      dtype='object')\n"
     ]
    }
   ],
   "source": [
    "print(meta.columns)\n",
    "print(bril.columns)"
   ]
  },
  {
   "cell_type": "markdown",
   "metadata": {},
   "source": [
    "## Starting lumisection"
   ]
  },
  {
   "cell_type": "code",
   "execution_count": 9,
   "metadata": {
    "ExecuteTime": {
     "end_time": "2020-02-17T08:02:25.952823Z",
     "start_time": "2020-02-17T08:02:25.945810Z"
    }
   },
   "outputs": [],
   "source": [
    "def gettimes(timestamp, n, t=23):\n",
    "    o = []\n",
    "    for i in range(abs(n)):\n",
    "            o.append(timestamp + i*t)\n",
    "    if n >0:\n",
    "        return o\n",
    "    else:\n",
    "        o.reverse()\n",
    "        return o\n"
   ]
  },
  {
   "cell_type": "markdown",
   "metadata": {},
   "source": [
    "Look for the biggest deltaT between measurements"
   ]
  },
  {
   "cell_type": "code",
   "execution_count": 10,
   "metadata": {
    "ExecuteTime": {
     "end_time": "2020-02-17T08:02:30.083343Z",
     "start_time": "2020-02-17T08:02:30.044409Z"
    }
   },
   "outputs": [],
   "source": [
    "meta[\"time-1\"] = meta[\"time\"].shift(1)\n",
    "meta[\"deltaT\"] = (meta[\"time\"]- meta[\"time-1\"])"
   ]
  },
  {
   "cell_type": "markdown",
   "metadata": {},
   "source": [
    "Cumulative luminosity over fill"
   ]
  },
  {
   "cell_type": "code",
   "execution_count": 11,
   "metadata": {
    "ExecuteTime": {
     "end_time": "2020-02-17T08:02:35.326841Z",
     "start_time": "2020-02-17T08:02:34.093436Z"
    }
   },
   "outputs": [
    {
     "data": {
      "text/plain": [
       "[<matplotlib.lines.Line2D at 0x7f9109154710>]"
      ]
     },
     "execution_count": 11,
     "metadata": {},
     "output_type": "execute_result"
    },
    {
     "data": {
      "image/png": "[encoded data removed]",
      "text/plain": [
       "<Figure size 432x288 with 1 Axes>"
      ]
     },
     "metadata": {},
     "output_type": "display_data"
    }
   ],
   "source": [
    "plt.plot(bril.groupby(\"fill\")[\"delivered(/ub)\"].cumsum())"
   ]
  },
  {
   "cell_type": "markdown",
   "metadata": {},
   "source": [
    "## Cumulative lumi in fill estimation\n",
    "Let's calculate cumulative lumi in the fill, and cumulative time in the fill thanks to pandas groupby and transform"
   ]
  },
  {
   "cell_type": "code",
   "execution_count": 12,
   "metadata": {
    "ExecuteTime": {
     "end_time": "2020-02-17T08:02:58.623069Z",
     "start_time": "2020-02-17T08:02:58.593160Z"
    }
   },
   "outputs": [
    {
     "data": {
      "text/html": [
       "<div>\n",
       "<style scoped>\n",
       "    .dataframe tbody tr th:only-of-type {\n",
       "        vertical-align: middle;\n",
       "    }\n",
       "\n",
       "    .dataframe tbody tr th {\n",
       "        vertical-align: top;\n",
       "    }\n",
       "\n",
       "    .dataframe thead th {\n",
       "        text-align: right;\n",
       "    }\n",
       "</style>\n",
       "<table border=\"1\" class=\"dataframe\">\n",
       "  <thead>\n",
       "    <tr style=\"text-align: right;\">\n",
       "      <th></th>\n",
       "      <th>run:fill</th>\n",
       "      <th>ls</th>\n",
       "      <th>time</th>\n",
       "      <th>beamstatus</th>\n",
       "      <th>E(GeV)</th>\n",
       "      <th>delivered(/ub)</th>\n",
       "      <th>recorded(/ub)</th>\n",
       "      <th>avgpu</th>\n",
       "      <th>source</th>\n",
       "      <th>run</th>\n",
       "      <th>fill</th>\n",
       "    </tr>\n",
       "  </thead>\n",
       "  <tbody>\n",
       "    <tr>\n",
       "      <th>0</th>\n",
       "      <td>294904:5697</td>\n",
       "      <td>57:0</td>\n",
       "      <td>1495541393</td>\n",
       "      <td>FLAT TOP</td>\n",
       "      <td>6500</td>\n",
       "      <td>0.125840</td>\n",
       "      <td>0.0</td>\n",
       "      <td>0.0</td>\n",
       "      <td>PLTZERO</td>\n",
       "      <td>294904</td>\n",
       "      <td>5697</td>\n",
       "    </tr>\n",
       "    <tr>\n",
       "      <th>1</th>\n",
       "      <td>294904:5697</td>\n",
       "      <td>58:0</td>\n",
       "      <td>1495541413</td>\n",
       "      <td>FLAT TOP</td>\n",
       "      <td>6500</td>\n",
       "      <td>0.126789</td>\n",
       "      <td>0.0</td>\n",
       "      <td>0.5</td>\n",
       "      <td>PLTZERO</td>\n",
       "      <td>294904</td>\n",
       "      <td>5697</td>\n",
       "    </tr>\n",
       "    <tr>\n",
       "      <th>2</th>\n",
       "      <td>294904:5697</td>\n",
       "      <td>59:0</td>\n",
       "      <td>1495541436</td>\n",
       "      <td>FLAT TOP</td>\n",
       "      <td>6500</td>\n",
       "      <td>0.122161</td>\n",
       "      <td>0.0</td>\n",
       "      <td>0.5</td>\n",
       "      <td>PLTZERO</td>\n",
       "      <td>294904</td>\n",
       "      <td>5697</td>\n",
       "    </tr>\n",
       "    <tr>\n",
       "      <th>3</th>\n",
       "      <td>294904:5697</td>\n",
       "      <td>60:0</td>\n",
       "      <td>1495541460</td>\n",
       "      <td>FLAT TOP</td>\n",
       "      <td>6500</td>\n",
       "      <td>0.118824</td>\n",
       "      <td>0.0</td>\n",
       "      <td>0.7</td>\n",
       "      <td>PLTZERO</td>\n",
       "      <td>294904</td>\n",
       "      <td>5697</td>\n",
       "    </tr>\n",
       "    <tr>\n",
       "      <th>4</th>\n",
       "      <td>294926:5698</td>\n",
       "      <td>25:0</td>\n",
       "      <td>1495548553</td>\n",
       "      <td>FLAT TOP</td>\n",
       "      <td>6500</td>\n",
       "      <td>0.138309</td>\n",
       "      <td>0.0</td>\n",
       "      <td>0.0</td>\n",
       "      <td>PLTZERO</td>\n",
       "      <td>294926</td>\n",
       "      <td>5698</td>\n",
       "    </tr>\n",
       "  </tbody>\n",
       "</table>\n",
       "</div>"
      ],
      "text/plain": [
       "      run:fill    ls        time beamstatus  E(GeV)  delivered(/ub)  \\\n",
       "0  294904:5697  57:0  1495541393   FLAT TOP    6500        0.125840   \n",
       "1  294904:5697  58:0  1495541413   FLAT TOP    6500        0.126789   \n",
       "2  294904:5697  59:0  1495541436   FLAT TOP    6500        0.122161   \n",
       "3  294904:5697  60:0  1495541460   FLAT TOP    6500        0.118824   \n",
       "4  294926:5698  25:0  1495548553   FLAT TOP    6500        0.138309   \n",
       "\n",
       "   recorded(/ub)  avgpu   source     run  fill  \n",
       "0            0.0    0.0  PLTZERO  294904  5697  \n",
       "1            0.0    0.5  PLTZERO  294904  5697  \n",
       "2            0.0    0.5  PLTZERO  294904  5697  \n",
       "3            0.0    0.7  PLTZERO  294904  5697  \n",
       "4            0.0    0.0  PLTZERO  294926  5698  "
      ]
     },
     "execution_count": 12,
     "metadata": {},
     "output_type": "execute_result"
    }
   ],
   "source": [
    "bril.head()"
   ]
  },
  {
   "cell_type": "code",
   "execution_count": 13,
   "metadata": {
    "ExecuteTime": {
     "end_time": "2020-02-17T08:03:32.527314Z",
     "start_time": "2020-02-17T08:03:31.781847Z"
    }
   },
   "outputs": [],
   "source": [
    "bril[\"lumi_in_fill\"] = bril.groupby(\"fill\")[\"delivered(/ub)\"].cumsum()\n",
    "bril[\"time_in_fill\"] = bril.groupby(\"fill\")[\"time\"].transform(lambda t: t - t.min())\n",
    "bril[\"time_in_fill_stable\"] = bril[bril.beamstatus==\"STABLE BEAMS\"].groupby(\"fill\")[\"time\"].transform(lambda t: t - t.min())\n",
    "bril[\"time_in_fill_stable\"] = bril[\"time_in_fill_stable\"].fillna(0)"
   ]
  },
  {
   "cell_type": "code",
   "execution_count": 14,
   "metadata": {
    "ExecuteTime": {
     "end_time": "2020-02-17T08:03:39.132674Z",
     "start_time": "2020-02-17T08:03:39.096542Z"
    }
   },
   "outputs": [
    {
     "data": {
      "text/html": [
       "<div>\n",
       "<style scoped>\n",
       "    .dataframe tbody tr th:only-of-type {\n",
       "        vertical-align: middle;\n",
       "    }\n",
       "\n",
       "    .dataframe tbody tr th {\n",
       "        vertical-align: top;\n",
       "    }\n",
       "\n",
       "    .dataframe thead th {\n",
       "        text-align: right;\n",
       "    }\n",
       "</style>\n",
       "<table border=\"1\" class=\"dataframe\">\n",
       "  <thead>\n",
       "    <tr style=\"text-align: right;\">\n",
       "      <th></th>\n",
       "      <th>run:fill</th>\n",
       "      <th>ls</th>\n",
       "      <th>time</th>\n",
       "      <th>beamstatus</th>\n",
       "      <th>E(GeV)</th>\n",
       "      <th>delivered(/ub)</th>\n",
       "      <th>recorded(/ub)</th>\n",
       "      <th>avgpu</th>\n",
       "      <th>source</th>\n",
       "      <th>run</th>\n",
       "      <th>fill</th>\n",
       "      <th>lumi_in_fill</th>\n",
       "      <th>time_in_fill</th>\n",
       "      <th>time_in_fill_stable</th>\n",
       "    </tr>\n",
       "  </thead>\n",
       "  <tbody>\n",
       "    <tr>\n",
       "      <th>0</th>\n",
       "      <td>294904:5697</td>\n",
       "      <td>57:0</td>\n",
       "      <td>1495541393</td>\n",
       "      <td>FLAT TOP</td>\n",
       "      <td>6500</td>\n",
       "      <td>0.125840</td>\n",
       "      <td>0.0</td>\n",
       "      <td>0.0</td>\n",
       "      <td>PLTZERO</td>\n",
       "      <td>294904</td>\n",
       "      <td>5697</td>\n",
       "      <td>0.125840</td>\n",
       "      <td>0</td>\n",
       "      <td>0.0</td>\n",
       "    </tr>\n",
       "    <tr>\n",
       "      <th>1</th>\n",
       "      <td>294904:5697</td>\n",
       "      <td>58:0</td>\n",
       "      <td>1495541413</td>\n",
       "      <td>FLAT TOP</td>\n",
       "      <td>6500</td>\n",
       "      <td>0.126789</td>\n",
       "      <td>0.0</td>\n",
       "      <td>0.5</td>\n",
       "      <td>PLTZERO</td>\n",
       "      <td>294904</td>\n",
       "      <td>5697</td>\n",
       "      <td>0.252629</td>\n",
       "      <td>20</td>\n",
       "      <td>0.0</td>\n",
       "    </tr>\n",
       "    <tr>\n",
       "      <th>2</th>\n",
       "      <td>294904:5697</td>\n",
       "      <td>59:0</td>\n",
       "      <td>1495541436</td>\n",
       "      <td>FLAT TOP</td>\n",
       "      <td>6500</td>\n",
       "      <td>0.122161</td>\n",
       "      <td>0.0</td>\n",
       "      <td>0.5</td>\n",
       "      <td>PLTZERO</td>\n",
       "      <td>294904</td>\n",
       "      <td>5697</td>\n",
       "      <td>0.374790</td>\n",
       "      <td>43</td>\n",
       "      <td>0.0</td>\n",
       "    </tr>\n",
       "    <tr>\n",
       "      <th>3</th>\n",
       "      <td>294904:5697</td>\n",
       "      <td>60:0</td>\n",
       "      <td>1495541460</td>\n",
       "      <td>FLAT TOP</td>\n",
       "      <td>6500</td>\n",
       "      <td>0.118824</td>\n",
       "      <td>0.0</td>\n",
       "      <td>0.7</td>\n",
       "      <td>PLTZERO</td>\n",
       "      <td>294904</td>\n",
       "      <td>5697</td>\n",
       "      <td>0.493614</td>\n",
       "      <td>67</td>\n",
       "      <td>0.0</td>\n",
       "    </tr>\n",
       "    <tr>\n",
       "      <th>4</th>\n",
       "      <td>294926:5698</td>\n",
       "      <td>25:0</td>\n",
       "      <td>1495548553</td>\n",
       "      <td>FLAT TOP</td>\n",
       "      <td>6500</td>\n",
       "      <td>0.138309</td>\n",
       "      <td>0.0</td>\n",
       "      <td>0.0</td>\n",
       "      <td>PLTZERO</td>\n",
       "      <td>294926</td>\n",
       "      <td>5698</td>\n",
       "      <td>0.138309</td>\n",
       "      <td>0</td>\n",
       "      <td>0.0</td>\n",
       "    </tr>\n",
       "  </tbody>\n",
       "</table>\n",
       "</div>"
      ],
      "text/plain": [
       "      run:fill    ls        time beamstatus  E(GeV)  delivered(/ub)  \\\n",
       "0  294904:5697  57:0  1495541393   FLAT TOP    6500        0.125840   \n",
       "1  294904:5697  58:0  1495541413   FLAT TOP    6500        0.126789   \n",
       "2  294904:5697  59:0  1495541436   FLAT TOP    6500        0.122161   \n",
       "3  294904:5697  60:0  1495541460   FLAT TOP    6500        0.118824   \n",
       "4  294926:5698  25:0  1495548553   FLAT TOP    6500        0.138309   \n",
       "\n",
       "   recorded(/ub)  avgpu   source     run  fill  lumi_in_fill  time_in_fill  \\\n",
       "0            0.0    0.0  PLTZERO  294904  5697      0.125840             0   \n",
       "1            0.0    0.5  PLTZERO  294904  5697      0.252629            20   \n",
       "2            0.0    0.5  PLTZERO  294904  5697      0.374790            43   \n",
       "3            0.0    0.7  PLTZERO  294904  5697      0.493614            67   \n",
       "4            0.0    0.0  PLTZERO  294926  5698      0.138309             0   \n",
       "\n",
       "   time_in_fill_stable  \n",
       "0                  0.0  \n",
       "1                  0.0  \n",
       "2                  0.0  \n",
       "3                  0.0  \n",
       "4                  0.0  "
      ]
     },
     "execution_count": 14,
     "metadata": {},
     "output_type": "execute_result"
    }
   ],
   "source": [
    "bril.head()"
   ]
  },
  {
   "cell_type": "markdown",
   "metadata": {},
   "source": [
    "## Utility functions to query bril information later\n"
   ]
  },
  {
   "cell_type": "code",
   "execution_count": 15,
   "metadata": {
    "ExecuteTime": {
     "end_time": "2020-02-17T08:05:07.217829Z",
     "start_time": "2020-02-17T08:05:07.211372Z"
    }
   },
   "outputs": [],
   "source": [
    "# Useful Namestupls with fill information\n",
    "fillinfo = namedtuple(\"fillinfo\", [\"fill\", \"beamstatus\", \"lumi_inst\", \"lumi_in_fill\", \"time_in_fill\", \"time_in_fill_stable\"])"
   ]
  },
  {
   "cell_type": "code",
   "execution_count": 18,
   "metadata": {
    "ExecuteTime": {
     "end_time": "2020-02-17T08:05:22.476599Z",
     "start_time": "2020-02-17T08:05:22.468448Z"
    }
   },
   "outputs": [],
   "source": [
    "def is_in_fill(timestamp):\n",
    "    a = bril[abs(bril.time - timestamp)<23]\n",
    "    if len(a):\n",
    "        a = a.iloc[0]\n",
    "        return fillinfo(a.fill, a.beamstatus, a[\"delivered(/ub)\"], a.lumi_in_fill, a.time_in_fill, a.time_in_fill_stable)\n",
    "    else:\n",
    "        return fillinfo(0, \"NOBEAM\", 0, 0,0,0)\n",
    "    \n",
    "#is_in_fill(starting_time)"
   ]
  },
  {
   "cell_type": "code",
   "execution_count": 19,
   "metadata": {
    "ExecuteTime": {
     "end_time": "2020-02-17T08:05:30.992077Z",
     "start_time": "2020-02-17T08:05:30.986527Z"
    }
   },
   "outputs": [],
   "source": [
    "def get_lumi_interval(timestart, timestop):\n",
    "    return bril[ (bril.time >= timestart) & (bril.time <= timestop)][\"delivered(/ub)\"].sum()\n",
    "\n",
    "#get_lumi_interval(starting_time, 1512022951 )"
   ]
  },
  {
   "cell_type": "code",
   "execution_count": 20,
   "metadata": {
    "ExecuteTime": {
     "end_time": "2020-02-17T08:06:10.041972Z",
     "start_time": "2020-02-17T08:06:10.033297Z"
    }
   },
   "outputs": [],
   "source": [
    "def get_last_fill_end(timestamp, fill=0):\n",
    "    df = bril[(bril.time <=timestamp) & (bril.fill != fill)]\n",
    "    if not df.empty:\n",
    "        return df.iloc[-1]\n",
    "    else: \n",
    "        return pd.DataFrame()"
   ]
  },
  {
   "cell_type": "code",
   "execution_count": 21,
   "metadata": {
    "ExecuteTime": {
     "end_time": "2020-02-17T08:06:11.853380Z",
     "start_time": "2020-02-17T08:06:11.847616Z"
    }
   },
   "outputs": [],
   "source": [
    "def get_fill_timeinterval(fill):\n",
    "    t = bril[bril.fill== fill].time\n",
    "    return t.iloc[0], t.iloc[-1]"
   ]
  },
  {
   "cell_type": "code",
   "execution_count": 23,
   "metadata": {
    "ExecuteTime": {
     "end_time": "2020-02-17T08:06:27.052303Z",
     "start_time": "2020-02-17T08:06:27.004758Z"
    }
   },
   "outputs": [
    {
     "data": {
      "text/plain": [
       "(1511659746, 1511692258)"
      ]
     },
     "execution_count": 23,
     "metadata": {},
     "output_type": "execute_result"
    }
   ],
   "source": [
    "get_fill_timeinterval(6417)"
   ]
  },
  {
   "cell_type": "markdown",
   "metadata": {},
   "source": [
    "## Lumi/fill metadata output\n",
    "Let's read bril data to create metadata points every N minutes"
   ]
  },
  {
   "cell_type": "code",
   "execution_count": 24,
   "metadata": {
    "ExecuteTime": {
     "end_time": "2020-02-17T08:06:53.760276Z",
     "start_time": "2020-02-17T08:06:53.749240Z"
    }
   },
   "outputs": [],
   "source": [
    "outputs = {\n",
    "    \"in_fill\" : [],\n",
    "    \"time\": [],\n",
    "    \"lumi_inst\": [],\n",
    "    \"lumi_in_fill\": [],\n",
    "    \"lumi_since_last_point\": [],\n",
    "    \"lumi_last_fill\": [],\n",
    "    \"fill_num\": [],\n",
    "    \"time_in_fill\": [],\n",
    "    \"time_in_fill_stable\": [],\n",
    "    \"time_from_last_fill\" : [],\n",
    "    \"last_dump_duration\" : [],\n",
    "    \"last_fill_duration\": [],\n",
    "}\n",
    "\n",
    "\n",
    "def add_output(out):\n",
    "    for k, v in out.items():\n",
    "        outputs[k].append(v)\n"
   ]
  },
  {
   "cell_type": "code",
   "execution_count": 26,
   "metadata": {
    "ExecuteTime": {
     "end_time": "2020-02-17T08:17:41.413465Z",
     "start_time": "2020-02-17T08:17:41.410202Z"
    }
   },
   "outputs": [],
   "source": [
    "# Interpolation time\n",
    "time_interval = 600"
   ]
  },
  {
   "cell_type": "code",
   "execution_count": 25,
   "metadata": {
    "ExecuteTime": {
     "end_time": "2020-02-17T08:17:40.408881Z",
     "start_time": "2020-02-17T08:08:43.932418Z"
    },
    "scrolled": true
   },
   "outputs": [
    {
     "name": "stdout",
     "output_type": "stream",
     "text": [
      "0/27469\n",
      "100/27469\n",
      "200/27469\n",
      "300/27469\n",
      "400/27469\n",
      "500/27469\n",
      "600/27469\n",
      "700/27469\n",
      "800/27469\n",
      "900/27469\n",
      "1000/27469\n",
      "1100/27469\n",
      "1200/27469\n",
      "1300/27469\n",
      "1400/27469\n",
      "1500/27469\n",
      "1600/27469\n",
      "1700/27469\n",
      "1800/27469\n",
      "1900/27469\n",
      "2000/27469\n",
      "2100/27469\n",
      "2200/27469\n",
      "2300/27469\n",
      "2400/27469\n",
      "2500/27469\n",
      "2600/27469\n",
      "2700/27469\n",
      "2800/27469\n",
      "2900/27469\n",
      "3000/27469\n",
      "3100/27469\n",
      "3200/27469\n",
      "3300/27469\n",
      "3400/27469\n",
      "3500/27469\n",
      "3600/27469\n",
      "3700/27469\n",
      "3800/27469\n",
      "3900/27469\n",
      "4000/27469\n",
      "4100/27469\n",
      "4200/27469\n",
      "4300/27469\n",
      "4400/27469\n",
      "4500/27469\n",
      "4600/27469\n",
      "4700/27469\n",
      "4800/27469\n",
      "4900/27469\n",
      "5000/27469\n",
      "5100/27469\n",
      "5200/27469\n",
      "5300/27469\n",
      "5400/27469\n",
      "5500/27469\n",
      "5600/27469\n",
      "5700/27469\n",
      "5800/27469\n",
      "5900/27469\n",
      "6000/27469\n",
      "6100/27469\n",
      "6200/27469\n",
      "6300/27469\n",
      "6400/27469\n",
      "6500/27469\n",
      "6600/27469\n",
      "6700/27469\n",
      "6800/27469\n",
      "6900/27469\n",
      "7000/27469\n",
      "7100/27469\n",
      "7200/27469\n",
      "7300/27469\n",
      "7400/27469\n",
      "7500/27469\n",
      "7600/27469\n",
      "7700/27469\n",
      "7800/27469\n",
      "7900/27469\n",
      "8000/27469\n",
      "8100/27469\n",
      "8200/27469\n",
      "8300/27469\n",
      "8400/27469\n",
      "8500/27469\n",
      "8600/27469\n",
      "8700/27469\n",
      "8800/27469\n",
      "8900/27469\n",
      "9000/27469\n",
      "9100/27469\n",
      "9200/27469\n",
      "9300/27469\n",
      "9400/27469\n",
      "9500/27469\n",
      "9600/27469\n",
      "9700/27469\n",
      "9800/27469\n",
      "9900/27469\n",
      "10000/27469\n",
      "10100/27469\n",
      "10200/27469\n",
      "10300/27469\n",
      "10400/27469\n",
      "10500/27469\n",
      "10600/27469\n",
      "10700/27469\n",
      "10800/27469\n",
      "10900/27469\n",
      "11000/27469\n",
      "11100/27469\n",
      "11200/27469\n",
      "11300/27469\n",
      "11400/27469\n",
      "11500/27469\n",
      "11600/27469\n",
      "11700/27469\n",
      "11800/27469\n",
      "11900/27469\n",
      "12000/27469\n",
      "12100/27469\n",
      "12200/27469\n",
      "12300/27469\n",
      "12400/27469\n",
      "12500/27469\n",
      "12600/27469\n",
      "12700/27469\n",
      "12800/27469\n",
      "12900/27469\n",
      "13000/27469\n",
      "13100/27469\n",
      "13200/27469\n",
      "13300/27469\n",
      "13400/27469\n",
      "13500/27469\n",
      "13600/27469\n",
      "13700/27469\n",
      "13800/27469\n",
      "13900/27469\n",
      "14000/27469\n",
      "14100/27469\n",
      "14200/27469\n",
      "14300/27469\n",
      "14400/27469\n",
      "14500/27469\n",
      "14600/27469\n",
      "14700/27469\n",
      "14800/27469\n",
      "14900/27469\n",
      "15000/27469\n",
      "15100/27469\n",
      "15200/27469\n",
      "15300/27469\n",
      "15400/27469\n",
      "15500/27469\n",
      "15600/27469\n",
      "15700/27469\n",
      "15800/27469\n",
      "15900/27469\n",
      "16000/27469\n",
      "16100/27469\n",
      "16200/27469\n",
      "16300/27469\n",
      "16400/27469\n",
      "16500/27469\n",
      "16600/27469\n",
      "16700/27469\n",
      "16800/27469\n",
      "16900/27469\n",
      "17000/27469\n",
      "17100/27469\n",
      "17200/27469\n",
      "17300/27469\n",
      "17400/27469\n",
      "17500/27469\n",
      "17600/27469\n",
      "17700/27469\n",
      "17800/27469\n",
      "17900/27469\n",
      "18000/27469\n",
      "18100/27469\n",
      "18200/27469\n",
      "18300/27469\n",
      "18400/27469\n",
      "18500/27469\n",
      "18600/27469\n",
      "18700/27469\n",
      "18800/27469\n",
      "18900/27469\n",
      "19000/27469\n",
      "19100/27469\n",
      "19200/27469\n",
      "19300/27469\n",
      "19400/27469\n",
      "19500/27469\n",
      "19600/27469\n",
      "19700/27469\n",
      "19800/27469\n",
      "19900/27469\n",
      "20000/27469\n",
      "20100/27469\n",
      "20200/27469\n",
      "20300/27469\n",
      "20400/27469\n",
      "20500/27469\n",
      "20600/27469\n",
      "20700/27469\n",
      "20800/27469\n",
      "20900/27469\n",
      "21000/27469\n",
      "21100/27469\n",
      "21200/27469\n",
      "21300/27469\n",
      "21400/27469\n",
      "21500/27469\n",
      "21600/27469\n",
      "21700/27469\n",
      "21800/27469\n",
      "21900/27469\n",
      "22000/27469\n",
      "22100/27469\n",
      "22200/27469\n",
      "22300/27469\n",
      "22400/27469\n",
      "22500/27469\n",
      "22600/27469\n",
      "22700/27469\n",
      "22800/27469\n",
      "22900/27469\n",
      "23000/27469\n",
      "23100/27469\n",
      "23200/27469\n",
      "23300/27469\n",
      "23400/27469\n",
      "23500/27469\n",
      "23600/27469\n",
      "23700/27469\n",
      "23800/27469\n",
      "23900/27469\n",
      "24000/27469\n",
      "24100/27469\n",
      "24200/27469\n",
      "24300/27469\n",
      "24400/27469\n",
      "24500/27469\n",
      "24600/27469\n",
      "24700/27469\n",
      "24800/27469\n",
      "24900/27469\n",
      "25000/27469\n",
      "25100/27469\n",
      "25200/27469\n",
      "25300/27469\n",
      "25400/27469\n",
      "25500/27469\n",
      "25600/27469\n",
      "25700/27469\n",
      "25800/27469\n",
      "25900/27469\n",
      "26000/27469\n",
      "26100/27469\n",
      "26200/27469\n",
      "26300/27469\n",
      "26400/27469\n",
      "26500/27469\n",
      "26600/27469\n",
      "26700/27469\n",
      "26800/27469\n",
      "26900/27469\n",
      "27000/27469\n",
      "27100/27469\n",
      "27200/27469\n",
      "27300/27469\n",
      "27400/27469\n"
     ]
    }
   ],
   "source": [
    "previous_time = bril.time.iloc[0]\n",
    "tot = (bril.time.iloc[-1]-bril.time.iloc[0])//time_interval\n",
    "\n",
    "for iev, curr_time in enumerate(range(bril.time.iloc[0], bril.time.iloc[-1], time_interval)):\n",
    "    if iev % 100 == 0:\n",
    "        print(f\"{iev}/{tot}\")\n",
    "    \n",
    "    fill_info = is_in_fill(curr_time)\n",
    "    \n",
    "    last_fill_info = get_last_fill_end(curr_time, fill_info.fill)\n",
    "    \n",
    "    if last_fill_info.empty:\n",
    "        last_fill_end = curr_time\n",
    "        last_fill_duration = 0\n",
    "        last_dump_duration = 0\n",
    "        lumi_last_fill = 0\n",
    "    else:\n",
    "        last_fill_end = last_fill_info.time\n",
    "        last_fill_duration = last_fill_info.time_in_fill\n",
    "        lumi_last_fill = last_fill_info.lumi_in_fill\n",
    "        \n",
    "        if fill_info.fill != 0:\n",
    "            last_dump_duration =  (curr_time - fill_info.time_in_fill) - last_fill_info.time \n",
    "        else:\n",
    "            last_dump_duration = curr_time - last_fill_info.time \n",
    "    \n",
    "    time_from_last_fill = curr_time - last_fill_end\n",
    "    lumi_since_last_point = get_lumi_interval(previous_time,curr_time)\n",
    "    \n",
    "    out = {\n",
    "        \"in_fill\": int(fill_info.fill != 0),\n",
    "        \"time\": curr_time,\n",
    "        \"fill_num\": fill_info.fill,\n",
    "        \"lumi_inst\": fill_info.lumi_inst,\n",
    "        \"lumi_in_fill\": fill_info.lumi_in_fill,\n",
    "        \"lumi_since_last_point\": lumi_since_last_point,\n",
    "        \"lumi_last_fill\": lumi_last_fill,\n",
    "        \n",
    "        \"time_in_fill\": fill_info.time_in_fill,\n",
    "        \"time_in_fill_stable\":  fill_info.time_in_fill_stable,\n",
    "        \"time_from_last_fill\": time_from_last_fill, \n",
    "        \"last_dump_duration\": last_dump_duration, \n",
    "        \"last_fill_duration\": last_fill_duration\n",
    "    }\n",
    "    \n",
    "    previous_time = curr_time\n",
    "    add_output(out)\n",
    "\n"
   ]
  },
  {
   "cell_type": "code",
   "execution_count": 27,
   "metadata": {
    "ExecuteTime": {
     "end_time": "2020-02-17T08:29:35.916908Z",
     "start_time": "2020-02-17T08:29:35.054478Z"
    }
   },
   "outputs": [],
   "source": [
    "output_df = pd.DataFrame(outputs)\n",
    "output_df.to_csv(\"output_metadata_2017_10min.csv\")"
   ]
  },
  {
   "cell_type": "markdown",
   "metadata": {},
   "source": [
    "## Transparency data interpolation\n"
   ]
  },
  {
   "cell_type": "code",
   "execution_count": 33,
   "metadata": {
    "ExecuteTime": {
     "end_time": "2020-02-17T08:57:33.649128Z",
     "start_time": "2020-02-17T08:57:33.582620Z"
    }
   },
   "outputs": [],
   "source": [
    "timesteps_df = pd.read_csv(\"output_metadata_2017_10min.csv\", sep=\",\", comment=\"#\")"
   ]
  },
  {
   "cell_type": "code",
   "execution_count": 34,
   "metadata": {
    "ExecuteTime": {
     "end_time": "2020-02-17T08:57:34.537788Z",
     "start_time": "2020-02-17T08:57:34.521058Z"
    }
   },
   "outputs": [],
   "source": [
    "def get_transp_EB(index):\n",
    "    EB = data_EB[int(index)-1]\n",
    "    return EB\n",
    "\n",
    "def get_transp_EE(index):\n",
    "    EE = data_EE[int(index)-1]\n",
    "    return EE\n",
    "\n",
    "def get_transp_interval(timestamp):\n",
    "    last_meas = meta[(meta.time < timestamp)].iloc[-1]\n",
    "    next_meas = meta[(meta.time > timestamp)]\n",
    "    if next_meas.empty:\n",
    "        return last_meas, pd.DataFrame()\n",
    "    #print(\"{} {} | {}| x0: {} | Interval diff {:.3f}\".format(last_meas.time, next_meas.time,  timestamp,timestamp- last_meas.time, ( next_meas.time - last_meas.time) / 60))\n",
    "    return last_meas, next_meas.iloc[0]\n",
    "\n",
    "\n",
    "def interpolate_transp(x, x0, x1, y0, y1):\n",
    "    z = (x - x0)*( (y1-y0)/(x1-x0)) + y0\n",
    "    #print(f\"x {x}, x0 {x0}, x1 {x1}, y0 {y0}, y1 {y1} ---> {z}\")\n",
    "    return z\n",
    "\n",
    "\n",
    "\n",
    "def get_transp_interpolate(timestamp):\n",
    "    Z0, Z1 = get_transp_interval(timestamp)\n",
    "    if Z1.empty:\n",
    "        return np.array([]), np.array([])\n",
    "    transp_EB_y0 = get_transp_EB(Z0.transp_entry)\n",
    "    transp_EB_y1 = get_transp_EB(Z1.transp_entry)\n",
    "    trans_EB = interpolate_transp(timestamp, Z0.time, Z1.time,  transp_EB_y0, transp_EB_y1)\n",
    "    \n",
    "    transp_EE_y0 = get_transp_EE(Z0.transp_entry)\n",
    "    transp_EE_y1 = get_transp_EE(Z1.transp_entry)\n",
    "    trans_EE =  interpolate_transp(timestamp,  Z0.time, Z1.time,  transp_EE_y0, transp_EE_y1)\n",
    "    return trans_EB, trans_EE\n"
   ]
  },
  {
   "cell_type": "code",
   "execution_count": null,
   "metadata": {
    "ExecuteTime": {
     "start_time": "2020-02-17T08:57:35.224Z"
    },
    "scrolled": true
   },
   "outputs": [
    {
     "name": "stdout",
     "output_type": "stream",
     "text": [
      "0/27470\n",
      "100/27470\n",
      "200/27470\n",
      "300/27470\n",
      "400/27470\n",
      "500/27470\n",
      "600/27470\n",
      "700/27470\n",
      "800/27470\n",
      "900/27470\n",
      "1000/27470\n",
      "1100/27470\n",
      "1200/27470\n",
      "1300/27470\n",
      "1400/27470\n",
      "1500/27470\n",
      "1600/27470\n",
      "1700/27470\n",
      "1800/27470\n",
      "1900/27470\n",
      "2000/27470\n",
      "2100/27470\n",
      "2200/27470\n",
      "2300/27470\n",
      "2400/27470\n",
      "2500/27470\n",
      "2600/27470\n",
      "2700/27470\n",
      "2800/27470\n",
      "2900/27470\n",
      "3000/27470\n",
      "3100/27470\n",
      "3200/27470\n",
      "3300/27470\n",
      "3400/27470\n",
      "3500/27470\n",
      "3600/27470\n",
      "3700/27470\n",
      "3800/27470\n",
      "3900/27470\n",
      "4000/27470\n",
      "4100/27470\n",
      "4200/27470\n",
      "4300/27470\n",
      "4400/27470\n",
      "4500/27470\n",
      "4600/27470\n",
      "4700/27470\n",
      "4800/27470\n",
      "4900/27470\n",
      "5000/27470\n",
      "5100/27470\n",
      "5200/27470\n",
      "5300/27470\n",
      "5400/27470\n",
      "5500/27470\n",
      "5600/27470\n",
      "5700/27470\n",
      "5800/27470\n",
      "5900/27470\n",
      "6000/27470\n",
      "6100/27470\n",
      "6200/27470\n",
      "6300/27470\n",
      "6400/27470\n",
      "6500/27470\n",
      "6600/27470\n",
      "6700/27470\n",
      "6800/27470\n",
      "6900/27470\n",
      "7000/27470\n",
      "7100/27470\n",
      "7200/27470\n",
      "7300/27470\n",
      "7400/27470\n",
      "7500/27470\n",
      "7600/27470\n",
      "7700/27470\n",
      "7800/27470\n",
      "7900/27470\n",
      "8000/27470\n",
      "8100/27470\n",
      "8200/27470\n",
      "8300/27470\n",
      "8400/27470\n",
      "8500/27470\n",
      "8600/27470\n",
      "8700/27470\n",
      "8800/27470\n",
      "8900/27470\n",
      "9000/27470\n",
      "9100/27470\n",
      "9200/27470\n",
      "9300/27470\n",
      "9400/27470\n",
      "9500/27470\n",
      "9600/27470\n",
      "9700/27470\n",
      "9800/27470\n",
      "9900/27470\n",
      "10000/27470\n",
      "10100/27470\n",
      "10200/27470\n",
      "10300/27470\n",
      "10400/27470\n",
      "10500/27470\n",
      "10600/27470\n",
      "10700/27470\n",
      "10800/27470\n",
      "10900/27470\n",
      "11000/27470\n",
      "11100/27470\n",
      "11200/27470\n",
      "11300/27470\n",
      "11400/27470\n",
      "11500/27470\n",
      "11600/27470\n",
      "11700/27470\n",
      "11800/27470\n",
      "11900/27470\n",
      "12000/27470\n",
      "12100/27470\n",
      "12200/27470\n",
      "12300/27470\n",
      "12400/27470\n",
      "12500/27470\n",
      "12600/27470\n",
      "12700/27470\n",
      "12800/27470\n",
      "12900/27470\n",
      "13000/27470\n",
      "13100/27470\n",
      "13200/27470\n",
      "13300/27470\n",
      "13400/27470\n",
      "13500/27470\n",
      "13600/27470\n",
      "13700/27470\n",
      "13800/27470\n",
      "13900/27470\n",
      "14000/27470\n",
      "14100/27470\n",
      "14200/27470\n",
      "14300/27470\n",
      "14400/27470\n",
      "14500/27470\n",
      "14600/27470\n",
      "14700/27470\n",
      "14800/27470\n",
      "14900/27470\n",
      "15000/27470\n",
      "15100/27470\n",
      "15200/27470\n",
      "15300/27470\n",
      "15400/27470\n",
      "15500/27470\n"
     ]
    }
   ],
   "source": [
    "transp_EB_output = []\n",
    "transp_EE_output = []\n",
    "\n",
    "\n",
    "tot = len(timesteps_df)\n",
    "\n",
    "for iev, row in timesteps_df.iterrows():\n",
    "    if iev % 100 == 0:\n",
    "        print(f\"{iev}/{tot}\")\n",
    "    \n",
    "    tEB, tEE = get_transp_interpolate(row.time)\n",
    "    \n",
    "    if tEB.size == 0 or tEE.size == 0:\n",
    "        break\n",
    "    transp_EB_output.append(tEB)\n",
    "    transp_EE_output.append(tEE)\n",
    "\n",
    "\n",
    "\n",
    "np.save(\"output_transp_EB_ix1_10min.npy\",  np.array(transp_EB_output))\n",
    "np.save(\"output_transp_EE_ix1_10min.npy\",  np.array(transp_EE_output))"
   ]
  },
  {
   "cell_type": "code",
   "execution_count": null,
   "metadata": {},
   "outputs": [],
   "source": []
  }
 ],
 "metadata": {
  "kernelspec": {
   "display_name": "Python 3",
   "language": "python",
   "name": "python3"
  },
  "language_info": {
   "codemirror_mode": {
    "name": "ipython",
    "version": 3
   },
   "file_extension": ".py",
   "mimetype": "text/x-python",
   "name": "python",
   "nbconvert_exporter": "python",
   "pygments_lexer": "ipython3",
   "version": "3.6.5"
  },
  "toc": {
   "base_numbering": 1,
   "nav_menu": {},
   "number_sections": true,
   "sideBar": true,
   "skip_h1_title": false,
   "title_cell": "Table of Contents",
   "title_sidebar": "Contents",
   "toc_cell": false,
   "toc_position": {},
   "toc_section_display": true,
   "toc_window_display": false
  },
  "varInspector": {
   "cols": {
    "lenName": 16,
    "lenType": 16,
    "lenVar": 40
   },
   "kernels_config": {
    "python": {
     "delete_cmd_postfix": "",
     "delete_cmd_prefix": "del ",
     "library": "var_list.py",
     "varRefreshCmd": "print(var_dic_list())"
    },
    "r": {
     "delete_cmd_postfix": ") ",
     "delete_cmd_prefix": "rm(",
     "library": "var_list.r",
     "varRefreshCmd": "cat(var_dic_list()) "
    }
   },
   "types_to_exclude": [
    "module",
    "function",
    "builtin_function_or_method",
    "instance",
    "_Feature"
   ],
   "window_display": false
  }
 },
 "nbformat": 4,
 "nbformat_minor": 2
}
