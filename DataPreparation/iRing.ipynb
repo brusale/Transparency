{
 "cells": [
  {
   "cell_type": "code",
   "execution_count": null,
   "metadata": {
    "scrolled": true
   },
   "outputs": [],
   "source": [
    "import matplotlib.pyplot as plt\n",
    "import matplotlib as mpl\n",
    "import pandas as pd\n",
    "import numpy as np\n",
    "from pprint import pprint\n",
    "from collections import namedtuple\n",
    "import argparse\n",
    "import subprocess\n",
    "\n",
    "parser = argparse.ArgumentParser()\n",
    "parser.add_argument(\"--transparency-metadata\", help=\"Transparency metadata file\", type=str)\n",
    "parser.add_argument(\"--timestamps-metadata\", help=\"Timestamps metadata file\", type=str)\n",
    "parser.add_argument(\"-o\",\"--output-file\", help=\"Output file\", type=str)\n",
    "parser.add_argument(\"--iring\", help=\"iring\", type=int)\n",
    "parser.add_argument(\"-d\",\"--data\", help=\"Data folder\")\n",
    "args = parser.parse_args()"
   ]
  },
  {
   "cell_type": "code",
   "execution_count": null,
   "metadata": {},
   "outputs": [],
   "source": [
    "data_EE = np.load(f\"{args.data}/transp_data_EE.npy\", mmap_mode=\"r\")\n",
    "data_EB = np.load(f\"{args.data}/transp_data_EB.npy\", mmap_mode=\"r\")\n",
    "\n",
    "\n",
    "# ## Read brilcalc metadata\n",
    "\n",
    "meta = pd.read_csv(args.transparency_metadata,sep=\",\").astype(\n",
    "            {\"transp_entry\":\"int64\", \"time\": \"int64\", \"fill_num\":\"int64\", \"time_in_fill\":\"int64\", \"time_in_fill_stable\":\"int64\"})\n",
    "\n",
    "\n",
    "timestamps_df = pd.read_csv(args.timestamps_metadata, sep=\",\", comment=\"#\")\n"
   ]
  },
  {
   "cell_type": "code",
   "execution_count": null,
   "metadata": {},
   "outputs": [],
   "source": [
    "iring_df = pd.read_csv('https://raw.githubusercontent.com/amassiro/EcalPF/master/test/draw/eerings.dat', sep='\\s', header=None, names=['ix', 'iy', 'iz', 'iring'], engine='python')"
   ]
  },
  {
   "cell_type": "code",
   "execution_count": null,
   "metadata": {},
   "outputs": [],
   "source": [
    "iring_df = iring_df[iring_df['iring'] == args.iring]"
   ]
  },
  {
   "cell_type": "code",
   "execution_count": null,
   "metadata": {},
   "outputs": [],
   "source": [
    "def get_transp_EB(index, x, y):\n",
    "    EB = data_EB[int(index)-1][x, y]\n",
    "    return EB\n",
    "\n",
    "def get_transp_EE(index, z, x, y):\n",
    "    EE = data_EE[int(index)-1][z][x, y]\n",
    "    return EE\n",
    "\n",
    "def get_transp_interval(timestamp):\n",
    "    last_meas = meta[(meta.time < timestamp)].iloc[-1]\n",
    "    next_meas = meta[(meta.time > timestamp)]\n",
    "    if next_meas.empty:\n",
    "        return last_meas, pd.DataFrame()\n",
    "    #print(\"{} {} | {}| x0: {} | Interval diff {:.3f}\".format(last_meas.time, next_meas.time,  timestamp,timestamp- last_meas.time, ( next_meas.time - last_meas.time) / 60))\n",
    "    return last_meas, next_meas.iloc[0]\n",
    "\n",
    "\n",
    "def interpolate_transp(x, x0, x1, y0, y1):\n",
    "    z = (x - x0)*( (y1-y0)/(x1-x0)) + y0\n",
    "    #print(f\"x {x}, x0 {x0}, x1 {x1}, y0 {y0}, y1 {y1} ---> {z}\")\n",
    "    return z\n",
    "\n",
    "\n",
    "def get_transp_interpolate(timestamp, x, y, z):\n",
    "    Z0, Z1 = get_transp_interval(timestamp)\n",
    "    if Z1.empty:\n",
    "        return -1.\n",
    "\n",
    "    if z == 0:\n",
    "        transp_EB_y0 = get_transp_EB(Z0.transp_entry, x, y)\n",
    "        transp_EB_y1 = get_transp_EB(Z1.transp_entry, x, y)\n",
    "        trans_EB = interpolate_transp(timestamp, Z0.time, Z1.time,  transp_EB_y0, transp_EB_y1)\n",
    "        return trans_EB\n",
    "    \n",
    "    if z == 1:\n",
    "        transp_EE_y0 = get_transp_EE(Z0.transp_entry, 0, x, y)\n",
    "        transp_EE_y1 = get_transp_EE(Z1.transp_entry, 0, x, y)\n",
    "        trans_EE =  interpolate_transp(timestamp,  Z0.time, Z1.time,  transp_EE_y0, transp_EE_y1)\n",
    "        return trans_EE\n",
    "\n",
    "    if z == -1:\n",
    "        transp_EE_y0 = get_transp_EE(Z0.transp_entry, 1, x, y)\n",
    "        transp_EE_y1 = get_transp_EE(Z1.transp_entry, 1, x, y)\n",
    "        trans_EE =  interpolate_transp(timestamp,  Z0.time, Z1.time,  transp_EE_y0, transp_EE_y1)\n",
    "        return trans_EE\n",
    "   \n",
    "    "
   ]
  },
  {
   "cell_type": "code",
   "execution_count": null,
   "metadata": {},
   "outputs": [],
   "source": [
    "transp_output = []\n",
    "tot = len(timestamps_df)\n",
    "    \n",
    "for i in range(0, len(iring_df.axes[0])):\n",
    "    print(f\"{i}/{len(iring_df.axes[0])}\")\n",
    "    tran = []\n",
    "    for iev, row in timestamps_df.iterrows():\n",
    "        #if iev % 100 == 0:\n",
    "            #print(f\"{iev}/{tot}\")\n",
    "            tran.append(get_transp_interpolate(row.time, (iring_df.iloc[i]['ix'])-1, (iring_df.iloc[i]['iy'])-1, iring_df.iloc[i]['iz']))\n",
    "    \n",
    "    transp_output.append(tran)\n",
    "    \n",
    "np.save(args.output_file,  np.array(transp_output))\n"
   ]
  },
  {
   "cell_type": "code",
   "execution_count": null,
   "metadata": {},
   "outputs": [],
   "source": []
  }
 ],
 "metadata": {
  "kernelspec": {
   "display_name": "Python 3",
   "language": "python",
   "name": "python3"
  },
  "language_info": {
   "codemirror_mode": {
    "name": "ipython",
    "version": 3
   },
   "file_extension": ".py",
   "mimetype": "text/x-python",
   "name": "python",
   "nbconvert_exporter": "python",
   "pygments_lexer": "ipython3",
   "version": "3.7.4"
  }
 },
 "nbformat": 4,
 "nbformat_minor": 2
}
